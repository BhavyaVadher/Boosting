{
  "cells": [
    {
      "cell_type": "markdown",
      "metadata": {
        "_cell_guid": "79c7e3d0-c299-4dcb-8224-4455121ee9b0",
        "_uuid": "d629ff2d2480ee46fbb7e2d37f6b5fab8052498a",
        "collapsed": true,
        "id": "u93kzhf1D3UX"
      },
      "source": [
        "\n",
        "# <center><u>**`Ensemble ML Algorithms - Boosting`**</u></center>\n",
        "\n",
        "\n",
        "\n",
        "\n",
        "## **`TalkingData: Fraudulent Click Prediction`**\n",
        "\n",
        "\n",
        "\n",
        "\n"
      ]
    },
    {
      "cell_type": "markdown",
      "metadata": {
        "id": "DThpWOx6D3UZ"
      },
      "source": [
        "In this assignment, we will apply various boosting algorithms to solve an interesting classification problem from the domain of 'digital fraud'.\n",
        "\n",
        "The analysis is divided into the following sections:\n",
        "- `Understanding the business problem`\n",
        "- `Understanding and exploring the data`\n",
        "- `Feature engineering: Creating new features`\n",
        "- `Model building and evaluation: AdaBoost`\n",
        "- `Modelling building and evaluation: Gradient Boosting`\n",
        "- `Modelling building and evaluation: XGBoost`\n",
        "- `Modelling building and evaluation: LightGBM`\n",
        "- `Modelling building and evaluation: CatBoost`\n",
        "\n",
        "\n"
      ]
    },
    {
      "cell_type": "markdown",
      "metadata": {
        "id": "AZvCLMIhD3Ua"
      },
      "source": [
        "## **`Understanding the Business Problem`**\n",
        "\n",
        "<p style='text-align: right;'> 5 points</p>\n",
        "\n",
        "\n",
        "<a href=\"https://www.talkingdata.com/\">TalkingData</a> is a Chinese big data company, and one of their areas of expertise is mobile advertisements.\n",
        "\n",
        "In mobile advertisements, **click fraud** is a major source of losses. Click fraud is the practice of repeatedly clicking on an advertisement hosted on a website with the intention of generating revenue for the host website or draining revenue from the advertiser.\n",
        "\n",
        "In this case, TalkingData happens to be serving the advertisers (their clients). TalkingData cover a whopping **approx. 70% of the active mobile devices in China**, of which 90% are potentially fraudulent (i.e. the user is actually not going to download the app after clicking).\n",
        "\n",
        "You can imagine the amount of money they can help clients save if they are able to predict whether a given click is fraudulent (or equivalently, whether a given click will result in a download). \n",
        "\n",
        "Their current approach to solve this problem is that they've generated a blacklist of IP addresses - those IPs which produce lots of clicks, but never install any apps. Now, they want to try some advanced techniques to predict the probability of a click being genuine/fraud.\n",
        "\n",
        "In this problem, we will use the features associated with clicks, such as IP address, operating system, device type, time of click etc. to predict the probability of a click being fraud.\n",
        "\n",
        "They have released <a href=\"https://www.kaggle.com/c/talkingdata-adtracking-fraud-detection\">the problem on Kaggle here.</a>."
      ]
    },
    {
      "cell_type": "markdown",
      "metadata": {
        "id": "mOroROEND3Ub"
      },
      "source": [
        "## **`Understanding and Exploring the Data`**\n",
        "\n",
        "The data contains observations of about 240 million clicks, and whether a given click resulted in a download or not (1/0). \n",
        "\n",
        "On Kaggle, the data is split into train.csv and train_sample.csv (100,000 observations). We'll use the smaller train_sample.csv in this notebook for speed, though while training the model for Kaggle submissions, the full training data will obviously produce better results.\n",
        "\n",
        "The detailed data dictionary is mentioned here:\n",
        "- ```ip```: ip address of click.\n",
        "- ```app```: app id for marketing.\n",
        "- ```device```: device type id of user mobile phone (e.g., iphone 6 plus, iphone 7, huawei mate 7, etc.)\n",
        "- ```os```: os version id of user mobile phone\n",
        "- ```channel```: channel id of mobile ad publisher\n",
        "- ```click_time```: timestamp of click (UTC)\n",
        "- ```attributed_time```: if user download the app for after clicking an ad, this is the time of the app download\n",
        "- ```is_attributed```: the target that is to be predicted, indicating the app was downloaded\n",
        "\n",
        "Let's try finding some useful trends in the data."
      ]
    },
    {
      "cell_type": "code",
      "execution_count": 13,
      "metadata": {
        "_cell_guid": "5ba86a36-b8be-44db-ad92-e3cddbb354d1",
        "_uuid": "cd4d66f4ecc6daa0ea4cab6359fc5203112f245c",
        "id": "wEs3rPsoD3Uc"
      },
      "outputs": [],
      "source": [
        "#importing important libraries\n",
        "\n",
        "import numpy as np \n",
        "import pandas as pd \n",
        "import sklearn\n",
        "import matplotlib.pyplot as plt\n",
        "import seaborn as sns\n",
        "import datetime\n",
        "from sklearn.model_selection import train_test_split\n",
        "from sklearn.model_selection import KFold\n",
        "from sklearn.model_selection import GridSearchCV\n",
        "from sklearn.model_selection import RandomizedSearchCV\n",
        "\n",
        "from sklearn.model_selection import cross_val_score\n",
        "from sklearn.preprocessing import LabelEncoder\n",
        "from sklearn.tree import DecisionTreeClassifier\n",
        "from sklearn.ensemble import AdaBoostClassifier\n",
        "from sklearn.ensemble import GradientBoostingClassifier\n",
        "from sklearn import metrics\n",
        "import xgboost as xgb\n",
        "from xgboost import XGBClassifier\n",
        "from xgboost import plot_importance\n",
        "import gc # for deleting unused variables\n",
        "%matplotlib inline\n",
        "\n",
        "import os\n",
        "import warnings\n",
        "warnings.filterwarnings('ignore')"
      ]
    },
    {
      "cell_type": "markdown",
      "metadata": {
        "_cell_guid": "d408baf0-f640-45f3-8dec-141746a985a8",
        "_uuid": "7a3dc1d7ebed1cdc9818338682bf5858e276681e",
        "id": "4rn6B52SD3Ud"
      },
      "source": [
        "#### `Reading the Data` \n",
        "\n",
        "The code below reads the train_sample.csv file if you set testing = True, else reads the full train.csv file. You can read the sample while tuning the model etc., and then run the model on the full data once done.\n",
        "\n",
        "#### `Important Note: Save memory when the data is huge`\n",
        "\n",
        "Since the training data is quite huge, the program will be quite slow if you don't consciously follow some best practices to save memory. This notebook demonstrates some of those practices. "
      ]
    },
    {
      "cell_type": "code",
      "execution_count": 14,
      "metadata": {
        "_cell_guid": "54ed4833-efb3-4adf-971b-28a56ae19d01",
        "_uuid": "bac7dea7334ff1fb925347f9302b3d06e189fbc7",
        "id": "ylU947HvD3Ue",
        "scrolled": false
      },
      "outputs": [],
      "source": [
        "# reading training data\n",
        "\n",
        "# specify column dtypes to save memory (by default pandas reads some columns as floats)\n",
        "# note that click_id is only in test data, not training data\n",
        "dtypes = {\n",
        "        'ip'            : 'uint16',\n",
        "        'app'           : 'uint16',\n",
        "        'device'        : 'uint16',\n",
        "        'os'            : 'uint16',\n",
        "        'channel'       : 'uint16',\n",
        "        'is_attributed' : 'uint8',\n",
        "        'click_id'      : 'uint32' \n",
        "        }\n",
        "\n",
        "# read training_sample.csv for quick testing/debug, else read the full train.csv\n",
        "testing = True\n",
        "if testing:\n",
        "    train_path = \"train_sample.csv\"\n",
        "    skiprows = None\n",
        "    nrows = None\n",
        "    colnames=['ip','app','device','os', 'channel', 'click_time', 'is_attributed']\n",
        "else:\n",
        "    train_path = \"train.csv\"\n",
        "    skiprows = range(1, 144903891)\n",
        "    nrows = 10000000\n",
        "    colnames=['ip','app','device','os', 'channel', 'click_time', 'is_attributed']\n",
        "\n",
        "# read training data (train_sample.csv)\n",
        "train_sample = pd.read_csv(train_path,skiprows=skiprows,nrows=nrows,dtype=dtypes,usecols=colnames)\n"
      ]
    },
    {
      "cell_type": "code",
      "execution_count": 15,
      "metadata": {
        "_cell_guid": "98d1b00a-8ee6-4959-9091-e8b56e4bcb15",
        "_uuid": "a9f5559317e6cc476c47b166bd95118c9f29dbbe",
        "colab": {
          "base_uri": "https://localhost:8080/"
        },
        "id": "__DK7dKCD3Ug",
        "outputId": "3e49a52a-7661-4d14-d0fb-bb0457510af2"
      },
      "outputs": [
        {
          "data": {
            "text/plain": [
              "100000"
            ]
          },
          "execution_count": 15,
          "metadata": {},
          "output_type": "execute_result"
        }
      ],
      "source": [
        "# Printing length of training data\n",
        "\n",
        "len(train_sample.index)\n"
      ]
    },
    {
      "cell_type": "markdown",
      "metadata": {
        "id": "MCt2oiT6D3Uj"
      },
      "source": [
        "To get memory consumed by each column use memory_usage() function on train_sample\n",
        "\n",
        "Refer: https://www.w3resource.com/pandas/dataframe/dataframe-memory_usage.php"
      ]
    },
    {
      "cell_type": "code",
      "execution_count": 16,
      "metadata": {
        "_cell_guid": "7743ffd9-a38c-4130-b7d4-373e324bd9ae",
        "_uuid": "663ed1e0137fce0f2a5b2ebd02c7bf6a35c506c7",
        "colab": {
          "base_uri": "https://localhost:8080/"
        },
        "id": "pqrdhOIyD3Uk",
        "outputId": "ef1fd632-ed3d-46c9-bd1a-c297383a4594",
        "scrolled": true
      },
      "outputs": [
        {
          "name": "stdout",
          "output_type": "stream",
          "text": [
            "Index               128\n",
            "ip               200000\n",
            "app              200000\n",
            "device           200000\n",
            "os               200000\n",
            "channel          200000\n",
            "click_time       800000\n",
            "is_attributed    100000\n",
            "dtype: int64\n"
          ]
        }
      ],
      "source": [
        "# Displays memory consumed by each column ---\n",
        "\n",
        "print(train_sample.memory_usage())"
      ]
    },
    {
      "cell_type": "markdown",
      "metadata": {
        "id": "2oETlzPKD3Ul"
      },
      "source": [
        "To get space used by training data then use sum of memory consumed by each variable divided by 1024**2\n"
      ]
    },
    {
      "cell_type": "code",
      "execution_count": 17,
      "metadata": {
        "_cell_guid": "196408ab-7891-4f75-bf3a-c491525ab4ff",
        "_uuid": "4c4323fe3fdf0f12fd065c83b253385a5826413c",
        "colab": {
          "base_uri": "https://localhost:8080/"
        },
        "id": "BW05Lt3DD3Ul",
        "outputId": "b263617c-d776-48ad-d2fb-9aff7ddc73f1"
      },
      "outputs": [
        {
          "name": "stdout",
          "output_type": "stream",
          "text": [
            "training data uses 1.812103271484375 MB\n"
          ]
        }
      ],
      "source": [
        "# space used by training data\n",
        "print('training data uses {0} MB'.format(train_sample.memory_usage().sum()/1024**2))"
      ]
    },
    {
      "cell_type": "code",
      "execution_count": 18,
      "metadata": {
        "_cell_guid": "85dce024-c56b-412d-b230-7a42d1e61661",
        "_uuid": "831d573b61c925fed93c55d4a4094e2f374e727b",
        "colab": {
          "base_uri": "https://localhost:8080/",
          "height": 205
        },
        "id": "tAPg-EDgD3Um",
        "outputId": "f853e3df-4d3d-4600-9763-8e275c6d5eea",
        "scrolled": true
      },
      "outputs": [
        {
          "data": {
            "text/html": [
              "<div>\n",
              "<style scoped>\n",
              "    .dataframe tbody tr th:only-of-type {\n",
              "        vertical-align: middle;\n",
              "    }\n",
              "\n",
              "    .dataframe tbody tr th {\n",
              "        vertical-align: top;\n",
              "    }\n",
              "\n",
              "    .dataframe thead th {\n",
              "        text-align: right;\n",
              "    }\n",
              "</style>\n",
              "<table border=\"1\" class=\"dataframe\">\n",
              "  <thead>\n",
              "    <tr style=\"text-align: right;\">\n",
              "      <th></th>\n",
              "      <th>ip</th>\n",
              "      <th>app</th>\n",
              "      <th>device</th>\n",
              "      <th>os</th>\n",
              "      <th>channel</th>\n",
              "      <th>click_time</th>\n",
              "      <th>is_attributed</th>\n",
              "    </tr>\n",
              "  </thead>\n",
              "  <tbody>\n",
              "    <tr>\n",
              "      <th>0</th>\n",
              "      <td>22004</td>\n",
              "      <td>12</td>\n",
              "      <td>1</td>\n",
              "      <td>13</td>\n",
              "      <td>497</td>\n",
              "      <td>2017-11-07 09:30:38</td>\n",
              "      <td>0</td>\n",
              "    </tr>\n",
              "    <tr>\n",
              "      <th>1</th>\n",
              "      <td>40024</td>\n",
              "      <td>25</td>\n",
              "      <td>1</td>\n",
              "      <td>17</td>\n",
              "      <td>259</td>\n",
              "      <td>2017-11-07 13:40:27</td>\n",
              "      <td>0</td>\n",
              "    </tr>\n",
              "    <tr>\n",
              "      <th>2</th>\n",
              "      <td>35888</td>\n",
              "      <td>12</td>\n",
              "      <td>1</td>\n",
              "      <td>19</td>\n",
              "      <td>212</td>\n",
              "      <td>2017-11-07 18:05:24</td>\n",
              "      <td>0</td>\n",
              "    </tr>\n",
              "    <tr>\n",
              "      <th>3</th>\n",
              "      <td>29048</td>\n",
              "      <td>13</td>\n",
              "      <td>1</td>\n",
              "      <td>13</td>\n",
              "      <td>477</td>\n",
              "      <td>2017-11-07 04:58:08</td>\n",
              "      <td>0</td>\n",
              "    </tr>\n",
              "    <tr>\n",
              "      <th>4</th>\n",
              "      <td>2877</td>\n",
              "      <td>12</td>\n",
              "      <td>1</td>\n",
              "      <td>1</td>\n",
              "      <td>178</td>\n",
              "      <td>2017-11-09 09:00:09</td>\n",
              "      <td>0</td>\n",
              "    </tr>\n",
              "  </tbody>\n",
              "</table>\n",
              "</div>"
            ],
            "text/plain": [
              "      ip  app  device  os  channel           click_time  is_attributed\n",
              "0  22004   12       1  13      497  2017-11-07 09:30:38              0\n",
              "1  40024   25       1  17      259  2017-11-07 13:40:27              0\n",
              "2  35888   12       1  19      212  2017-11-07 18:05:24              0\n",
              "3  29048   13       1  13      477  2017-11-07 04:58:08              0\n",
              "4   2877   12       1   1      178  2017-11-09 09:00:09              0"
            ]
          },
          "execution_count": 18,
          "metadata": {},
          "output_type": "execute_result"
        }
      ],
      "source": [
        "# training data top rows\n",
        "train_sample.head()"
      ]
    },
    {
      "cell_type": "markdown",
      "metadata": {
        "_cell_guid": "047cdedb-b9a4-4185-9079-31d19e418dd5",
        "_uuid": "bdca59dbbab3ea6e7938ed6348bda8b022b54437",
        "id": "r_u94Wa8D3Un"
      },
      "source": [
        "### `Exploring the Data - Univariate Analysis`\n"
      ]
    },
    {
      "cell_type": "markdown",
      "metadata": {
        "_cell_guid": "f1924177-9395-4f17-bbec-6746cf8c360e",
        "_uuid": "778a6efbfc8c7c9d82f6aa6c84af3e145777be13",
        "id": "RAONtm2kD3Un"
      },
      "source": [
        "Let's now understand and explore the data. Let's start with understanding the size and data types of the train_sample data."
      ]
    },
    {
      "cell_type": "code",
      "execution_count": 19,
      "metadata": {
        "_cell_guid": "4539d9f9-fe8e-438b-9c6e-8d0f4d089e17",
        "_uuid": "0aff4ad2d4abb7a49cfeccbd0d65f96a5256eab8",
        "colab": {
          "base_uri": "https://localhost:8080/"
        },
        "id": "VFe2i-5fD3Un",
        "outputId": "9cbda44b-b7a6-488e-b32e-20aa79204885"
      },
      "outputs": [
        {
          "name": "stdout",
          "output_type": "stream",
          "text": [
            "<class 'pandas.core.frame.DataFrame'>\n",
            "RangeIndex: 100000 entries, 0 to 99999\n",
            "Data columns (total 7 columns):\n",
            " #   Column         Non-Null Count   Dtype \n",
            "---  ------         --------------   ----- \n",
            " 0   ip             100000 non-null  uint16\n",
            " 1   app            100000 non-null  uint16\n",
            " 2   device         100000 non-null  uint16\n",
            " 3   os             100000 non-null  uint16\n",
            " 4   channel        100000 non-null  uint16\n",
            " 5   click_time     100000 non-null  object\n",
            " 6   is_attributed  100000 non-null  uint8 \n",
            "dtypes: object(1), uint16(5), uint8(1)\n",
            "memory usage: 1.8+ MB\n"
          ]
        }
      ],
      "source": [
        "# look at non-null values, null values, number of entries etc.\n",
        "train_sample.info()"
      ]
    },
    {
      "cell_type": "markdown",
      "metadata": {
        "id": "AiyvMM1rD3Uo"
      },
      "source": [
        "You can see that there is no missing values\n",
        "\n",
        "## `Basic exploratory analysis `\n",
        "\n",
        "<p style='text-align: right;'> 10 points</p>\n",
        "\n",
        "\n",
        "1. Number of unique values in each column\n"
      ]
    },
    {
      "cell_type": "code",
      "execution_count": 20,
      "metadata": {
        "_cell_guid": "dd930aa6-557f-4b59-9a36-8f940324f594",
        "_uuid": "816535e82869da6601f9dd7227a201adda9843d1",
        "colab": {
          "base_uri": "https://localhost:8080/"
        },
        "id": "DD8nAsb-D3Uo",
        "outputId": "f23befe8-9c38-4b2e-8f3d-da573f40f25e",
        "scrolled": false
      },
      "outputs": [
        {
          "name": "stdout",
          "output_type": "stream",
          "text": [
            "{'ip': 28470, 'app': 161, 'device': 100, 'os': 130, 'channel': 161, 'click_time': 80350, 'is_attributed': 2}\n"
          ]
        }
      ],
      "source": [
        "# Define a function to fetch unique values in each column\n",
        "def fraction_unique(x):\n",
        "    # return unique values\n",
        "    return len(train_sample[x].unique())\n",
        "\n",
        "# one line code to use above function and creating a dictionary\n",
        "number_unique_vals = {x : fraction_unique(x) for x in train_sample.columns}\n",
        "\n",
        "#print dictionary of Unique values\n",
        "print(number_unique_vals)"
      ]
    },
    {
      "cell_type": "markdown",
      "metadata": {
        "id": "ZNc24VdED3Uo"
      },
      "source": [
        "2. Checking data type of each columns"
      ]
    },
    {
      "cell_type": "code",
      "execution_count": 21,
      "metadata": {
        "_cell_guid": "408e795a-2d0d-4ae0-bf96-868721d9394d",
        "_uuid": "c6bd82f7f439f73bf543d2313c82e4d3e99519e4",
        "colab": {
          "base_uri": "https://localhost:8080/"
        },
        "id": "TIBrWcz8D3Up",
        "outputId": "86eaf9c0-b65e-4ed2-8c13-ec33401acf73"
      },
      "outputs": [
        {
          "data": {
            "text/plain": [
              "ip               uint16\n",
              "app              uint16\n",
              "device           uint16\n",
              "os               uint16\n",
              "channel          uint16\n",
              "click_time       object\n",
              "is_attributed     uint8\n",
              "dtype: object"
            ]
          },
          "execution_count": 21,
          "metadata": {},
          "output_type": "execute_result"
        }
      ],
      "source": [
        "# each column data type\n",
        "train_sample.dtypes"
      ]
    },
    {
      "cell_type": "markdown",
      "metadata": {
        "id": "2T3DGwEID3Up"
      },
      "source": [
        "You will see that all columns apart from click time are originally int type, though note that they are all actually categorical "
      ]
    },
    {
      "cell_type": "markdown",
      "metadata": {
        "_cell_guid": "a329709b-2d48-4b32-8491-d0a3a57a9635",
        "_uuid": "16271bff54cffd07c656c21023b0a1cb62297960",
        "id": "oiX69GjLD3Uq"
      },
      "source": [
        "There are certain 'apps' which have quite high number of instances/rows (each row is a click). So lets plot it below "
      ]
    },
    {
      "cell_type": "code",
      "execution_count": 22,
      "metadata": {
        "_cell_guid": "3e9c25d8-31a7-4b43-b2ac-5ecc21921f26",
        "_uuid": "b99fbb4955c7f05d78495d958d16d673479aca64",
        "colab": {
          "base_uri": "https://localhost:8080/",
          "height": 351
        },
        "id": "CLmSle3kD3Uq",
        "outputId": "7a1ada8d-3755-4548-d893-19933fac4ce0",
        "scrolled": false
      },
      "outputs": [
        {
          "data": {
            "image/png": "[encoded data removed]",
            "text/plain": [
              "<Figure size 1500x600 with 1 Axes>"
            ]
          },
          "metadata": {},
          "output_type": "display_data"
        }
      ],
      "source": [
        "#distribution of 'app' \n",
        "plt.figure(figsize=(15, 6))\n",
        "sns.countplot(x='app',data=train_sample)\n",
        "plt.show()"
      ]
    },
    {
      "cell_type": "markdown",
      "metadata": {
        "id": "6Tb5ICFGD3Ur"
      },
      "source": [
        "some 'apps' have a disproportionately high number of clicks (>15k), and some are very rare (3-4)\n",
        "\n",
        "Let us now plot device distribution below "
      ]
    },
    {
      "cell_type": "code",
      "execution_count": 23,
      "metadata": {
        "_cell_guid": "77e73dce-cf2f-43a9-b0a8-fe5956ff99a9",
        "_uuid": "d3815fab7e31db39452c9fca0b3ade757124da25",
        "colab": {
          "base_uri": "https://localhost:8080/",
          "height": 350
        },
        "id": "ljelEux4D3Ur",
        "outputId": "2877efec-903b-42e0-89b5-0dd591dfda81"
      },
      "outputs": [
        {
          "data": {
            "image/png": "[encoded data removed]",
            "text/plain": [
              "<Figure size 1500x600 with 1 Axes>"
            ]
          },
          "metadata": {},
          "output_type": "display_data"
        }
      ],
      "source": [
        "# distribution of 'device' \n",
        "plt.figure(figsize=(15, 6))\n",
        "sns.countplot(x='device',data=train_sample)\n",
        "plt.show()"
      ]
    },
    {
      "cell_type": "markdown",
      "metadata": {
        "id": "BhKCORYWD3Ur"
      },
      "source": [
        "The above result is expected because a few popular devices are used heavily\n",
        "\n",
        "Let us now plot channel below"
      ]
    },
    {
      "cell_type": "code",
      "execution_count": 24,
      "metadata": {
        "_cell_guid": "098c5d37-5302-45e8-9845-eb3dfa7be87b",
        "_uuid": "656c6cfa30d189febea9bb4c12b2f2519c0b0cef",
        "colab": {
          "base_uri": "https://localhost:8080/",
          "height": 353
        },
        "id": "e23wBoTRD3Us",
        "outputId": "02ef9d14-e66f-4206-8d76-d62f10dee608"
      },
      "outputs": [
        {
          "data": {
            "image/png": "[encoded data removed]",
            "text/plain": [
              "<Figure size 1500x600 with 1 Axes>"
            ]
          },
          "metadata": {},
          "output_type": "display_data"
        }
      ],
      "source": [
        "# distribution of 'channel' \n",
        "\n",
        "plt.figure(figsize=(15, 6))\n",
        "\n",
        "sns.countplot(x='channel',data=train_sample)\n",
        "plt.show()"
      ]
    },
    {
      "cell_type": "markdown",
      "metadata": {
        "id": "rdMi9jwED3Us"
      },
      "source": [
        "you can see abobe that various channels get clicks in comparable quantities\n",
        "\n",
        "Lets see distribution of 'os' now "
      ]
    },
    {
      "cell_type": "code",
      "execution_count": 25,
      "metadata": {
        "_cell_guid": "c39356d4-3f97-41be-944f-ce88db264365",
        "_uuid": "8f33610186e195da39033b9a64cd2d11b244113a",
        "colab": {
          "base_uri": "https://localhost:8080/",
          "height": 354
        },
        "id": "HTxIlxxND3Us",
        "outputId": "84ae299d-e499-4b56-aedb-d8769b2dd8db",
        "scrolled": false
      },
      "outputs": [
        {
          "data": {
            "image/png": "[encoded data removed]",
            "text/plain": [
              "<Figure size 1500x600 with 1 Axes>"
            ]
          },
          "metadata": {},
          "output_type": "display_data"
        }
      ],
      "source": [
        "# distribution of 'os' \n",
        "\n",
        "plt.figure(figsize=(15, 6))\n",
        "sns.countplot(x='os',data=train_sample)\n",
        "plt.show()"
      ]
    },
    {
      "cell_type": "markdown",
      "metadata": {
        "id": "EhwMZakkD3Ut"
      },
      "source": [
        "there are a couple commos OSes (android and ios?), though some are rare and can indicate suspicion \n"
      ]
    },
    {
      "cell_type": "markdown",
      "metadata": {
        "_cell_guid": "a52d4651-f5ca-45e0-8b20-ec1f70d80edb",
        "_uuid": "6604d330cee83328b4e28790829c82b40fe83ef1",
        "id": "G6082JlGD3Ut"
      },
      "source": [
        "Let's now look at the distribution of the target  variable 'is_attributed'."
      ]
    },
    {
      "cell_type": "code",
      "execution_count": 26,
      "metadata": {
        "_cell_guid": "332d0c92-31f6-4109-91ba-5d1f38725ca8",
        "_uuid": "755b0ff3de0028805b6e33fe5b6fb70e5a1247d5",
        "colab": {
          "base_uri": "https://localhost:8080/"
        },
        "id": "--eILMxTD3Ut",
        "outputId": "251802a7-40b2-4edb-efde-93d7b3e6edf5",
        "scrolled": true
      },
      "outputs": [
        {
          "data": {
            "text/plain": [
              "0    99.773\n",
              "1     0.227\n",
              "Name: is_attributed, dtype: float64"
            ]
          },
          "execution_count": 26,
          "metadata": {},
          "output_type": "execute_result"
        }
      ],
      "source": [
        "# target variable distribution\n",
        "100*(train_sample['is_attributed'].astype('object').value_counts()/len(train_sample.index))"
      ]
    },
    {
      "cell_type": "markdown",
      "metadata": {
        "_cell_guid": "030933bd-d06b-42c8-8d1e-882f70776a74",
        "_uuid": "b604a87e4ca95bbcbe40e3192f7b66774c03d84d",
        "id": "c9tYYBg1D3Ut"
      },
      "source": [
        "Only **about 0.2% of clicks are 'fraudulent'**, which is expected in a fraud detection problem. Such high class imbalance is probably going to be the toughest challenge of this problem."
      ]
    },
    {
      "cell_type": "markdown",
      "metadata": {
        "_cell_guid": "7285fbce-6dd1-4638-80c6-8f8d94d1593c",
        "_uuid": "bca20461412ff0d2ba2d87a515785e8a762fd343",
        "id": "6jEZyNtED3Uu"
      },
      "source": [
        "### **`Exploring the Data - Segmented Univariate Analysis`**\n",
        "\n",
        "Let's now look at how the target variable varies with the various predictors."
      ]
    },
    {
      "cell_type": "code",
      "execution_count": 27,
      "metadata": {
        "_cell_guid": "73089123-995e-4142-8aa9-784bbcddccb2",
        "_uuid": "1a5d777dc7d2a003752eefd8af94c4433099bf44",
        "colab": {
          "base_uri": "https://localhost:8080/",
          "height": 454
        },
        "id": "JGkQoYTSD3Uu",
        "outputId": "a98516ec-c43c-4b4d-87bc-06db638284b2",
        "scrolled": true
      },
      "outputs": [
        {
          "data": {
            "text/html": [
              "<div>\n",
              "<style scoped>\n",
              "    .dataframe tbody tr th:only-of-type {\n",
              "        vertical-align: middle;\n",
              "    }\n",
              "\n",
              "    .dataframe tbody tr th {\n",
              "        vertical-align: top;\n",
              "    }\n",
              "\n",
              "    .dataframe thead th {\n",
              "        text-align: right;\n",
              "    }\n",
              "</style>\n",
              "<table border=\"1\" class=\"dataframe\">\n",
              "  <thead>\n",
              "    <tr style=\"text-align: right;\">\n",
              "      <th></th>\n",
              "      <th>mean</th>\n",
              "      <th>count</th>\n",
              "    </tr>\n",
              "    <tr>\n",
              "      <th>app</th>\n",
              "      <th></th>\n",
              "      <th></th>\n",
              "    </tr>\n",
              "  </thead>\n",
              "  <tbody>\n",
              "    <tr>\n",
              "      <th>1</th>\n",
              "      <td>0.000000</td>\n",
              "      <td>3135</td>\n",
              "    </tr>\n",
              "    <tr>\n",
              "      <th>2</th>\n",
              "      <td>0.000000</td>\n",
              "      <td>11737</td>\n",
              "    </tr>\n",
              "    <tr>\n",
              "      <th>3</th>\n",
              "      <td>0.000219</td>\n",
              "      <td>18279</td>\n",
              "    </tr>\n",
              "    <tr>\n",
              "      <th>4</th>\n",
              "      <td>0.000000</td>\n",
              "      <td>58</td>\n",
              "    </tr>\n",
              "    <tr>\n",
              "      <th>5</th>\n",
              "      <td>0.074468</td>\n",
              "      <td>188</td>\n",
              "    </tr>\n",
              "    <tr>\n",
              "      <th>...</th>\n",
              "      <td>...</td>\n",
              "      <td>...</td>\n",
              "    </tr>\n",
              "    <tr>\n",
              "      <th>486</th>\n",
              "      <td>0.000000</td>\n",
              "      <td>1</td>\n",
              "    </tr>\n",
              "    <tr>\n",
              "      <th>536</th>\n",
              "      <td>0.000000</td>\n",
              "      <td>1</td>\n",
              "    </tr>\n",
              "    <tr>\n",
              "      <th>538</th>\n",
              "      <td>0.000000</td>\n",
              "      <td>1</td>\n",
              "    </tr>\n",
              "    <tr>\n",
              "      <th>548</th>\n",
              "      <td>0.000000</td>\n",
              "      <td>1</td>\n",
              "    </tr>\n",
              "    <tr>\n",
              "      <th>551</th>\n",
              "      <td>0.000000</td>\n",
              "      <td>1</td>\n",
              "    </tr>\n",
              "  </tbody>\n",
              "</table>\n",
              "<p>161 rows × 2 columns</p>\n",
              "</div>"
            ],
            "text/plain": [
              "         mean  count\n",
              "app                 \n",
              "1    0.000000   3135\n",
              "2    0.000000  11737\n",
              "3    0.000219  18279\n",
              "4    0.000000     58\n",
              "5    0.074468    188\n",
              "..        ...    ...\n",
              "486  0.000000      1\n",
              "536  0.000000      1\n",
              "538  0.000000      1\n",
              "548  0.000000      1\n",
              "551  0.000000      1\n",
              "\n",
              "[161 rows x 2 columns]"
            ]
          },
          "execution_count": 27,
          "metadata": {},
          "output_type": "execute_result"
        }
      ],
      "source": [
        "# Get average of 'is_attributed', or 'download rate' grouped with app\n",
        "app_target = train_sample.groupby('app').is_attributed.agg(['mean','count'])\n",
        "# print app_target\n",
        "app_target\n"
      ]
    },
    {
      "cell_type": "markdown",
      "metadata": {
        "id": "-9re9UfeD3Uu"
      },
      "source": [
        "This is clearly non-readable, so let's first get rid of all the apps that are very rare (say which comprise of less than 20% clicks) and plot the rest."
      ]
    },
    {
      "cell_type": "code",
      "execution_count": 28,
      "metadata": {
        "colab": {
          "base_uri": "https://localhost:8080/",
          "height": 205
        },
        "id": "tpClVS04D3Uu",
        "outputId": "12aad1d1-71ed-4579-b8d6-527f0a6414d2",
        "scrolled": true
      },
      "outputs": [
        {
          "data": {
            "text/html": [
              "<div>\n",
              "<style scoped>\n",
              "    .dataframe tbody tr th:only-of-type {\n",
              "        vertical-align: middle;\n",
              "    }\n",
              "\n",
              "    .dataframe tbody tr th {\n",
              "        vertical-align: top;\n",
              "    }\n",
              "\n",
              "    .dataframe thead th {\n",
              "        text-align: right;\n",
              "    }\n",
              "</style>\n",
              "<table border=\"1\" class=\"dataframe\">\n",
              "  <thead>\n",
              "    <tr style=\"text-align: right;\">\n",
              "      <th></th>\n",
              "      <th>app</th>\n",
              "      <th>count</th>\n",
              "      <th>ip</th>\n",
              "      <th>device</th>\n",
              "      <th>os</th>\n",
              "      <th>channel</th>\n",
              "      <th>click_time</th>\n",
              "      <th>is_attributed</th>\n",
              "    </tr>\n",
              "  </thead>\n",
              "  <tbody>\n",
              "    <tr>\n",
              "      <th>0</th>\n",
              "      <td>1</td>\n",
              "      <td>3135</td>\n",
              "      <td>17059</td>\n",
              "      <td>1</td>\n",
              "      <td>17</td>\n",
              "      <td>135</td>\n",
              "      <td>2017-11-09 01:17:58</td>\n",
              "      <td>0</td>\n",
              "    </tr>\n",
              "    <tr>\n",
              "      <th>1</th>\n",
              "      <td>1</td>\n",
              "      <td>3135</td>\n",
              "      <td>52432</td>\n",
              "      <td>1</td>\n",
              "      <td>13</td>\n",
              "      <td>115</td>\n",
              "      <td>2017-11-07 17:22:52</td>\n",
              "      <td>0</td>\n",
              "    </tr>\n",
              "    <tr>\n",
              "      <th>2</th>\n",
              "      <td>1</td>\n",
              "      <td>3135</td>\n",
              "      <td>23706</td>\n",
              "      <td>1</td>\n",
              "      <td>27</td>\n",
              "      <td>124</td>\n",
              "      <td>2017-11-07 09:37:21</td>\n",
              "      <td>0</td>\n",
              "    </tr>\n",
              "    <tr>\n",
              "      <th>3</th>\n",
              "      <td>1</td>\n",
              "      <td>3135</td>\n",
              "      <td>58458</td>\n",
              "      <td>1</td>\n",
              "      <td>19</td>\n",
              "      <td>101</td>\n",
              "      <td>2017-11-09 14:27:57</td>\n",
              "      <td>0</td>\n",
              "    </tr>\n",
              "    <tr>\n",
              "      <th>4</th>\n",
              "      <td>1</td>\n",
              "      <td>3135</td>\n",
              "      <td>34067</td>\n",
              "      <td>1</td>\n",
              "      <td>15</td>\n",
              "      <td>134</td>\n",
              "      <td>2017-11-07 15:06:06</td>\n",
              "      <td>0</td>\n",
              "    </tr>\n",
              "  </tbody>\n",
              "</table>\n",
              "</div>"
            ],
            "text/plain": [
              "   app  count     ip  device  os  channel           click_time  is_attributed\n",
              "0    1   3135  17059       1  17      135  2017-11-09 01:17:58              0\n",
              "1    1   3135  52432       1  13      115  2017-11-07 17:22:52              0\n",
              "2    1   3135  23706       1  27      124  2017-11-07 09:37:21              0\n",
              "3    1   3135  58458       1  19      101  2017-11-09 14:27:57              0\n",
              "4    1   3135  34067       1  15      134  2017-11-07 15:06:06              0"
            ]
          },
          "execution_count": 28,
          "metadata": {},
          "output_type": "execute_result"
        }
      ],
      "source": [
        "# Make a 'count' column based on app size and reset index on count\n",
        "frequent_apps = train_sample.groupby('app').size().reset_index(name='count')\n",
        "\n",
        "\n",
        "\n",
        "# filter count greater than count above 80% quantile range\n",
        "frequent_apps = frequent_apps[frequent_apps['count']>frequent_apps['count'].quantile(0.80)]\n",
        "\n",
        "#inner join frequent_apps with train_sample on 'app'\n",
        "frequent_apps = frequent_apps.merge(train_sample,on='app',how='inner')\n",
        "\n",
        "#print head of frequent_apps\n",
        "frequent_apps.head()"
      ]
    },
    {
      "cell_type": "code",
      "execution_count": 29,
      "metadata": {
        "colab": {
          "base_uri": "https://localhost:8080/",
          "height": 606
        },
        "id": "_2xSWynTD3Uv",
        "outputId": "20d4734a-ae9e-48df-dd6b-8737105f90d3"
      },
      "outputs": [
        {
          "data": {
            "image/png": "[encoded data removed]",
            "text/plain": [
              "<Figure size 1000x1000 with 1 Axes>"
            ]
          },
          "metadata": {},
          "output_type": "display_data"
        }
      ],
      "source": [
        "#plot count distribution of 'app' hued with 'is_attributed'\n",
        "plt.figure(figsize=(10,10))\n",
        "\n",
        "sns.countplot(y='app',data=frequent_apps,hue='is_attributed')\n",
        "plt.show()\n",
        "\n"
      ]
    },
    {
      "cell_type": "markdown",
      "metadata": {
        "id": "slP7NO3rD3Uv"
      },
      "source": [
        "You can do lots of other interesting ananlysis with the existing features. For now, let's create some new features which will probably improve the model."
      ]
    },
    {
      "cell_type": "markdown",
      "metadata": {
        "_cell_guid": "40f6f8d9-bd39-4876-bca8-5dcaa14eed04",
        "_uuid": "b76d4314871b8db705dc26b51f4ba07df2cd857b",
        "id": "x8O9K64TD3Uv"
      },
      "source": [
        "## **`Feature Engineering`**\n",
        "\n",
        "<p style='text-align: right;'> 10 points</p>\n"
      ]
    },
    {
      "cell_type": "markdown",
      "metadata": {
        "id": "cMwV3jpuD3Uv"
      },
      "source": [
        "Let's now derive some new features from the existing ones. There are a number of features one can extract from ```click_time``` itself, and by grouping combinations of IP with other features."
      ]
    },
    {
      "cell_type": "markdown",
      "metadata": {
        "_cell_guid": "9963886f-8f33-4ff4-be76-0a28e8d6ba8b",
        "_uuid": "833037301451ca4d6939909f8cfd47314834b7b9",
        "id": "u8txepiAD3Uw"
      },
      "source": [
        "### Datetime Based Features\n"
      ]
    },
    {
      "cell_type": "code",
      "execution_count": 30,
      "metadata": {
        "_cell_guid": "fd611758-c8ec-4401-9875-1eb760ccddb7",
        "_uuid": "a38688f6b07581964699b4a8c41100844f21090c",
        "id": "4IdMw79vD3Uw"
      },
      "outputs": [],
      "source": [
        "# Create a function which takes in a df, adds date/time based columns to it and returns the modified df\n",
        "\n",
        "def timeFeatures(df):\n",
        "    # Creating datetime variables using the click_time column \n",
        "    df['datetime'] = pd.to_datetime(df['click_time'])\n",
        "    \n",
        "    \n",
        "    #Creating day_of_week variables extracting week from the datetime column \n",
        "\n",
        "    df['day_of_week'] = df['datetime'].dt.dayofweek\n",
        "    \n",
        "    \n",
        "     #Creating day_of_year variables extracting day from the datetime column \n",
        "\n",
        "    df[\"day_of_year\"] = df['datetime'].dt.dayofyear\n",
        "    \n",
        "    \n",
        "    #Creating month variables extracting month from the datetime column \n",
        "\n",
        "    df[\"month\"] = df['datetime'].dt.month\n",
        "    \n",
        "    \n",
        "    #Creating hour variables extracting hour from the datetime column \n",
        "\n",
        "    df[\"hour\"] = df['datetime'].dt.hour\n",
        "    \n",
        "    #return df\n",
        "    return df\n",
        "    "
      ]
    },
    {
      "cell_type": "code",
      "execution_count": 31,
      "metadata": {
        "_cell_guid": "237df241-844b-4003-b906-298432b8d868",
        "_uuid": "694177530d20a1e33801d6053a88d99f28cfd88c",
        "colab": {
          "base_uri": "https://localhost:8080/",
          "height": 205
        },
        "id": "k4H_zncvD3Uw",
        "outputId": "99cd1827-a138-46cc-8b76-f15de1cc49aa",
        "scrolled": true
      },
      "outputs": [
        {
          "data": {
            "text/html": [
              "<div>\n",
              "<style scoped>\n",
              "    .dataframe tbody tr th:only-of-type {\n",
              "        vertical-align: middle;\n",
              "    }\n",
              "\n",
              "    .dataframe tbody tr th {\n",
              "        vertical-align: top;\n",
              "    }\n",
              "\n",
              "    .dataframe thead th {\n",
              "        text-align: right;\n",
              "    }\n",
              "</style>\n",
              "<table border=\"1\" class=\"dataframe\">\n",
              "  <thead>\n",
              "    <tr style=\"text-align: right;\">\n",
              "      <th></th>\n",
              "      <th>ip</th>\n",
              "      <th>app</th>\n",
              "      <th>device</th>\n",
              "      <th>os</th>\n",
              "      <th>channel</th>\n",
              "      <th>is_attributed</th>\n",
              "      <th>day_of_week</th>\n",
              "      <th>day_of_year</th>\n",
              "      <th>month</th>\n",
              "      <th>hour</th>\n",
              "    </tr>\n",
              "  </thead>\n",
              "  <tbody>\n",
              "    <tr>\n",
              "      <th>0</th>\n",
              "      <td>22004</td>\n",
              "      <td>12</td>\n",
              "      <td>1</td>\n",
              "      <td>13</td>\n",
              "      <td>497</td>\n",
              "      <td>0</td>\n",
              "      <td>1</td>\n",
              "      <td>311</td>\n",
              "      <td>11</td>\n",
              "      <td>9</td>\n",
              "    </tr>\n",
              "    <tr>\n",
              "      <th>1</th>\n",
              "      <td>40024</td>\n",
              "      <td>25</td>\n",
              "      <td>1</td>\n",
              "      <td>17</td>\n",
              "      <td>259</td>\n",
              "      <td>0</td>\n",
              "      <td>1</td>\n",
              "      <td>311</td>\n",
              "      <td>11</td>\n",
              "      <td>13</td>\n",
              "    </tr>\n",
              "    <tr>\n",
              "      <th>2</th>\n",
              "      <td>35888</td>\n",
              "      <td>12</td>\n",
              "      <td>1</td>\n",
              "      <td>19</td>\n",
              "      <td>212</td>\n",
              "      <td>0</td>\n",
              "      <td>1</td>\n",
              "      <td>311</td>\n",
              "      <td>11</td>\n",
              "      <td>18</td>\n",
              "    </tr>\n",
              "    <tr>\n",
              "      <th>3</th>\n",
              "      <td>29048</td>\n",
              "      <td>13</td>\n",
              "      <td>1</td>\n",
              "      <td>13</td>\n",
              "      <td>477</td>\n",
              "      <td>0</td>\n",
              "      <td>1</td>\n",
              "      <td>311</td>\n",
              "      <td>11</td>\n",
              "      <td>4</td>\n",
              "    </tr>\n",
              "    <tr>\n",
              "      <th>4</th>\n",
              "      <td>2877</td>\n",
              "      <td>12</td>\n",
              "      <td>1</td>\n",
              "      <td>1</td>\n",
              "      <td>178</td>\n",
              "      <td>0</td>\n",
              "      <td>3</td>\n",
              "      <td>313</td>\n",
              "      <td>11</td>\n",
              "      <td>9</td>\n",
              "    </tr>\n",
              "  </tbody>\n",
              "</table>\n",
              "</div>"
            ],
            "text/plain": [
              "      ip  app  device  os  channel  is_attributed  day_of_week  day_of_year  \\\n",
              "0  22004   12       1  13      497              0            1          311   \n",
              "1  40024   25       1  17      259              0            1          311   \n",
              "2  35888   12       1  19      212              0            1          311   \n",
              "3  29048   13       1  13      477              0            1          311   \n",
              "4   2877   12       1   1      178              0            3          313   \n",
              "\n",
              "   month  hour  \n",
              "0     11     9  \n",
              "1     11    13  \n",
              "2     11    18  \n",
              "3     11     4  \n",
              "4     11     9  "
            ]
          },
          "execution_count": 31,
          "metadata": {},
          "output_type": "execute_result"
        }
      ],
      "source": [
        "# creating new variables using above function with df as train_sample \n",
        "train_sample = timeFeatures(train_sample)\n",
        "\n",
        "# dropping the click_time and datetime variables from train_sample\n",
        "train_sample.drop(['click_time','datetime'],axis=1,inplace=True)\n",
        "\n",
        "#print train_sample head\n",
        "train_sample.head()\n"
      ]
    },
    {
      "cell_type": "code",
      "execution_count": 32,
      "metadata": {
        "_cell_guid": "4cfe36bc-b218-48ce-ac97-9b9da3758d2f",
        "_uuid": "0eead49461cc6e85bf733b2682c95b098c6b4762",
        "colab": {
          "base_uri": "https://localhost:8080/"
        },
        "id": "ii_XjPN6D3Uw",
        "outputId": "1b1f3623-5b8b-45b4-b265-626eef38ba49"
      },
      "outputs": [
        {
          "data": {
            "text/plain": [
              "ip               uint16\n",
              "app              uint16\n",
              "device           uint16\n",
              "os               uint16\n",
              "channel          uint16\n",
              "is_attributed     uint8\n",
              "day_of_week       int64\n",
              "day_of_year       int64\n",
              "month             int64\n",
              "hour              int64\n",
              "dtype: object"
            ]
          },
          "execution_count": 32,
          "metadata": {},
          "output_type": "execute_result"
        }
      ],
      "source": [
        "# datatypes  of all variables in train_sample\n",
        "train_sample.dtypes"
      ]
    },
    {
      "cell_type": "markdown",
      "metadata": {
        "id": "X7T47X_5D3Ux"
      },
      "source": [
        "note that by default the new datetime variables are int64\n"
      ]
    },
    {
      "cell_type": "code",
      "execution_count": 33,
      "metadata": {
        "_cell_guid": "2c94cc5a-7f24-4321-8b64-75835eb769a1",
        "_uuid": "72fab86bd46e38c8707d48a88d4cfd9122768e5b",
        "colab": {
          "base_uri": "https://localhost:8080/"
        },
        "id": "pZlihUcqD3Ux",
        "outputId": "ef13ddd9-5c99-42da-c020-61643c873f99"
      },
      "outputs": [
        {
          "name": "stdout",
          "output_type": "stream",
          "text": [
            "training data uses 4.100921630859375 MB\n"
          ]
        }
      ],
      "source": [
        "# check memory/space used by training data\n",
        "print('training data uses {0} MB'.format(train_sample.memory_usage().sum()/1024**2))"
      ]
    },
    {
      "cell_type": "markdown",
      "metadata": {
        "id": "b0pfN189D3Ux"
      },
      "source": [
        "Lets convert the variables back to lower dtype again\n"
      ]
    },
    {
      "cell_type": "code",
      "execution_count": 34,
      "metadata": {
        "_cell_guid": "630048e3-b363-4eb7-8620-fc7c0aed8794",
        "_uuid": "f358d55b47fdd1f3458fc640a37b83f93abd01d9",
        "id": "pLGQLqTzD3Ux"
      },
      "outputs": [],
      "source": [
        "# get all int variables in a list\n",
        "int_vars = ['app','device','os','channel','day_of_week','day_of_year','month','hour']\n",
        "\n",
        "\n",
        "# convert all above variables into uint16 type\n",
        "train_sample[int_vars] = train_sample[int_vars].astype('uint16')\n",
        "\n",
        "\n"
      ]
    },
    {
      "cell_type": "code",
      "execution_count": 35,
      "metadata": {
        "_cell_guid": "bfb0e108-be87-4f1f-8690-b6a0dd253d5f",
        "_uuid": "2ad5b5082c465d89a3749ef500121a0068fc7abe",
        "colab": {
          "base_uri": "https://localhost:8080/"
        },
        "id": "q91YeRMND3Ux",
        "outputId": "35d2c615-0588-4ab5-85ed-ca48317ff5aa",
        "scrolled": true
      },
      "outputs": [
        {
          "data": {
            "text/plain": [
              "ip               uint16\n",
              "app              uint16\n",
              "device           uint16\n",
              "os               uint16\n",
              "channel          uint16\n",
              "is_attributed     uint8\n",
              "day_of_week      uint16\n",
              "day_of_year      uint16\n",
              "month            uint16\n",
              "hour             uint16\n",
              "dtype: object"
            ]
          },
          "execution_count": 35,
          "metadata": {},
          "output_type": "execute_result"
        }
      ],
      "source": [
        "#print datatype of all variables in train_sample\n",
        "train_sample.dtypes"
      ]
    },
    {
      "cell_type": "code",
      "execution_count": 36,
      "metadata": {
        "_cell_guid": "097f83a0-d7a0-486e-8315-33e4d351349e",
        "_uuid": "7d31b2a2d63b9a7637489768da96c6833079e19e",
        "colab": {
          "base_uri": "https://localhost:8080/"
        },
        "id": "tH3IujidD3Uy",
        "outputId": "14fd62db-22b5-4972-ec6b-25d3692e5359",
        "scrolled": true
      },
      "outputs": [
        {
          "name": "stdout",
          "output_type": "stream",
          "text": [
            "training data uses 1.812103271484375 MB\n"
          ]
        }
      ],
      "source": [
        "# space used by training data\n",
        "print('training data uses {0} MB'.format(train_sample.memory_usage().sum()/1024**2))"
      ]
    },
    {
      "cell_type": "markdown",
      "metadata": {
        "id": "YhU-mXtLD3Uy"
      },
      "source": [
        "Hope you undertood why we converted variables into uint16 datatype\n",
        "\n",
        "Yes, you are right:) The primitive data types prefixed with \"u\" are unsigned versions with the same bit sizes. Effectively, this means they cannot store negative numbers, but on the other hand they can store positive numbers twice as large as their signed counterparts. \n",
        "\n",
        "This is why it saves memory usage."
      ]
    },
    {
      "cell_type": "markdown",
      "metadata": {
        "_cell_guid": "f1a41e27-1c82-42a1-b06f-2b2d384cecee",
        "_uuid": "1a82f07ac45c9a68893d104349971344ef7aa32b",
        "id": "nc9Y8lyKD3Uy"
      },
      "source": [
        "### **`IP Grouping Based Features`**"
      ]
    },
    {
      "cell_type": "markdown",
      "metadata": {
        "_cell_guid": "1cbfe97f-6915-4e84-b63b-35c3b3933f68",
        "_uuid": "0af86c9bec412b948482bcec80c7df233f1b7c39",
        "id": "rYPRHb3ID3Uy"
      },
      "source": [
        "Let's now create some important features by grouping IP addresses with features such as os, channel, hour, day etc. Also, count of each IP address will also be a feature.\n",
        "\n",
        "Note that though we are deriving new features by grouping IP addresses, using IP adress itself as a features is not a good idea. This is because (in the test data) if a new IP address is seen, the model will see a new 'category' and will not be able to make predictions (IP is a categorical variable, it has just been encoded with numbers).\n",
        "\n",
        "`number of clicks by count of IP address\n",
        "Note that we are explicitly asking pandas to re-encode the aggregated features as 'int16' to save memory`"
      ]
    },
    {
      "cell_type": "code",
      "execution_count": 37,
      "metadata": {
        "_cell_guid": "b0cd1ca3-e3ef-414b-b9cc-add42aebf813",
        "_uuid": "59690cdbb2b67074d81b9be15375e6ffb0b8f85e",
        "colab": {
          "base_uri": "https://localhost:8080/",
          "height": 205
        },
        "id": "PxvwoC5yD3Uy",
        "outputId": "1d8cc740-03cd-4914-c24a-ded639f5f633",
        "scrolled": false
      },
      "outputs": [
        {
          "data": {
            "text/html": [
              "<div>\n",
              "<style scoped>\n",
              "    .dataframe tbody tr th:only-of-type {\n",
              "        vertical-align: middle;\n",
              "    }\n",
              "\n",
              "    .dataframe tbody tr th {\n",
              "        vertical-align: top;\n",
              "    }\n",
              "\n",
              "    .dataframe thead th {\n",
              "        text-align: right;\n",
              "    }\n",
              "</style>\n",
              "<table border=\"1\" class=\"dataframe\">\n",
              "  <thead>\n",
              "    <tr style=\"text-align: right;\">\n",
              "      <th></th>\n",
              "      <th>ip</th>\n",
              "      <th>ip_count</th>\n",
              "    </tr>\n",
              "  </thead>\n",
              "  <tbody>\n",
              "    <tr>\n",
              "      <th>0</th>\n",
              "      <td>8</td>\n",
              "      <td>1</td>\n",
              "    </tr>\n",
              "    <tr>\n",
              "      <th>1</th>\n",
              "      <td>9</td>\n",
              "      <td>1</td>\n",
              "    </tr>\n",
              "    <tr>\n",
              "      <th>2</th>\n",
              "      <td>10</td>\n",
              "      <td>3</td>\n",
              "    </tr>\n",
              "    <tr>\n",
              "      <th>3</th>\n",
              "      <td>14</td>\n",
              "      <td>1</td>\n",
              "    </tr>\n",
              "    <tr>\n",
              "      <th>4</th>\n",
              "      <td>16</td>\n",
              "      <td>6</td>\n",
              "    </tr>\n",
              "  </tbody>\n",
              "</table>\n",
              "</div>"
            ],
            "text/plain": [
              "   ip  ip_count\n",
              "0   8         1\n",
              "1   9         1\n",
              "2  10         3\n",
              "3  14         1\n",
              "4  16         6"
            ]
          },
          "execution_count": 37,
          "metadata": {},
          "output_type": "execute_result"
        }
      ],
      "source": [
        "# Create a column 'ip_count' using number of clicks by count of IP address \n",
        "ip_count = train_sample.groupby('ip').size().reset_index(name='ip_count').astype('int16')\n",
        "\n",
        "\n",
        "#print head of ip_count \n",
        "ip_count.head()\n",
        "\n"
      ]
    },
    {
      "cell_type": "markdown",
      "metadata": {
        "id": "7BxrNr9DD3Uz"
      },
      "source": [
        "We can now merge this dataframe with the original training df. Similarly, we can create combinations of various features such as ip_day_hour (count of ip-day-hour combinations), ip_hour_channel, ip_hour_app, etc. \n",
        "\n",
        "The following function takes in a dataframe and creates these features."
      ]
    },
    {
      "cell_type": "code",
      "execution_count": 38,
      "metadata": {
        "id": "_Ui3nAEPD3Uz"
      },
      "outputs": [],
      "source": [
        "'''creates groupings of IP addresses with other features and appends the new features to the df'''\n",
        "\n",
        "def grouped_features(df):\n",
        "    # ip_count\n",
        "    ip_count = df.groupby('ip').size().reset_index(name='ip_count').astype('uint16')\n",
        "    \n",
        "    # ip_day_hour\n",
        "    ip_day_hour = df.groupby(['ip','day_of_week','hour']).size().reset_index(name='ip_day_hour').astype('uint16')\n",
        "    \n",
        "#   ip_hour_channel\n",
        "    ip_hour_channel = df[['ip','hour','channel']].groupby(['ip','hour','channel']).size().reset_index(name='ip_hour_channel').astype('uint16')\n",
        "    \n",
        "#   ip_hour_os\n",
        "    ip_hour_os = df.groupby(['ip','hour','os']).channel.count().reset_index(name='ip_hour_os').astype('uint16')\n",
        "    \n",
        "#   ip_hour_app\n",
        "    ip_hour_app =df.groupby(['ip','hour','app']).channel.count().reset_index(name='ip_hour_app').astype('uint16')\n",
        "    \n",
        "#   ip_hour_device\n",
        "    ip_hour_device = df.groupby(['ip','hour','device']).channel.count().reset_index(name='ip_hour_device').astype('uint16')\n",
        "    \n",
        "    \n",
        "    '''merge the new aggregated features with the df'''\n",
        "    \n",
        "#   left join ip_count to df on ip\n",
        "    df = pd.merge(df,ip_count,on='ip',how='left')\n",
        "    \n",
        "    \n",
        "#   delete ip_count\n",
        "    del ip_count\n",
        "    \n",
        "    #left join ip_day_hour to df on ip, day_of_week and hour\n",
        "\n",
        "    df = pd.merge(df,ip_day_hour,on=(['ip','day_of_week','hour']),how='left')\n",
        "    \n",
        "    #delete ip_day_hour\n",
        "    del ip_day_hour\n",
        "    \n",
        "#   left join ip_hour_channel to df on ip, hour, channel\n",
        "\n",
        "    df = pd.merge(df,ip_hour_channel,on=(['ip','hour','channel']),how='left')\n",
        "    \n",
        "#   delete ip_hour_channel\n",
        "    del ip_hour_channel\n",
        "\n",
        "    #left join ip_hour_os to df on ip, hour and os\n",
        "\n",
        "    df =pd.merge(df,ip_hour_os,on=(['ip','hour','os']),how='left')\n",
        "    \n",
        "#   delete ip_hour_os\n",
        "    del ip_hour_os\n",
        "\n",
        "    #    left join ip_hour_app to df on ip, hour and app\n",
        "\n",
        "    df = pd.merge(df,ip_hour_app,on=(['ip','hour','app']),how='left')\n",
        "    \n",
        "#     delete ip_hour_app \n",
        "    del ip_hour_app\n",
        "    \n",
        "    #left join ip_hour_device to df on ip , hour and device\n",
        "\n",
        "    df = pd.merge(df,ip_hour_device,on=(['ip','hour','device']),how='left')\n",
        "    \n",
        "#   delete ip_hour_device \n",
        "    del ip_hour_device\n",
        "    \n",
        "    \n",
        "#  return df\n",
        "    return df\n",
        "    "
      ]
    },
    {
      "cell_type": "code",
      "execution_count": 39,
      "metadata": {
        "id": "K4zweDWED3Uz"
      },
      "outputs": [],
      "source": [
        "#Use above grouped_features() function with train_sample as parameter to create your new train_sample data \n",
        "train_sample = grouped_features(train_sample)\n",
        "\n"
      ]
    },
    {
      "cell_type": "code",
      "execution_count": 40,
      "metadata": {
        "_cell_guid": "dcb86f85-6418-40dd-8e4a-670f1df0b3fc",
        "_uuid": "3fffc4f935664d861cc0556f78f654c0c7121dac",
        "colab": {
          "base_uri": "https://localhost:8080/",
          "height": 225
        },
        "id": "kiGA5NwLD3U0",
        "outputId": "7c8cc5ca-d273-4feb-ed85-776a1c3e6ffb",
        "scrolled": true
      },
      "outputs": [
        {
          "data": {
            "text/html": [
              "<div>\n",
              "<style scoped>\n",
              "    .dataframe tbody tr th:only-of-type {\n",
              "        vertical-align: middle;\n",
              "    }\n",
              "\n",
              "    .dataframe tbody tr th {\n",
              "        vertical-align: top;\n",
              "    }\n",
              "\n",
              "    .dataframe thead th {\n",
              "        text-align: right;\n",
              "    }\n",
              "</style>\n",
              "<table border=\"1\" class=\"dataframe\">\n",
              "  <thead>\n",
              "    <tr style=\"text-align: right;\">\n",
              "      <th></th>\n",
              "      <th>ip</th>\n",
              "      <th>app</th>\n",
              "      <th>device</th>\n",
              "      <th>os</th>\n",
              "      <th>channel</th>\n",
              "      <th>is_attributed</th>\n",
              "      <th>day_of_week</th>\n",
              "      <th>day_of_year</th>\n",
              "      <th>month</th>\n",
              "      <th>hour</th>\n",
              "      <th>ip_count</th>\n",
              "      <th>ip_day_hour</th>\n",
              "      <th>ip_hour_channel</th>\n",
              "      <th>ip_hour_os</th>\n",
              "      <th>ip_hour_app</th>\n",
              "      <th>ip_hour_device</th>\n",
              "    </tr>\n",
              "  </thead>\n",
              "  <tbody>\n",
              "    <tr>\n",
              "      <th>0</th>\n",
              "      <td>22004</td>\n",
              "      <td>12</td>\n",
              "      <td>1</td>\n",
              "      <td>13</td>\n",
              "      <td>497</td>\n",
              "      <td>0</td>\n",
              "      <td>1</td>\n",
              "      <td>311</td>\n",
              "      <td>11</td>\n",
              "      <td>9</td>\n",
              "      <td>8</td>\n",
              "      <td>1</td>\n",
              "      <td>1</td>\n",
              "      <td>1</td>\n",
              "      <td>1</td>\n",
              "      <td>1</td>\n",
              "    </tr>\n",
              "    <tr>\n",
              "      <th>1</th>\n",
              "      <td>40024</td>\n",
              "      <td>25</td>\n",
              "      <td>1</td>\n",
              "      <td>17</td>\n",
              "      <td>259</td>\n",
              "      <td>0</td>\n",
              "      <td>1</td>\n",
              "      <td>311</td>\n",
              "      <td>11</td>\n",
              "      <td>13</td>\n",
              "      <td>149</td>\n",
              "      <td>4</td>\n",
              "      <td>1</td>\n",
              "      <td>1</td>\n",
              "      <td>1</td>\n",
              "      <td>8</td>\n",
              "    </tr>\n",
              "    <tr>\n",
              "      <th>2</th>\n",
              "      <td>35888</td>\n",
              "      <td>12</td>\n",
              "      <td>1</td>\n",
              "      <td>19</td>\n",
              "      <td>212</td>\n",
              "      <td>0</td>\n",
              "      <td>1</td>\n",
              "      <td>311</td>\n",
              "      <td>11</td>\n",
              "      <td>18</td>\n",
              "      <td>2</td>\n",
              "      <td>1</td>\n",
              "      <td>1</td>\n",
              "      <td>1</td>\n",
              "      <td>1</td>\n",
              "      <td>1</td>\n",
              "    </tr>\n",
              "    <tr>\n",
              "      <th>3</th>\n",
              "      <td>29048</td>\n",
              "      <td>13</td>\n",
              "      <td>1</td>\n",
              "      <td>13</td>\n",
              "      <td>477</td>\n",
              "      <td>0</td>\n",
              "      <td>1</td>\n",
              "      <td>311</td>\n",
              "      <td>11</td>\n",
              "      <td>4</td>\n",
              "      <td>3</td>\n",
              "      <td>1</td>\n",
              "      <td>1</td>\n",
              "      <td>1</td>\n",
              "      <td>1</td>\n",
              "      <td>1</td>\n",
              "    </tr>\n",
              "    <tr>\n",
              "      <th>4</th>\n",
              "      <td>2877</td>\n",
              "      <td>12</td>\n",
              "      <td>1</td>\n",
              "      <td>1</td>\n",
              "      <td>178</td>\n",
              "      <td>0</td>\n",
              "      <td>3</td>\n",
              "      <td>313</td>\n",
              "      <td>11</td>\n",
              "      <td>9</td>\n",
              "      <td>4</td>\n",
              "      <td>1</td>\n",
              "      <td>1</td>\n",
              "      <td>1</td>\n",
              "      <td>1</td>\n",
              "      <td>1</td>\n",
              "    </tr>\n",
              "  </tbody>\n",
              "</table>\n",
              "</div>"
            ],
            "text/plain": [
              "      ip  app  device  os  channel  is_attributed  day_of_week  day_of_year  \\\n",
              "0  22004   12       1  13      497              0            1          311   \n",
              "1  40024   25       1  17      259              0            1          311   \n",
              "2  35888   12       1  19      212              0            1          311   \n",
              "3  29048   13       1  13      477              0            1          311   \n",
              "4   2877   12       1   1      178              0            3          313   \n",
              "\n",
              "   month  hour  ip_count  ip_day_hour  ip_hour_channel  ip_hour_os  \\\n",
              "0     11     9         8            1                1           1   \n",
              "1     11    13       149            4                1           1   \n",
              "2     11    18         2            1                1           1   \n",
              "3     11     4         3            1                1           1   \n",
              "4     11     9         4            1                1           1   \n",
              "\n",
              "   ip_hour_app  ip_hour_device  \n",
              "0            1               1  \n",
              "1            1               8  \n",
              "2            1               1  \n",
              "3            1               1  \n",
              "4            1               1  "
            ]
          },
          "execution_count": 40,
          "metadata": {},
          "output_type": "execute_result"
        }
      ],
      "source": [
        "#print head of train_sample\n",
        "train_sample.head()\n",
        "\n"
      ]
    },
    {
      "cell_type": "code",
      "execution_count": 41,
      "metadata": {
        "_cell_guid": "e01b730e-a9a3-4899-a867-3d3da43d1670",
        "_uuid": "e819b6938609e7a2c96e3bea97d83afeea10457d",
        "colab": {
          "base_uri": "https://localhost:8080/"
        },
        "id": "aHQ_6EUbD3U0",
        "outputId": "f1634a67-cedc-4573-c822-08d5fc1ea411",
        "scrolled": true
      },
      "outputs": [
        {
          "name": "stdout",
          "output_type": "stream",
          "text": [
            "training data uses 3.719329833984375 MB\n"
          ]
        }
      ],
      "source": [
        "#check space usage of train_sample again\n",
        "print('training data uses {0} MB'.format(train_sample.memory_usage().sum()/1024**2))"
      ]
    },
    {
      "cell_type": "code",
      "execution_count": 43,
      "metadata": {
        "_cell_guid": "e1c25766-1a45-416e-bcd0-865aa8c83e0f",
        "_uuid": "70d49f6f951fc870e404dc11f5643b39a5fe2a36",
        "colab": {
          "base_uri": "https://localhost:8080/"
        },
        "id": "BkjGM0yuD3U2",
        "outputId": "9e3cf1f7-1f8e-441c-c542-a99183d0c43e",
        "scrolled": true
      },
      "outputs": [
        {
          "data": {
            "text/plain": [
              "0"
            ]
          },
          "execution_count": 43,
          "metadata": {},
          "output_type": "execute_result"
        }
      ],
      "source": [
        "# garbage collect (unused) object using gc.collect()\n",
        "\n",
        "gc.collect()\n"
      ]
    },
    {
      "cell_type": "markdown",
      "metadata": {
        "id": "w6ffnEGQD3U3"
      },
      "source": [
        "## **`Modelling`**\n",
        "\n",
        "<p style='text-align: right;'> 75 points</p>\n",
        "\n",
        "\n",
        "Let's now build models to predict the variable ```is_attributed``` (downloaded). We'll try the several variants of boosting (adaboost, gradient boosting and XGBoost, LightGBM and Catboost), tune the hyperparameters in each model and choose the one which gives the best performance.\n",
        "\n",
        "In the original Kaggle competition, the metric for model evaluation is **area under the ROC curve**.\n"
      ]
    },
    {
      "cell_type": "code",
      "execution_count": 44,
      "metadata": {
        "_cell_guid": "2b85ad1e-932b-4570-99ad-df89d8e09eee",
        "_uuid": "fb851915b9cd57bb5fd85a0d08b317c695db015b",
        "colab": {
          "base_uri": "https://localhost:8080/"
        },
        "id": "SnK-PVG8D3U3",
        "outputId": "97a9fc11-09d0-4b47-f322-3845bac6fb40",
        "scrolled": false
      },
      "outputs": [
        {
          "name": "stdout",
          "output_type": "stream",
          "text": [
            "(80000, 15)\n",
            "(20000, 15)\n",
            "(80000, 1)\n",
            "(20000, 1)\n"
          ]
        }
      ],
      "source": [
        "# create X and y train\n",
        "X = train_sample.drop('is_attributed',axis=1)\n",
        "\n",
        "y = train_sample[['is_attributed']]\n",
        "\n",
        "\n",
        "\n",
        "# split data into train and test/validation sets with test_size as 20% and random state as 101\n",
        "X_train, X_test, y_train, y_test = train_test_split(X,y,test_size=0.2,random_state=101)\n",
        "\n",
        "\n",
        "#print shape of X_train, y_train, X_test and y_test\n",
        "print(X_train.shape)\n",
        "print(X_test.shape)\n",
        "print(y_train.shape)\n",
        "print(y_test.shape)\n",
        "\n"
      ]
    },
    {
      "cell_type": "code",
      "execution_count": 55,
      "metadata": {
        "_cell_guid": "d0e93c90-38df-486b-b7e5-52c82b21d821",
        "_uuid": "116f681214fa50bf5710df325d37203a10d66df2",
        "colab": {
          "base_uri": "https://localhost:8080/"
        },
        "id": "t5n0S7z7D3U3",
        "outputId": "c7d26a93-b660-458c-af3a-c4e6c1ffd997",
        "scrolled": true
      },
      "outputs": [
        {
          "name": "stdout",
          "output_type": "stream",
          "text": [
            "is_attributed    0.002275\n",
            "dtype: float64\n",
            "is_attributed    0.00225\n",
            "dtype: float64\n"
          ]
        }
      ],
      "source": [
        "# check the average download rates in train \n",
        "print(y_train.mean())\n",
        "# check the average download rates in test data, and check they should be comparable\n",
        "print(y_test.mean())\n",
        "\n",
        "\n",
        "\n",
        "\n"
      ]
    },
    {
      "cell_type": "markdown",
      "metadata": {
        "id": "ZIkG7IwtD3U4"
      },
      "source": [
        "### **`1.  AdaBoost`**\n",
        "\n",
        "Reference doc: https://scikit-learn.org/stable/modules/generated/sklearn.ensemble.AdaBoostClassifier.html\n",
        "\n",
        "Reference video below:\n",
        "\n",
        "AdaBoost algorithm, short for Adaptive Boosting, is a Boosting technique that is used as an Ensemble Method in Machine Learning. It is called Adaptive Boosting as the weights are re-assigned to each instance, with higher weights to incorrectly classified instances. Boosting is used to reduce bias as well as the variance for supervised learning. It works on the principle where learners are grown sequentially. Except for the first, each subsequent learner is grown from previously grown learners. In simple words, weak learners are converted into strong ones. Adaboost algorithm also works on the same principle as boosting, but there is a slight difference in working. "
      ]
    },
    {
      "cell_type": "markdown",
      "metadata": {
        "id": "1_tRnP-jtLM5"
      },
      "source": [
        "# **`WATCH ALL VIDEOS IN THE PORTAL`**\n",
        "\n",
        "## **`Watch Video 1 : Boosting Intuition`**"
      ]
    },
    {
      "cell_type": "markdown",
      "metadata": {
        "id": "fR3Sm6RItbAm"
      },
      "source": [
        "## **`Watch Video 2 : Adaptive Boosting`**"
      ]
    },
    {
      "cell_type": "code",
      "execution_count": 56,
      "metadata": {
        "id": "dCSn9O8AD3U4"
      },
      "outputs": [],
      "source": [
        "# Instantiate DecisionTreeClassifier with max_depth as 2 and random state as 1\n",
        "tree = DecisionTreeClassifier(max_depth=2,random_state=1)\n",
        "\n",
        "\n",
        "'''adaboost with the tree as base estimator, max 600 decision trees of depth=2, \n",
        "learning_rate/shrinkage=1.5 and algorithm as \"SAMME\" and random_state as 1'''\n",
        "\n",
        "adaboost_model_1 = AdaBoostClassifier(\n",
        "    base_estimator=tree,\n",
        "    n_estimators=600,\n",
        "    learning_rate=1.5,\n",
        "    algorithm='SAMME',random_state=1\n",
        ")\n",
        "\n",
        "\n",
        "\n",
        "\n"
      ]
    },
    {
      "cell_type": "code",
      "execution_count": 57,
      "metadata": {
        "colab": {
          "base_uri": "https://localhost:8080/"
        },
        "id": "oi2t_42lD3U4",
        "outputId": "e4f22f08-cda5-4830-c875-c9f6d9cffbe5"
      },
      "outputs": [
        {
          "data": {
            "text/html": [
              "<style>#sk-container-id-1 {color: black;background-color: white;}#sk-container-id-1 pre{padding: 0;}#sk-container-id-1 div.sk-toggleable {background-color: white;}#sk-container-id-1 label.sk-toggleable__label {cursor: pointer;display: block;width: 100%;margin-bottom: 0;padding: 0.3em;box-sizing: border-box;text-align: center;}#sk-container-id-1 label.sk-toggleable__label-arrow:before {content: \"▸\";float: left;margin-right: 0.25em;color: #696969;}#sk-container-id-1 label.sk-toggleable__label-arrow:hover:before {color: black;}#sk-container-id-1 div.sk-estimator:hover label.sk-toggleable__label-arrow:before {color: black;}#sk-container-id-1 div.sk-toggleable__content {max-height: 0;max-width: 0;overflow: hidden;text-align: left;background-color: #f0f8ff;}#sk-container-id-1 div.sk-toggleable__content pre {margin: 0.2em;color: black;border-radius: 0.25em;background-color: #f0f8ff;}#sk-container-id-1 input.sk-toggleable__control:checked~div.sk-toggleable__content {max-height: 200px;max-width: 100%;overflow: auto;}#sk-container-id-1 input.sk-toggleable__control:checked~label.sk-toggleable__label-arrow:before {content: \"▾\";}#sk-container-id-1 div.sk-estimator input.sk-toggleable__control:checked~label.sk-toggleable__label {background-color: #d4ebff;}#sk-container-id-1 div.sk-label input.sk-toggleable__control:checked~label.sk-toggleable__label {background-color: #d4ebff;}#sk-container-id-1 input.sk-hidden--visually {border: 0;clip: rect(1px 1px 1px 1px);clip: rect(1px, 1px, 1px, 1px);height: 1px;margin: -1px;overflow: hidden;padding: 0;position: absolute;width: 1px;}#sk-container-id-1 div.sk-estimator {font-family: monospace;background-color: #f0f8ff;border: 1px dotted black;border-radius: 0.25em;box-sizing: border-box;margin-bottom: 0.5em;}#sk-container-id-1 div.sk-estimator:hover {background-color: #d4ebff;}#sk-container-id-1 div.sk-parallel-item::after {content: \"\";width: 100%;border-bottom: 1px solid gray;flex-grow: 1;}#sk-container-id-1 div.sk-label:hover label.sk-toggleable__label {background-color: #d4ebff;}#sk-container-id-1 div.sk-serial::before {content: \"\";position: absolute;border-left: 1px solid gray;box-sizing: border-box;top: 0;bottom: 0;left: 50%;z-index: 0;}#sk-container-id-1 div.sk-serial {display: flex;flex-direction: column;align-items: center;background-color: white;padding-right: 0.2em;padding-left: 0.2em;position: relative;}#sk-container-id-1 div.sk-item {position: relative;z-index: 1;}#sk-container-id-1 div.sk-parallel {display: flex;align-items: stretch;justify-content: center;background-color: white;position: relative;}#sk-container-id-1 div.sk-item::before, #sk-container-id-1 div.sk-parallel-item::before {content: \"\";position: absolute;border-left: 1px solid gray;box-sizing: border-box;top: 0;bottom: 0;left: 50%;z-index: -1;}#sk-container-id-1 div.sk-parallel-item {display: flex;flex-direction: column;z-index: 1;position: relative;background-color: white;}#sk-container-id-1 div.sk-parallel-item:first-child::after {align-self: flex-end;width: 50%;}#sk-container-id-1 div.sk-parallel-item:last-child::after {align-self: flex-start;width: 50%;}#sk-container-id-1 div.sk-parallel-item:only-child::after {width: 0;}#sk-container-id-1 div.sk-dashed-wrapped {border: 1px dashed gray;margin: 0 0.4em 0.5em 0.4em;box-sizing: border-box;padding-bottom: 0.4em;background-color: white;}#sk-container-id-1 div.sk-label label {font-family: monospace;font-weight: bold;display: inline-block;line-height: 1.2em;}#sk-container-id-1 div.sk-label-container {text-align: center;}#sk-container-id-1 div.sk-container {/* jupyter's `normalize.less` sets `[hidden] { display: none; }` but bootstrap.min.css set `[hidden] { display: none !important; }` so we also need the `!important` here to be able to override the default hidden behavior on the sphinx rendered scikit-learn.org. See: https://github.com/scikit-learn/scikit-learn/issues/21755 */display: inline-block !important;position: relative;}#sk-container-id-1 div.sk-text-repr-fallback {display: none;}</style><div id=\"sk-container-id-1\" class=\"sk-top-container\"><div class=\"sk-text-repr-fallback\"><pre>AdaBoostClassifier(algorithm=&#x27;SAMME&#x27;,\n",
              "                   base_estimator=DecisionTreeClassifier(max_depth=2,\n",
              "                                                         random_state=1),\n",
              "                   learning_rate=1.5, n_estimators=600, random_state=1)</pre><b>In a Jupyter environment, please rerun this cell to show the HTML representation or trust the notebook. <br />On GitHub, the HTML representation is unable to render, please try loading this page with nbviewer.org.</b></div><div class=\"sk-container\" hidden><div class=\"sk-item sk-dashed-wrapped\"><div class=\"sk-label-container\"><div class=\"sk-label sk-toggleable\"><input class=\"sk-toggleable__control sk-hidden--visually\" id=\"sk-estimator-id-1\" type=\"checkbox\" ><label for=\"sk-estimator-id-1\" class=\"sk-toggleable__label sk-toggleable__label-arrow\">AdaBoostClassifier</label><div class=\"sk-toggleable__content\"><pre>AdaBoostClassifier(algorithm=&#x27;SAMME&#x27;,\n",
              "                   base_estimator=DecisionTreeClassifier(max_depth=2,\n",
              "                                                         random_state=1),\n",
              "                   learning_rate=1.5, n_estimators=600, random_state=1)</pre></div></div></div><div class=\"sk-parallel\"><div class=\"sk-parallel-item\"><div class=\"sk-item\"><div class=\"sk-label-container\"><div class=\"sk-label sk-toggleable\"><input class=\"sk-toggleable__control sk-hidden--visually\" id=\"sk-estimator-id-2\" type=\"checkbox\" ><label for=\"sk-estimator-id-2\" class=\"sk-toggleable__label sk-toggleable__label-arrow\">base_estimator: DecisionTreeClassifier</label><div class=\"sk-toggleable__content\"><pre>DecisionTreeClassifier(max_depth=2, random_state=1)</pre></div></div></div><div class=\"sk-serial\"><div class=\"sk-item\"><div class=\"sk-estimator sk-toggleable\"><input class=\"sk-toggleable__control sk-hidden--visually\" id=\"sk-estimator-id-3\" type=\"checkbox\" ><label for=\"sk-estimator-id-3\" class=\"sk-toggleable__label sk-toggleable__label-arrow\">DecisionTreeClassifier</label><div class=\"sk-toggleable__content\"><pre>DecisionTreeClassifier(max_depth=2, random_state=1)</pre></div></div></div></div></div></div></div></div></div></div>"
            ],
            "text/plain": [
              "AdaBoostClassifier(algorithm='SAMME',\n",
              "                   base_estimator=DecisionTreeClassifier(max_depth=2,\n",
              "                                                         random_state=1),\n",
              "                   learning_rate=1.5, n_estimators=600, random_state=1)"
            ]
          },
          "execution_count": 57,
          "metadata": {},
          "output_type": "execute_result"
        }
      ],
      "source": [
        "# fit adaboost_model_1 with training dataset\n",
        "adaboost_model_1.fit(X_train,y_train)"
      ]
    },
    {
      "cell_type": "code",
      "execution_count": 58,
      "metadata": {
        "colab": {
          "base_uri": "https://localhost:8080/"
        },
        "id": "SxtEqrLMD3U5",
        "outputId": "57d0468a-fe64-4e6d-f2db-ef6ddaedd239",
        "scrolled": true
      },
      "outputs": [
        {
          "data": {
            "text/plain": [
              "array([[0.54049582, 0.45950418],\n",
              "       [0.53588662, 0.46411338],\n",
              "       [0.53885559, 0.46114441],\n",
              "       [0.52427816, 0.47572184],\n",
              "       [0.52018053, 0.47981947],\n",
              "       [0.5308397 , 0.4691603 ],\n",
              "       [0.53055748, 0.46944252],\n",
              "       [0.54126954, 0.45873046],\n",
              "       [0.52347347, 0.47652653],\n",
              "       [0.51624249, 0.48375751]])"
            ]
          },
          "execution_count": 58,
          "metadata": {},
          "output_type": "execute_result"
        }
      ],
      "source": [
        "# prediction probability on X_test\n",
        "predictions = adaboost_model_1.predict_proba(X_test)\n",
        "\n",
        "\n",
        "\n",
        "#print top 10 prediction result\n",
        "predictions[:10]\n",
        "\n",
        "\n"
      ]
    },
    {
      "cell_type": "markdown",
      "metadata": {
        "id": "af07mdE7D3U5"
      },
      "source": [
        "In above result the second column represents the probability of a click resulting in a download\n"
      ]
    },
    {
      "cell_type": "code",
      "execution_count": 59,
      "metadata": {
        "colab": {
          "base_uri": "https://localhost:8080/"
        },
        "id": "2A8LQ5HGD3U5",
        "outputId": "a37d0bba-20f5-4d22-af8b-1c55e599cd94"
      },
      "outputs": [
        {
          "data": {
            "text/plain": [
              "0.9523839750549848"
            ]
          },
          "execution_count": 59,
          "metadata": {},
          "output_type": "execute_result"
        }
      ],
      "source": [
        "# metrics: Get AUC score with parameters y_test and predicted probability result\n",
        "metrics.roc_auc_score(y_test,predictions[:,1])"
      ]
    },
    {
      "cell_type": "markdown",
      "metadata": {
        "id": "1ZD_mU_zD3U6"
      },
      "source": [
        "### **`AdaBoost - Hyperparameter Tuning`**\n",
        "\n",
        "Let's now tune the hyperparameters of the AdaBoost classifier. In this case, we have two types of hyperparameters - those of the component trees (max_depth etc.) and those of the ensemble (n_estimators, learning_rate etc.). \n",
        "\n",
        "\n",
        "We can tune both using the following technique - the keys of the form ```base_estimator_parameter_name``` belong to the trees (base estimator), and the rest belong to the ensemble."
      ]
    },
    {
      "cell_type": "code",
      "execution_count": 60,
      "metadata": {
        "id": "EA716bp0D3U6"
      },
      "outputs": [],
      "source": [
        "# parameter grid with base_estimator__max_depth as [2,5] and n_estimators as [200, 400, 600]\n",
        "param_grid = {'base_estimator__max_depth':[2,5],\n",
        "              'n_estimators':[200, 400, 600]}\n"
      ]
    },
    {
      "cell_type": "code",
      "execution_count": 61,
      "metadata": {
        "id": "7sCbHLMdD3U6"
      },
      "outputs": [],
      "source": [
        "# DecisionTreeClassifier as base estimator with random_state=1\n",
        "tree = DecisionTreeClassifier(random_state=1)\n",
        "\n",
        "'''adaboost with the tree as base estimator and learning rate is arbitrarily set to 0.6, \n",
        "we'll discuss learning_rate below and algorithm as \"SAMME\"'''\n",
        "\n",
        "ABC = AdaBoostClassifier(\n",
        "    base_estimator=tree,\n",
        "    learning_rate=0.6,\n",
        "    algorithm='SAMME'\n",
        ")\n"
      ]
    },
    {
      "cell_type": "markdown",
      "metadata": {
        "id": "ymh6clcUD3U6"
      },
      "source": [
        "#### Run grid search CV\n"
      ]
    },
    {
      "cell_type": "code",
      "execution_count": 62,
      "metadata": {
        "id": "AqYdCANaD3U7"
      },
      "outputs": [],
      "source": [
        "# Keep cross validation fold as 3\n",
        "folds = 3\n",
        "\n",
        "# run grid search with ABC, folds, param_grid and scoring as roc_auc, return_train_score as True and verbose as 1\n",
        "grid_search_ABC = GridSearchCV(ABC,\n",
        "                               cv=folds,\n",
        "                               param_grid=param_grid,\n",
        "                               scoring='roc_auc',\n",
        "                               return_train_score=True,\n",
        "                               verbose=1)"
      ]
    },
    {
      "cell_type": "code",
      "execution_count": 66,
      "metadata": {
        "colab": {
          "base_uri": "https://localhost:8080/"
        },
        "id": "noipaXniD3U7",
        "outputId": "3418e133-21d0-4749-ef42-652a495c930e"
      },
      "outputs": [
        {
          "name": "stdout",
          "output_type": "stream",
          "text": [
            "Fitting 3 folds for each of 6 candidates, totalling 18 fits\n"
          ]
        },
        {
          "ename": "KeyboardInterrupt",
          "evalue": "",
          "output_type": "error",
          "traceback": [
            "\u001b[1;31m---------------------------------------------------------------------------\u001b[0m",
            "\u001b[1;31mKeyboardInterrupt\u001b[0m                         Traceback (most recent call last)",
            "Cell \u001b[1;32mIn [66], line 2\u001b[0m\n\u001b[0;32m      1\u001b[0m \u001b[39m# fit grid_search_ABC on training data\u001b[39;00m\n\u001b[1;32m----> 2\u001b[0m grid_search_ABC\u001b[39m.\u001b[39;49mfit(X_train,y_train)\n",
            "File \u001b[1;32mc:\\Users\\HP\\AppData\\Local\\Programs\\Python\\Python311\\Lib\\site-packages\\sklearn\\model_selection\\_search.py:875\u001b[0m, in \u001b[0;36mBaseSearchCV.fit\u001b[1;34m(self, X, y, groups, **fit_params)\u001b[0m\n\u001b[0;32m    869\u001b[0m     results \u001b[39m=\u001b[39m \u001b[39mself\u001b[39m\u001b[39m.\u001b[39m_format_results(\n\u001b[0;32m    870\u001b[0m         all_candidate_params, n_splits, all_out, all_more_results\n\u001b[0;32m    871\u001b[0m     )\n\u001b[0;32m    873\u001b[0m     \u001b[39mreturn\u001b[39;00m results\n\u001b[1;32m--> 875\u001b[0m \u001b[39mself\u001b[39;49m\u001b[39m.\u001b[39;49m_run_search(evaluate_candidates)\n\u001b[0;32m    877\u001b[0m \u001b[39m# multimetric is determined here because in the case of a callable\u001b[39;00m\n\u001b[0;32m    878\u001b[0m \u001b[39m# self.scoring the return type is only known after calling\u001b[39;00m\n\u001b[0;32m    879\u001b[0m first_test_score \u001b[39m=\u001b[39m all_out[\u001b[39m0\u001b[39m][\u001b[39m\"\u001b[39m\u001b[39mtest_scores\u001b[39m\u001b[39m\"\u001b[39m]\n",
            "File \u001b[1;32mc:\\Users\\HP\\AppData\\Local\\Programs\\Python\\Python311\\Lib\\site-packages\\sklearn\\model_selection\\_search.py:1389\u001b[0m, in \u001b[0;36mGridSearchCV._run_search\u001b[1;34m(self, evaluate_candidates)\u001b[0m\n\u001b[0;32m   1387\u001b[0m \u001b[39mdef\u001b[39;00m \u001b[39m_run_search\u001b[39m(\u001b[39mself\u001b[39m, evaluate_candidates):\n\u001b[0;32m   1388\u001b[0m     \u001b[39m\"\"\"Search all candidates in param_grid\"\"\"\u001b[39;00m\n\u001b[1;32m-> 1389\u001b[0m     evaluate_candidates(ParameterGrid(\u001b[39mself\u001b[39;49m\u001b[39m.\u001b[39;49mparam_grid))\n",
            "File \u001b[1;32mc:\\Users\\HP\\AppData\\Local\\Programs\\Python\\Python311\\Lib\\site-packages\\sklearn\\model_selection\\_search.py:822\u001b[0m, in \u001b[0;36mBaseSearchCV.fit.<locals>.evaluate_candidates\u001b[1;34m(candidate_params, cv, more_results)\u001b[0m\n\u001b[0;32m    814\u001b[0m \u001b[39mif\u001b[39;00m \u001b[39mself\u001b[39m\u001b[39m.\u001b[39mverbose \u001b[39m>\u001b[39m \u001b[39m0\u001b[39m:\n\u001b[0;32m    815\u001b[0m     \u001b[39mprint\u001b[39m(\n\u001b[0;32m    816\u001b[0m         \u001b[39m\"\u001b[39m\u001b[39mFitting \u001b[39m\u001b[39m{0}\u001b[39;00m\u001b[39m folds for each of \u001b[39m\u001b[39m{1}\u001b[39;00m\u001b[39m candidates,\u001b[39m\u001b[39m\"\u001b[39m\n\u001b[0;32m    817\u001b[0m         \u001b[39m\"\u001b[39m\u001b[39m totalling \u001b[39m\u001b[39m{2}\u001b[39;00m\u001b[39m fits\u001b[39m\u001b[39m\"\u001b[39m\u001b[39m.\u001b[39mformat(\n\u001b[0;32m    818\u001b[0m             n_splits, n_candidates, n_candidates \u001b[39m*\u001b[39m n_splits\n\u001b[0;32m    819\u001b[0m         )\n\u001b[0;32m    820\u001b[0m     )\n\u001b[1;32m--> 822\u001b[0m out \u001b[39m=\u001b[39m parallel(\n\u001b[0;32m    823\u001b[0m     delayed(_fit_and_score)(\n\u001b[0;32m    824\u001b[0m         clone(base_estimator),\n\u001b[0;32m    825\u001b[0m         X,\n\u001b[0;32m    826\u001b[0m         y,\n\u001b[0;32m    827\u001b[0m         train\u001b[39m=\u001b[39;49mtrain,\n\u001b[0;32m    828\u001b[0m         test\u001b[39m=\u001b[39;49mtest,\n\u001b[0;32m    829\u001b[0m         parameters\u001b[39m=\u001b[39;49mparameters,\n\u001b[0;32m    830\u001b[0m         split_progress\u001b[39m=\u001b[39;49m(split_idx, n_splits),\n\u001b[0;32m    831\u001b[0m         candidate_progress\u001b[39m=\u001b[39;49m(cand_idx, n_candidates),\n\u001b[0;32m    832\u001b[0m         \u001b[39m*\u001b[39;49m\u001b[39m*\u001b[39;49mfit_and_score_kwargs,\n\u001b[0;32m    833\u001b[0m     )\n\u001b[0;32m    834\u001b[0m     \u001b[39mfor\u001b[39;49;00m (cand_idx, parameters), (split_idx, (train, test)) \u001b[39min\u001b[39;49;00m product(\n\u001b[0;32m    835\u001b[0m         \u001b[39menumerate\u001b[39;49m(candidate_params), \u001b[39menumerate\u001b[39;49m(cv\u001b[39m.\u001b[39;49msplit(X, y, groups))\n\u001b[0;32m    836\u001b[0m     )\n\u001b[0;32m    837\u001b[0m )\n\u001b[0;32m    839\u001b[0m \u001b[39mif\u001b[39;00m \u001b[39mlen\u001b[39m(out) \u001b[39m<\u001b[39m \u001b[39m1\u001b[39m:\n\u001b[0;32m    840\u001b[0m     \u001b[39mraise\u001b[39;00m \u001b[39mValueError\u001b[39;00m(\n\u001b[0;32m    841\u001b[0m         \u001b[39m\"\u001b[39m\u001b[39mNo fits were performed. \u001b[39m\u001b[39m\"\u001b[39m\n\u001b[0;32m    842\u001b[0m         \u001b[39m\"\u001b[39m\u001b[39mWas the CV iterator empty? \u001b[39m\u001b[39m\"\u001b[39m\n\u001b[0;32m    843\u001b[0m         \u001b[39m\"\u001b[39m\u001b[39mWere there no candidates?\u001b[39m\u001b[39m\"\u001b[39m\n\u001b[0;32m    844\u001b[0m     )\n",
            "File \u001b[1;32mc:\\Users\\HP\\AppData\\Local\\Programs\\Python\\Python311\\Lib\\site-packages\\joblib\\parallel.py:1085\u001b[0m, in \u001b[0;36mParallel.__call__\u001b[1;34m(self, iterable)\u001b[0m\n\u001b[0;32m   1076\u001b[0m \u001b[39mtry\u001b[39;00m:\n\u001b[0;32m   1077\u001b[0m     \u001b[39m# Only set self._iterating to True if at least a batch\u001b[39;00m\n\u001b[0;32m   1078\u001b[0m     \u001b[39m# was dispatched. In particular this covers the edge\u001b[39;00m\n\u001b[1;32m   (...)\u001b[0m\n\u001b[0;32m   1082\u001b[0m     \u001b[39m# was very quick and its callback already dispatched all the\u001b[39;00m\n\u001b[0;32m   1083\u001b[0m     \u001b[39m# remaining jobs.\u001b[39;00m\n\u001b[0;32m   1084\u001b[0m     \u001b[39mself\u001b[39m\u001b[39m.\u001b[39m_iterating \u001b[39m=\u001b[39m \u001b[39mFalse\u001b[39;00m\n\u001b[1;32m-> 1085\u001b[0m     \u001b[39mif\u001b[39;00m \u001b[39mself\u001b[39;49m\u001b[39m.\u001b[39;49mdispatch_one_batch(iterator):\n\u001b[0;32m   1086\u001b[0m         \u001b[39mself\u001b[39m\u001b[39m.\u001b[39m_iterating \u001b[39m=\u001b[39m \u001b[39mself\u001b[39m\u001b[39m.\u001b[39m_original_iterator \u001b[39mis\u001b[39;00m \u001b[39mnot\u001b[39;00m \u001b[39mNone\u001b[39;00m\n\u001b[0;32m   1088\u001b[0m     \u001b[39mwhile\u001b[39;00m \u001b[39mself\u001b[39m\u001b[39m.\u001b[39mdispatch_one_batch(iterator):\n",
            "File \u001b[1;32mc:\\Users\\HP\\AppData\\Local\\Programs\\Python\\Python311\\Lib\\site-packages\\joblib\\parallel.py:901\u001b[0m, in \u001b[0;36mParallel.dispatch_one_batch\u001b[1;34m(self, iterator)\u001b[0m\n\u001b[0;32m    899\u001b[0m     \u001b[39mreturn\u001b[39;00m \u001b[39mFalse\u001b[39;00m\n\u001b[0;32m    900\u001b[0m \u001b[39melse\u001b[39;00m:\n\u001b[1;32m--> 901\u001b[0m     \u001b[39mself\u001b[39;49m\u001b[39m.\u001b[39;49m_dispatch(tasks)\n\u001b[0;32m    902\u001b[0m     \u001b[39mreturn\u001b[39;00m \u001b[39mTrue\u001b[39;00m\n",
            "File \u001b[1;32mc:\\Users\\HP\\AppData\\Local\\Programs\\Python\\Python311\\Lib\\site-packages\\joblib\\parallel.py:819\u001b[0m, in \u001b[0;36mParallel._dispatch\u001b[1;34m(self, batch)\u001b[0m\n\u001b[0;32m    817\u001b[0m \u001b[39mwith\u001b[39;00m \u001b[39mself\u001b[39m\u001b[39m.\u001b[39m_lock:\n\u001b[0;32m    818\u001b[0m     job_idx \u001b[39m=\u001b[39m \u001b[39mlen\u001b[39m(\u001b[39mself\u001b[39m\u001b[39m.\u001b[39m_jobs)\n\u001b[1;32m--> 819\u001b[0m     job \u001b[39m=\u001b[39m \u001b[39mself\u001b[39;49m\u001b[39m.\u001b[39;49m_backend\u001b[39m.\u001b[39;49mapply_async(batch, callback\u001b[39m=\u001b[39;49mcb)\n\u001b[0;32m    820\u001b[0m     \u001b[39m# A job can complete so quickly than its callback is\u001b[39;00m\n\u001b[0;32m    821\u001b[0m     \u001b[39m# called before we get here, causing self._jobs to\u001b[39;00m\n\u001b[0;32m    822\u001b[0m     \u001b[39m# grow. To ensure correct results ordering, .insert is\u001b[39;00m\n\u001b[0;32m    823\u001b[0m     \u001b[39m# used (rather than .append) in the following line\u001b[39;00m\n\u001b[0;32m    824\u001b[0m     \u001b[39mself\u001b[39m\u001b[39m.\u001b[39m_jobs\u001b[39m.\u001b[39minsert(job_idx, job)\n",
            "File \u001b[1;32mc:\\Users\\HP\\AppData\\Local\\Programs\\Python\\Python311\\Lib\\site-packages\\joblib\\_parallel_backends.py:208\u001b[0m, in \u001b[0;36mSequentialBackend.apply_async\u001b[1;34m(self, func, callback)\u001b[0m\n\u001b[0;32m    206\u001b[0m \u001b[39mdef\u001b[39;00m \u001b[39mapply_async\u001b[39m(\u001b[39mself\u001b[39m, func, callback\u001b[39m=\u001b[39m\u001b[39mNone\u001b[39;00m):\n\u001b[0;32m    207\u001b[0m     \u001b[39m\"\"\"Schedule a func to be run\"\"\"\u001b[39;00m\n\u001b[1;32m--> 208\u001b[0m     result \u001b[39m=\u001b[39m ImmediateResult(func)\n\u001b[0;32m    209\u001b[0m     \u001b[39mif\u001b[39;00m callback:\n\u001b[0;32m    210\u001b[0m         callback(result)\n",
            "File \u001b[1;32mc:\\Users\\HP\\AppData\\Local\\Programs\\Python\\Python311\\Lib\\site-packages\\joblib\\_parallel_backends.py:597\u001b[0m, in \u001b[0;36mImmediateResult.__init__\u001b[1;34m(self, batch)\u001b[0m\n\u001b[0;32m    594\u001b[0m \u001b[39mdef\u001b[39;00m \u001b[39m__init__\u001b[39m(\u001b[39mself\u001b[39m, batch):\n\u001b[0;32m    595\u001b[0m     \u001b[39m# Don't delay the application, to avoid keeping the input\u001b[39;00m\n\u001b[0;32m    596\u001b[0m     \u001b[39m# arguments in memory\u001b[39;00m\n\u001b[1;32m--> 597\u001b[0m     \u001b[39mself\u001b[39m\u001b[39m.\u001b[39mresults \u001b[39m=\u001b[39m batch()\n",
            "File \u001b[1;32mc:\\Users\\HP\\AppData\\Local\\Programs\\Python\\Python311\\Lib\\site-packages\\joblib\\parallel.py:288\u001b[0m, in \u001b[0;36mBatchedCalls.__call__\u001b[1;34m(self)\u001b[0m\n\u001b[0;32m    284\u001b[0m \u001b[39mdef\u001b[39;00m \u001b[39m__call__\u001b[39m(\u001b[39mself\u001b[39m):\n\u001b[0;32m    285\u001b[0m     \u001b[39m# Set the default nested backend to self._backend but do not set the\u001b[39;00m\n\u001b[0;32m    286\u001b[0m     \u001b[39m# change the default number of processes to -1\u001b[39;00m\n\u001b[0;32m    287\u001b[0m     \u001b[39mwith\u001b[39;00m parallel_backend(\u001b[39mself\u001b[39m\u001b[39m.\u001b[39m_backend, n_jobs\u001b[39m=\u001b[39m\u001b[39mself\u001b[39m\u001b[39m.\u001b[39m_n_jobs):\n\u001b[1;32m--> 288\u001b[0m         \u001b[39mreturn\u001b[39;00m [func(\u001b[39m*\u001b[39;49margs, \u001b[39m*\u001b[39;49m\u001b[39m*\u001b[39;49mkwargs)\n\u001b[0;32m    289\u001b[0m                 \u001b[39mfor\u001b[39;49;00m func, args, kwargs \u001b[39min\u001b[39;49;00m \u001b[39mself\u001b[39;49m\u001b[39m.\u001b[39;49mitems]\n",
            "File \u001b[1;32mc:\\Users\\HP\\AppData\\Local\\Programs\\Python\\Python311\\Lib\\site-packages\\joblib\\parallel.py:288\u001b[0m, in \u001b[0;36m<listcomp>\u001b[1;34m(.0)\u001b[0m\n\u001b[0;32m    284\u001b[0m \u001b[39mdef\u001b[39;00m \u001b[39m__call__\u001b[39m(\u001b[39mself\u001b[39m):\n\u001b[0;32m    285\u001b[0m     \u001b[39m# Set the default nested backend to self._backend but do not set the\u001b[39;00m\n\u001b[0;32m    286\u001b[0m     \u001b[39m# change the default number of processes to -1\u001b[39;00m\n\u001b[0;32m    287\u001b[0m     \u001b[39mwith\u001b[39;00m parallel_backend(\u001b[39mself\u001b[39m\u001b[39m.\u001b[39m_backend, n_jobs\u001b[39m=\u001b[39m\u001b[39mself\u001b[39m\u001b[39m.\u001b[39m_n_jobs):\n\u001b[1;32m--> 288\u001b[0m         \u001b[39mreturn\u001b[39;00m [func(\u001b[39m*\u001b[39;49margs, \u001b[39m*\u001b[39;49m\u001b[39m*\u001b[39;49mkwargs)\n\u001b[0;32m    289\u001b[0m                 \u001b[39mfor\u001b[39;00m func, args, kwargs \u001b[39min\u001b[39;00m \u001b[39mself\u001b[39m\u001b[39m.\u001b[39mitems]\n",
            "File \u001b[1;32mc:\\Users\\HP\\AppData\\Local\\Programs\\Python\\Python311\\Lib\\site-packages\\sklearn\\utils\\fixes.py:117\u001b[0m, in \u001b[0;36m_FuncWrapper.__call__\u001b[1;34m(self, *args, **kwargs)\u001b[0m\n\u001b[0;32m    115\u001b[0m \u001b[39mdef\u001b[39;00m \u001b[39m__call__\u001b[39m(\u001b[39mself\u001b[39m, \u001b[39m*\u001b[39margs, \u001b[39m*\u001b[39m\u001b[39m*\u001b[39mkwargs):\n\u001b[0;32m    116\u001b[0m     \u001b[39mwith\u001b[39;00m config_context(\u001b[39m*\u001b[39m\u001b[39m*\u001b[39m\u001b[39mself\u001b[39m\u001b[39m.\u001b[39mconfig):\n\u001b[1;32m--> 117\u001b[0m         \u001b[39mreturn\u001b[39;00m \u001b[39mself\u001b[39;49m\u001b[39m.\u001b[39;49mfunction(\u001b[39m*\u001b[39;49margs, \u001b[39m*\u001b[39;49m\u001b[39m*\u001b[39;49mkwargs)\n",
            "File \u001b[1;32mc:\\Users\\HP\\AppData\\Local\\Programs\\Python\\Python311\\Lib\\site-packages\\sklearn\\model_selection\\_validation.py:686\u001b[0m, in \u001b[0;36m_fit_and_score\u001b[1;34m(estimator, X, y, scorer, train, test, verbose, parameters, fit_params, return_train_score, return_parameters, return_n_test_samples, return_times, return_estimator, split_progress, candidate_progress, error_score)\u001b[0m\n\u001b[0;32m    684\u001b[0m         estimator\u001b[39m.\u001b[39mfit(X_train, \u001b[39m*\u001b[39m\u001b[39m*\u001b[39mfit_params)\n\u001b[0;32m    685\u001b[0m     \u001b[39melse\u001b[39;00m:\n\u001b[1;32m--> 686\u001b[0m         estimator\u001b[39m.\u001b[39;49mfit(X_train, y_train, \u001b[39m*\u001b[39;49m\u001b[39m*\u001b[39;49mfit_params)\n\u001b[0;32m    688\u001b[0m \u001b[39mexcept\u001b[39;00m \u001b[39mException\u001b[39;00m:\n\u001b[0;32m    689\u001b[0m     \u001b[39m# Note fit time as time until error\u001b[39;00m\n\u001b[0;32m    690\u001b[0m     fit_time \u001b[39m=\u001b[39m time\u001b[39m.\u001b[39mtime() \u001b[39m-\u001b[39m start_time\n",
            "File \u001b[1;32mc:\\Users\\HP\\AppData\\Local\\Programs\\Python\\Python311\\Lib\\site-packages\\sklearn\\ensemble\\_weight_boosting.py:162\u001b[0m, in \u001b[0;36mBaseWeightBoosting.fit\u001b[1;34m(self, X, y, sample_weight)\u001b[0m\n\u001b[0;32m    159\u001b[0m sample_weight[zero_weight_mask] \u001b[39m=\u001b[39m \u001b[39m0.0\u001b[39m\n\u001b[0;32m    161\u001b[0m \u001b[39m# Boosting step\u001b[39;00m\n\u001b[1;32m--> 162\u001b[0m sample_weight, estimator_weight, estimator_error \u001b[39m=\u001b[39m \u001b[39mself\u001b[39;49m\u001b[39m.\u001b[39;49m_boost(\n\u001b[0;32m    163\u001b[0m     iboost, X, y, sample_weight, random_state\n\u001b[0;32m    164\u001b[0m )\n\u001b[0;32m    166\u001b[0m \u001b[39m# Early termination\u001b[39;00m\n\u001b[0;32m    167\u001b[0m \u001b[39mif\u001b[39;00m sample_weight \u001b[39mis\u001b[39;00m \u001b[39mNone\u001b[39;00m:\n",
            "File \u001b[1;32mc:\\Users\\HP\\AppData\\Local\\Programs\\Python\\Python311\\Lib\\site-packages\\sklearn\\ensemble\\_weight_boosting.py:572\u001b[0m, in \u001b[0;36mAdaBoostClassifier._boost\u001b[1;34m(self, iboost, X, y, sample_weight, random_state)\u001b[0m\n\u001b[0;32m    569\u001b[0m     \u001b[39mreturn\u001b[39;00m \u001b[39mself\u001b[39m\u001b[39m.\u001b[39m_boost_real(iboost, X, y, sample_weight, random_state)\n\u001b[0;32m    571\u001b[0m \u001b[39melse\u001b[39;00m:  \u001b[39m# elif self.algorithm == \"SAMME\":\u001b[39;00m\n\u001b[1;32m--> 572\u001b[0m     \u001b[39mreturn\u001b[39;00m \u001b[39mself\u001b[39;49m\u001b[39m.\u001b[39;49m_boost_discrete(iboost, X, y, sample_weight, random_state)\n",
            "File \u001b[1;32mc:\\Users\\HP\\AppData\\Local\\Programs\\Python\\Python311\\Lib\\site-packages\\sklearn\\ensemble\\_weight_boosting.py:637\u001b[0m, in \u001b[0;36mAdaBoostClassifier._boost_discrete\u001b[1;34m(self, iboost, X, y, sample_weight, random_state)\u001b[0m\n\u001b[0;32m    634\u001b[0m \u001b[39m\"\"\"Implement a single boost using the SAMME discrete algorithm.\"\"\"\u001b[39;00m\n\u001b[0;32m    635\u001b[0m estimator \u001b[39m=\u001b[39m \u001b[39mself\u001b[39m\u001b[39m.\u001b[39m_make_estimator(random_state\u001b[39m=\u001b[39mrandom_state)\n\u001b[1;32m--> 637\u001b[0m estimator\u001b[39m.\u001b[39;49mfit(X, y, sample_weight\u001b[39m=\u001b[39;49msample_weight)\n\u001b[0;32m    639\u001b[0m y_predict \u001b[39m=\u001b[39m estimator\u001b[39m.\u001b[39mpredict(X)\n\u001b[0;32m    641\u001b[0m \u001b[39mif\u001b[39;00m iboost \u001b[39m==\u001b[39m \u001b[39m0\u001b[39m:\n",
            "File \u001b[1;32mc:\\Users\\HP\\AppData\\Local\\Programs\\Python\\Python311\\Lib\\site-packages\\sklearn\\tree\\_classes.py:889\u001b[0m, in \u001b[0;36mDecisionTreeClassifier.fit\u001b[1;34m(self, X, y, sample_weight, check_input)\u001b[0m\n\u001b[0;32m    859\u001b[0m \u001b[39mdef\u001b[39;00m \u001b[39mfit\u001b[39m(\u001b[39mself\u001b[39m, X, y, sample_weight\u001b[39m=\u001b[39m\u001b[39mNone\u001b[39;00m, check_input\u001b[39m=\u001b[39m\u001b[39mTrue\u001b[39;00m):\n\u001b[0;32m    860\u001b[0m     \u001b[39m\"\"\"Build a decision tree classifier from the training set (X, y).\u001b[39;00m\n\u001b[0;32m    861\u001b[0m \n\u001b[0;32m    862\u001b[0m \u001b[39m    Parameters\u001b[39;00m\n\u001b[1;32m   (...)\u001b[0m\n\u001b[0;32m    886\u001b[0m \u001b[39m        Fitted estimator.\u001b[39;00m\n\u001b[0;32m    887\u001b[0m \u001b[39m    \"\"\"\u001b[39;00m\n\u001b[1;32m--> 889\u001b[0m     \u001b[39msuper\u001b[39;49m()\u001b[39m.\u001b[39;49mfit(\n\u001b[0;32m    890\u001b[0m         X,\n\u001b[0;32m    891\u001b[0m         y,\n\u001b[0;32m    892\u001b[0m         sample_weight\u001b[39m=\u001b[39;49msample_weight,\n\u001b[0;32m    893\u001b[0m         check_input\u001b[39m=\u001b[39;49mcheck_input,\n\u001b[0;32m    894\u001b[0m     )\n\u001b[0;32m    895\u001b[0m     \u001b[39mreturn\u001b[39;00m \u001b[39mself\u001b[39m\n",
            "File \u001b[1;32mc:\\Users\\HP\\AppData\\Local\\Programs\\Python\\Python311\\Lib\\site-packages\\sklearn\\tree\\_classes.py:379\u001b[0m, in \u001b[0;36mBaseDecisionTree.fit\u001b[1;34m(self, X, y, sample_weight, check_input)\u001b[0m\n\u001b[0;32m    368\u001b[0m \u001b[39melse\u001b[39;00m:\n\u001b[0;32m    369\u001b[0m     builder \u001b[39m=\u001b[39m BestFirstTreeBuilder(\n\u001b[0;32m    370\u001b[0m         splitter,\n\u001b[0;32m    371\u001b[0m         min_samples_split,\n\u001b[1;32m   (...)\u001b[0m\n\u001b[0;32m    376\u001b[0m         \u001b[39mself\u001b[39m\u001b[39m.\u001b[39mmin_impurity_decrease,\n\u001b[0;32m    377\u001b[0m     )\n\u001b[1;32m--> 379\u001b[0m builder\u001b[39m.\u001b[39;49mbuild(\u001b[39mself\u001b[39;49m\u001b[39m.\u001b[39;49mtree_, X, y, sample_weight)\n\u001b[0;32m    381\u001b[0m \u001b[39mif\u001b[39;00m \u001b[39mself\u001b[39m\u001b[39m.\u001b[39mn_outputs_ \u001b[39m==\u001b[39m \u001b[39m1\u001b[39m \u001b[39mand\u001b[39;00m is_classifier(\u001b[39mself\u001b[39m):\n\u001b[0;32m    382\u001b[0m     \u001b[39mself\u001b[39m\u001b[39m.\u001b[39mn_classes_ \u001b[39m=\u001b[39m \u001b[39mself\u001b[39m\u001b[39m.\u001b[39mn_classes_[\u001b[39m0\u001b[39m]\n",
            "\u001b[1;31mKeyboardInterrupt\u001b[0m: "
          ]
        }
      ],
      "source": [
        "# fit grid_search_ABC on training data\n",
        "grid_search_ABC.fit(X_train,y_train)"
      ]
    },
    {
      "cell_type": "code",
      "execution_count": null,
      "metadata": {
        "colab": {
          "base_uri": "https://localhost:8080/",
          "height": 360
        },
        "id": "tf1glbAeD3U7",
        "outputId": "0f73a5d0-31e4-4af1-f78b-64d577572539",
        "scrolled": true
      },
      "outputs": [
        {
          "data": {
            "text/html": [
              "<div>\n",
              "<style scoped>\n",
              "    .dataframe tbody tr th:only-of-type {\n",
              "        vertical-align: middle;\n",
              "    }\n",
              "\n",
              "    .dataframe tbody tr th {\n",
              "        vertical-align: top;\n",
              "    }\n",
              "\n",
              "    .dataframe thead th {\n",
              "        text-align: right;\n",
              "    }\n",
              "</style>\n",
              "<table border=\"1\" class=\"dataframe\">\n",
              "  <thead>\n",
              "    <tr style=\"text-align: right;\">\n",
              "      <th></th>\n",
              "      <th>mean_fit_time</th>\n",
              "      <th>std_fit_time</th>\n",
              "      <th>mean_score_time</th>\n",
              "      <th>std_score_time</th>\n",
              "      <th>param_base_estimator__max_depth</th>\n",
              "      <th>param_n_estimators</th>\n",
              "      <th>params</th>\n",
              "      <th>split0_test_score</th>\n",
              "      <th>split1_test_score</th>\n",
              "      <th>split2_test_score</th>\n",
              "      <th>mean_test_score</th>\n",
              "      <th>std_test_score</th>\n",
              "      <th>rank_test_score</th>\n",
              "      <th>split0_train_score</th>\n",
              "      <th>split1_train_score</th>\n",
              "      <th>split2_train_score</th>\n",
              "      <th>mean_train_score</th>\n",
              "      <th>std_train_score</th>\n",
              "    </tr>\n",
              "  </thead>\n",
              "  <tbody>\n",
              "    <tr>\n",
              "      <th>0</th>\n",
              "      <td>18.177589</td>\n",
              "      <td>0.633544</td>\n",
              "      <td>0.706988</td>\n",
              "      <td>0.059780</td>\n",
              "      <td>2</td>\n",
              "      <td>200</td>\n",
              "      <td>{'base_estimator__max_depth': 2, 'n_estimators...</td>\n",
              "      <td>0.926966</td>\n",
              "      <td>0.975725</td>\n",
              "      <td>0.955801</td>\n",
              "      <td>0.952831</td>\n",
              "      <td>0.020017</td>\n",
              "      <td>1</td>\n",
              "      <td>0.996306</td>\n",
              "      <td>0.995094</td>\n",
              "      <td>0.996461</td>\n",
              "      <td>0.995954</td>\n",
              "      <td>6.111043e-04</td>\n",
              "    </tr>\n",
              "    <tr>\n",
              "      <th>1</th>\n",
              "      <td>36.226731</td>\n",
              "      <td>0.897669</td>\n",
              "      <td>1.397056</td>\n",
              "      <td>0.026149</td>\n",
              "      <td>2</td>\n",
              "      <td>400</td>\n",
              "      <td>{'base_estimator__max_depth': 2, 'n_estimators...</td>\n",
              "      <td>0.920643</td>\n",
              "      <td>0.974585</td>\n",
              "      <td>0.956496</td>\n",
              "      <td>0.950575</td>\n",
              "      <td>0.022416</td>\n",
              "      <td>2</td>\n",
              "      <td>0.997991</td>\n",
              "      <td>0.996683</td>\n",
              "      <td>0.997996</td>\n",
              "      <td>0.997556</td>\n",
              "      <td>6.179779e-04</td>\n",
              "    </tr>\n",
              "    <tr>\n",
              "      <th>2</th>\n",
              "      <td>65.012256</td>\n",
              "      <td>8.230633</td>\n",
              "      <td>2.294778</td>\n",
              "      <td>0.128504</td>\n",
              "      <td>2</td>\n",
              "      <td>600</td>\n",
              "      <td>{'base_estimator__max_depth': 2, 'n_estimators...</td>\n",
              "      <td>0.921720</td>\n",
              "      <td>0.973335</td>\n",
              "      <td>0.953955</td>\n",
              "      <td>0.949670</td>\n",
              "      <td>0.021288</td>\n",
              "      <td>3</td>\n",
              "      <td>0.998494</td>\n",
              "      <td>0.997923</td>\n",
              "      <td>0.998417</td>\n",
              "      <td>0.998278</td>\n",
              "      <td>2.530744e-04</td>\n",
              "    </tr>\n",
              "    <tr>\n",
              "      <th>3</th>\n",
              "      <td>42.311028</td>\n",
              "      <td>3.715712</td>\n",
              "      <td>0.820627</td>\n",
              "      <td>0.102460</td>\n",
              "      <td>5</td>\n",
              "      <td>200</td>\n",
              "      <td>{'base_estimator__max_depth': 5, 'n_estimators...</td>\n",
              "      <td>0.890676</td>\n",
              "      <td>0.939908</td>\n",
              "      <td>0.942066</td>\n",
              "      <td>0.924216</td>\n",
              "      <td>0.023733</td>\n",
              "      <td>5</td>\n",
              "      <td>1.000000</td>\n",
              "      <td>1.000000</td>\n",
              "      <td>1.000000</td>\n",
              "      <td>1.000000</td>\n",
              "      <td>0.000000e+00</td>\n",
              "    </tr>\n",
              "    <tr>\n",
              "      <th>4</th>\n",
              "      <td>83.105595</td>\n",
              "      <td>0.345464</td>\n",
              "      <td>1.616693</td>\n",
              "      <td>0.121050</td>\n",
              "      <td>5</td>\n",
              "      <td>400</td>\n",
              "      <td>{'base_estimator__max_depth': 5, 'n_estimators...</td>\n",
              "      <td>0.890531</td>\n",
              "      <td>0.938936</td>\n",
              "      <td>0.945019</td>\n",
              "      <td>0.924828</td>\n",
              "      <td>0.024379</td>\n",
              "      <td>4</td>\n",
              "      <td>1.000000</td>\n",
              "      <td>1.000000</td>\n",
              "      <td>1.000000</td>\n",
              "      <td>1.000000</td>\n",
              "      <td>0.000000e+00</td>\n",
              "    </tr>\n",
              "    <tr>\n",
              "      <th>5</th>\n",
              "      <td>127.135226</td>\n",
              "      <td>2.969243</td>\n",
              "      <td>2.297911</td>\n",
              "      <td>0.119078</td>\n",
              "      <td>5</td>\n",
              "      <td>600</td>\n",
              "      <td>{'base_estimator__max_depth': 5, 'n_estimators...</td>\n",
              "      <td>0.882430</td>\n",
              "      <td>0.940402</td>\n",
              "      <td>0.937749</td>\n",
              "      <td>0.920194</td>\n",
              "      <td>0.026725</td>\n",
              "      <td>6</td>\n",
              "      <td>1.000000</td>\n",
              "      <td>1.000000</td>\n",
              "      <td>1.000000</td>\n",
              "      <td>1.000000</td>\n",
              "      <td>6.409876e-17</td>\n",
              "    </tr>\n",
              "  </tbody>\n",
              "</table>\n",
              "</div>"
            ],
            "text/plain": [
              "   mean_fit_time  std_fit_time  mean_score_time  std_score_time  \\\n",
              "0      18.177589      0.633544         0.706988        0.059780   \n",
              "1      36.226731      0.897669         1.397056        0.026149   \n",
              "2      65.012256      8.230633         2.294778        0.128504   \n",
              "3      42.311028      3.715712         0.820627        0.102460   \n",
              "4      83.105595      0.345464         1.616693        0.121050   \n",
              "5     127.135226      2.969243         2.297911        0.119078   \n",
              "\n",
              "  param_base_estimator__max_depth param_n_estimators  \\\n",
              "0                               2                200   \n",
              "1                               2                400   \n",
              "2                               2                600   \n",
              "3                               5                200   \n",
              "4                               5                400   \n",
              "5                               5                600   \n",
              "\n",
              "                                              params  split0_test_score  \\\n",
              "0  {'base_estimator__max_depth': 2, 'n_estimators...           0.926966   \n",
              "1  {'base_estimator__max_depth': 2, 'n_estimators...           0.920643   \n",
              "2  {'base_estimator__max_depth': 2, 'n_estimators...           0.921720   \n",
              "3  {'base_estimator__max_depth': 5, 'n_estimators...           0.890676   \n",
              "4  {'base_estimator__max_depth': 5, 'n_estimators...           0.890531   \n",
              "5  {'base_estimator__max_depth': 5, 'n_estimators...           0.882430   \n",
              "\n",
              "   split1_test_score  split2_test_score  mean_test_score  std_test_score  \\\n",
              "0           0.975725           0.955801         0.952831        0.020017   \n",
              "1           0.974585           0.956496         0.950575        0.022416   \n",
              "2           0.973335           0.953955         0.949670        0.021288   \n",
              "3           0.939908           0.942066         0.924216        0.023733   \n",
              "4           0.938936           0.945019         0.924828        0.024379   \n",
              "5           0.940402           0.937749         0.920194        0.026725   \n",
              "\n",
              "   rank_test_score  split0_train_score  split1_train_score  \\\n",
              "0                1            0.996306            0.995094   \n",
              "1                2            0.997991            0.996683   \n",
              "2                3            0.998494            0.997923   \n",
              "3                5            1.000000            1.000000   \n",
              "4                4            1.000000            1.000000   \n",
              "5                6            1.000000            1.000000   \n",
              "\n",
              "   split2_train_score  mean_train_score  std_train_score  \n",
              "0            0.996461          0.995954     6.111043e-04  \n",
              "1            0.997996          0.997556     6.179779e-04  \n",
              "2            0.998417          0.998278     2.530744e-04  \n",
              "3            1.000000          1.000000     0.000000e+00  \n",
              "4            1.000000          1.000000     0.000000e+00  \n",
              "5            1.000000          1.000000     6.409876e-17  "
            ]
          },
          "execution_count": 42,
          "metadata": {},
          "output_type": "execute_result"
        }
      ],
      "source": [
        "# cv results\n",
        "cv_results = pd.DataFrame(grid_search_ABC.cv_results_)\n",
        "\n",
        "# print cv_results\n",
        "cv_results\n"
      ]
    },
    {
      "cell_type": "code",
      "execution_count": null,
      "metadata": {
        "colab": {
          "base_uri": "https://localhost:8080/",
          "height": 407
        },
        "id": "42TG9kveD3U7",
        "outputId": "3e2b89d2-9bd9-434d-daed-6610f738bc9f"
      },
      "outputs": [
        {
          "data": {
            "image/png": "[encoded data removed]",
            "text/plain": [
              "<Figure size 1600x600 with 2 Axes>"
            ]
          },
          "metadata": {},
          "output_type": "display_data"
        }
      ],
      "source": [
        "# plotting AUC with hyperparameter combinations\n",
        "\n",
        "plt.figure(figsize=(16,6))\n",
        "for n, depth in enumerate(param_grid['base_estimator__max_depth']):\n",
        "    \n",
        "\n",
        "    # subplot 1/n\n",
        "    plt.subplot(1,3, n+1)\n",
        "    depth_df = cv_results[cv_results['param_base_estimator__max_depth']==depth]\n",
        "    \n",
        "    # plot depth_df[\"param_n_estimators\"] for depth_df[\"mean_test_score\"],depth_df[\"mean_train_score\"] \n",
        "    plt.plot(depth_df['param_n_estimators'],depth_df['mean_test_score'])\n",
        "    plt.plot(depth_df['param_n_estimators'],depth_df['mean_train_score'])\n",
        "    plt.xlabel('n_estimators')\n",
        "    plt.ylabel('AUC')\n",
        "    plt.title('max_depth={0}'.format(depth))\n",
        "    plt.ylim([0.60,1])\n",
        "    plt.legend(['test_score','train_score'],loc='upper left')\n",
        "    plt.xscale('log')"
      ]
    },
    {
      "cell_type": "markdown",
      "metadata": {
        "id": "b0QPPEx8D3U8"
      },
      "source": [
        "The results above show that:\n",
        "- The ensemble with max_depth=5 is clearly overfitting (training auc is almost 1, while the test score is much lower)\n",
        "- At max_depth=2, the model performs slightly better (approx 95% AUC) with a higher test score \n",
        "\n",
        "Thus, we should go ahead with ```max_depth=2``` and ```n_estimators=200```.\n",
        "\n",
        "Note that we haven't experimented with many other important hyperparameters till now, such as ```learning rate```, ```subsample``` etc., and the results might be considerably improved by tuning them. We'll next experiment with these hyperparameters.\n",
        "\n",
        "As of now again rebuild AdaBoostClassifier with chosen hyperparameters"
      ]
    },
    {
      "cell_type": "code",
      "execution_count": 67,
      "metadata": {
        "colab": {
          "base_uri": "https://localhost:8080/"
        },
        "id": "nhE0yFVqD3U8",
        "outputId": "f30acfee-09d1-4870-ed62-b6831aa015a4"
      },
      "outputs": [
        {
          "data": {
            "text/html": [
              "<style>#sk-container-id-2 {color: black;background-color: white;}#sk-container-id-2 pre{padding: 0;}#sk-container-id-2 div.sk-toggleable {background-color: white;}#sk-container-id-2 label.sk-toggleable__label {cursor: pointer;display: block;width: 100%;margin-bottom: 0;padding: 0.3em;box-sizing: border-box;text-align: center;}#sk-container-id-2 label.sk-toggleable__label-arrow:before {content: \"▸\";float: left;margin-right: 0.25em;color: #696969;}#sk-container-id-2 label.sk-toggleable__label-arrow:hover:before {color: black;}#sk-container-id-2 div.sk-estimator:hover label.sk-toggleable__label-arrow:before {color: black;}#sk-container-id-2 div.sk-toggleable__content {max-height: 0;max-width: 0;overflow: hidden;text-align: left;background-color: #f0f8ff;}#sk-container-id-2 div.sk-toggleable__content pre {margin: 0.2em;color: black;border-radius: 0.25em;background-color: #f0f8ff;}#sk-container-id-2 input.sk-toggleable__control:checked~div.sk-toggleable__content {max-height: 200px;max-width: 100%;overflow: auto;}#sk-container-id-2 input.sk-toggleable__control:checked~label.sk-toggleable__label-arrow:before {content: \"▾\";}#sk-container-id-2 div.sk-estimator input.sk-toggleable__control:checked~label.sk-toggleable__label {background-color: #d4ebff;}#sk-container-id-2 div.sk-label input.sk-toggleable__control:checked~label.sk-toggleable__label {background-color: #d4ebff;}#sk-container-id-2 input.sk-hidden--visually {border: 0;clip: rect(1px 1px 1px 1px);clip: rect(1px, 1px, 1px, 1px);height: 1px;margin: -1px;overflow: hidden;padding: 0;position: absolute;width: 1px;}#sk-container-id-2 div.sk-estimator {font-family: monospace;background-color: #f0f8ff;border: 1px dotted black;border-radius: 0.25em;box-sizing: border-box;margin-bottom: 0.5em;}#sk-container-id-2 div.sk-estimator:hover {background-color: #d4ebff;}#sk-container-id-2 div.sk-parallel-item::after {content: \"\";width: 100%;border-bottom: 1px solid gray;flex-grow: 1;}#sk-container-id-2 div.sk-label:hover label.sk-toggleable__label {background-color: #d4ebff;}#sk-container-id-2 div.sk-serial::before {content: \"\";position: absolute;border-left: 1px solid gray;box-sizing: border-box;top: 0;bottom: 0;left: 50%;z-index: 0;}#sk-container-id-2 div.sk-serial {display: flex;flex-direction: column;align-items: center;background-color: white;padding-right: 0.2em;padding-left: 0.2em;position: relative;}#sk-container-id-2 div.sk-item {position: relative;z-index: 1;}#sk-container-id-2 div.sk-parallel {display: flex;align-items: stretch;justify-content: center;background-color: white;position: relative;}#sk-container-id-2 div.sk-item::before, #sk-container-id-2 div.sk-parallel-item::before {content: \"\";position: absolute;border-left: 1px solid gray;box-sizing: border-box;top: 0;bottom: 0;left: 50%;z-index: -1;}#sk-container-id-2 div.sk-parallel-item {display: flex;flex-direction: column;z-index: 1;position: relative;background-color: white;}#sk-container-id-2 div.sk-parallel-item:first-child::after {align-self: flex-end;width: 50%;}#sk-container-id-2 div.sk-parallel-item:last-child::after {align-self: flex-start;width: 50%;}#sk-container-id-2 div.sk-parallel-item:only-child::after {width: 0;}#sk-container-id-2 div.sk-dashed-wrapped {border: 1px dashed gray;margin: 0 0.4em 0.5em 0.4em;box-sizing: border-box;padding-bottom: 0.4em;background-color: white;}#sk-container-id-2 div.sk-label label {font-family: monospace;font-weight: bold;display: inline-block;line-height: 1.2em;}#sk-container-id-2 div.sk-label-container {text-align: center;}#sk-container-id-2 div.sk-container {/* jupyter's `normalize.less` sets `[hidden] { display: none; }` but bootstrap.min.css set `[hidden] { display: none !important; }` so we also need the `!important` here to be able to override the default hidden behavior on the sphinx rendered scikit-learn.org. See: https://github.com/scikit-learn/scikit-learn/issues/21755 */display: inline-block !important;position: relative;}#sk-container-id-2 div.sk-text-repr-fallback {display: none;}</style><div id=\"sk-container-id-2\" class=\"sk-top-container\"><div class=\"sk-text-repr-fallback\"><pre>AdaBoostClassifier(algorithm=&#x27;SAMME&#x27;,\n",
              "                   base_estimator=DecisionTreeClassifier(max_depth=2,\n",
              "                                                         random_state=1),\n",
              "                   learning_rate=0.6, n_estimators=200, random_state=1)</pre><b>In a Jupyter environment, please rerun this cell to show the HTML representation or trust the notebook. <br />On GitHub, the HTML representation is unable to render, please try loading this page with nbviewer.org.</b></div><div class=\"sk-container\" hidden><div class=\"sk-item sk-dashed-wrapped\"><div class=\"sk-label-container\"><div class=\"sk-label sk-toggleable\"><input class=\"sk-toggleable__control sk-hidden--visually\" id=\"sk-estimator-id-4\" type=\"checkbox\" ><label for=\"sk-estimator-id-4\" class=\"sk-toggleable__label sk-toggleable__label-arrow\">AdaBoostClassifier</label><div class=\"sk-toggleable__content\"><pre>AdaBoostClassifier(algorithm=&#x27;SAMME&#x27;,\n",
              "                   base_estimator=DecisionTreeClassifier(max_depth=2,\n",
              "                                                         random_state=1),\n",
              "                   learning_rate=0.6, n_estimators=200, random_state=1)</pre></div></div></div><div class=\"sk-parallel\"><div class=\"sk-parallel-item\"><div class=\"sk-item\"><div class=\"sk-label-container\"><div class=\"sk-label sk-toggleable\"><input class=\"sk-toggleable__control sk-hidden--visually\" id=\"sk-estimator-id-5\" type=\"checkbox\" ><label for=\"sk-estimator-id-5\" class=\"sk-toggleable__label sk-toggleable__label-arrow\">base_estimator: DecisionTreeClassifier</label><div class=\"sk-toggleable__content\"><pre>DecisionTreeClassifier(max_depth=2, random_state=1)</pre></div></div></div><div class=\"sk-serial\"><div class=\"sk-item\"><div class=\"sk-estimator sk-toggleable\"><input class=\"sk-toggleable__control sk-hidden--visually\" id=\"sk-estimator-id-6\" type=\"checkbox\" ><label for=\"sk-estimator-id-6\" class=\"sk-toggleable__label sk-toggleable__label-arrow\">DecisionTreeClassifier</label><div class=\"sk-toggleable__content\"><pre>DecisionTreeClassifier(max_depth=2, random_state=1)</pre></div></div></div></div></div></div></div></div></div></div>"
            ],
            "text/plain": [
              "AdaBoostClassifier(algorithm='SAMME',\n",
              "                   base_estimator=DecisionTreeClassifier(max_depth=2,\n",
              "                                                         random_state=1),\n",
              "                   learning_rate=0.6, n_estimators=200, random_state=1)"
            ]
          },
          "execution_count": 67,
          "metadata": {},
          "output_type": "execute_result"
        }
      ],
      "source": [
        "# DecisionTreeClassifier  as base estimator with max_depth as 2 and random_state as 1\n",
        "tree = DecisionTreeClassifier(max_depth = 2 , random_state = 1)\n",
        "\n",
        "\n",
        "'''adaboost with the tree as base estimator\n",
        "# learning rate is arbitrarily set as 0.6, n_eastimator as 200 and rest same'''\n",
        "\n",
        "ABC = AdaBoostClassifier(\n",
        "    base_estimator=tree,\n",
        "    learning_rate=0.6,\n",
        "    n_estimators=200,\n",
        "    algorithm='SAMME',\n",
        "    random_state=1\n",
        ")\n",
        "\n",
        "# fitting ABCon training data\n",
        "ABC.fit(X_train,y_train)"
      ]
    },
    {
      "cell_type": "code",
      "execution_count": 68,
      "metadata": {
        "colab": {
          "base_uri": "https://localhost:8080/"
        },
        "id": "pxaRQB8eD3U8",
        "outputId": "68216ed2-b465-4c13-b801-0ca6c7227204"
      },
      "outputs": [
        {
          "data": {
            "text/plain": [
              "array([[0.61058431, 0.38941569],\n",
              "       [0.60742586, 0.39257414],\n",
              "       [0.63265753, 0.36734247],\n",
              "       [0.58758342, 0.41241658],\n",
              "       [0.57045678, 0.42954322],\n",
              "       [0.61162484, 0.38837516],\n",
              "       [0.59403993, 0.40596007],\n",
              "       [0.60805124, 0.39194876],\n",
              "       [0.60362848, 0.39637152],\n",
              "       [0.57654304, 0.42345696]])"
            ]
          },
          "execution_count": 68,
          "metadata": {},
          "output_type": "execute_result"
        }
      ],
      "source": [
        "# predict on test data\n",
        "predictions = ABC.predict_proba(X_test)\n",
        "# print top 10 prediction probabilities\n",
        "predictions[:10]\n"
      ]
    },
    {
      "cell_type": "code",
      "execution_count": 69,
      "metadata": {
        "colab": {
          "base_uri": "https://localhost:8080/"
        },
        "id": "PvTVp3a-D3U9",
        "outputId": "7adeed32-a564-4207-ad3e-4c8d9ef7ddf8"
      },
      "outputs": [
        {
          "data": {
            "text/plain": [
              "0.960727748545338"
            ]
          },
          "execution_count": 69,
          "metadata": {},
          "output_type": "execute_result"
        }
      ],
      "source": [
        "# Calculate roc auc score \n",
        "metrics.roc_auc_score(y_test,predictions[:,1])"
      ]
    },
    {
      "cell_type": "markdown",
      "metadata": {
        "id": "2QlUGz4mD3U9"
      },
      "source": [
        "Well done, you have improved the model and adaboost gave us 96% of roc_auc coverage, which is a kind of good coverage\n",
        "\n",
        "### **`2. Gradient Boosting Classifier`**\n",
        "\n",
        "\n",
        "\n",
        "Reference doc: https://scikit-learn.org/stable/modules/generated/sklearn.ensemble.GradientBoostingClassifier.html\n",
        "\n",
        "\n",
        "Boosting is a method of converting weak learners into strong learners. In boosting, each new tree is a fit on a modified version of the original data set. \n",
        "\n",
        "Let's now try the gradient boosting classifier. We'll experiment with two main hyperparameters now - ```learning_rate``` (shrinkage) and ```subsample```. \n",
        "\n",
        "By adjusting the learning rate to less than 1, we can regularize the model. A model with higher learning_rate learns fast, but is prone to overfitting; one with a lower learning rate learns slowly, but avoids overfitting.\n",
        "\n",
        "Also, there's a trade-off between ```learning_rate``` and ```n_estimators``` - the higher the learning rate, the lesser trees the model needs (and thus we usually tune only one of them).\n",
        "\n",
        "Also, by subsampling (setting ```subsample``` to less than 1), we can have the individual models built on random subsamples of size ```subsample```. That way, each tree will be trained on different subsets and reduce the model's variance."
      ]
    },
    {
      "cell_type": "markdown",
      "metadata": {
        "id": "orSq_jpEtmRg"
      },
      "source": [
        "## **`Watch Video 3: Gradient Boosting Intuition`**"
      ]
    },
    {
      "cell_type": "code",
      "execution_count": 70,
      "metadata": {
        "id": "i4RK3nuZD3U9"
      },
      "outputs": [],
      "source": [
        "# parameter grid with learning_rate as [0.2, 0.6, 0.9] and subsample as [0.3, 0.6, 0.9]\n",
        "param_grid = {'learning_rate':[0.2, 0.6, 0.9],\n",
        "              'subsample':[0.3, 0.6, 0.9]}"
      ]
    },
    {
      "cell_type": "code",
      "execution_count": 71,
      "metadata": {
        "id": "zFpD3jmkD3U9"
      },
      "outputs": [],
      "source": [
        "# Gradient boost as base estimator with max_depth as 2 and n_estimators as 200 and random_state as 1\n",
        "GBC = GradientBoostingClassifier(max_depth=2,n_estimators=200,random_state=1)\n"
      ]
    },
    {
      "cell_type": "markdown",
      "metadata": {
        "id": "VGYdbjKLD3U-"
      },
      "source": [
        "##### Run grid search\n"
      ]
    },
    {
      "cell_type": "code",
      "execution_count": 72,
      "metadata": {
        "colab": {
          "base_uri": "https://localhost:8080/"
        },
        "id": "VtnUljW9D3U-",
        "outputId": "e39b38e2-988b-4ca0-c41a-c0e127f528f8",
        "scrolled": true
      },
      "outputs": [
        {
          "name": "stdout",
          "output_type": "stream",
          "text": [
            "Fitting 3 folds for each of 9 candidates, totalling 27 fits\n"
          ]
        },
        {
          "data": {
            "text/html": [
              "<style>#sk-container-id-3 {color: black;background-color: white;}#sk-container-id-3 pre{padding: 0;}#sk-container-id-3 div.sk-toggleable {background-color: white;}#sk-container-id-3 label.sk-toggleable__label {cursor: pointer;display: block;width: 100%;margin-bottom: 0;padding: 0.3em;box-sizing: border-box;text-align: center;}#sk-container-id-3 label.sk-toggleable__label-arrow:before {content: \"▸\";float: left;margin-right: 0.25em;color: #696969;}#sk-container-id-3 label.sk-toggleable__label-arrow:hover:before {color: black;}#sk-container-id-3 div.sk-estimator:hover label.sk-toggleable__label-arrow:before {color: black;}#sk-container-id-3 div.sk-toggleable__content {max-height: 0;max-width: 0;overflow: hidden;text-align: left;background-color: #f0f8ff;}#sk-container-id-3 div.sk-toggleable__content pre {margin: 0.2em;color: black;border-radius: 0.25em;background-color: #f0f8ff;}#sk-container-id-3 input.sk-toggleable__control:checked~div.sk-toggleable__content {max-height: 200px;max-width: 100%;overflow: auto;}#sk-container-id-3 input.sk-toggleable__control:checked~label.sk-toggleable__label-arrow:before {content: \"▾\";}#sk-container-id-3 div.sk-estimator input.sk-toggleable__control:checked~label.sk-toggleable__label {background-color: #d4ebff;}#sk-container-id-3 div.sk-label input.sk-toggleable__control:checked~label.sk-toggleable__label {background-color: #d4ebff;}#sk-container-id-3 input.sk-hidden--visually {border: 0;clip: rect(1px 1px 1px 1px);clip: rect(1px, 1px, 1px, 1px);height: 1px;margin: -1px;overflow: hidden;padding: 0;position: absolute;width: 1px;}#sk-container-id-3 div.sk-estimator {font-family: monospace;background-color: #f0f8ff;border: 1px dotted black;border-radius: 0.25em;box-sizing: border-box;margin-bottom: 0.5em;}#sk-container-id-3 div.sk-estimator:hover {background-color: #d4ebff;}#sk-container-id-3 div.sk-parallel-item::after {content: \"\";width: 100%;border-bottom: 1px solid gray;flex-grow: 1;}#sk-container-id-3 div.sk-label:hover label.sk-toggleable__label {background-color: #d4ebff;}#sk-container-id-3 div.sk-serial::before {content: \"\";position: absolute;border-left: 1px solid gray;box-sizing: border-box;top: 0;bottom: 0;left: 50%;z-index: 0;}#sk-container-id-3 div.sk-serial {display: flex;flex-direction: column;align-items: center;background-color: white;padding-right: 0.2em;padding-left: 0.2em;position: relative;}#sk-container-id-3 div.sk-item {position: relative;z-index: 1;}#sk-container-id-3 div.sk-parallel {display: flex;align-items: stretch;justify-content: center;background-color: white;position: relative;}#sk-container-id-3 div.sk-item::before, #sk-container-id-3 div.sk-parallel-item::before {content: \"\";position: absolute;border-left: 1px solid gray;box-sizing: border-box;top: 0;bottom: 0;left: 50%;z-index: -1;}#sk-container-id-3 div.sk-parallel-item {display: flex;flex-direction: column;z-index: 1;position: relative;background-color: white;}#sk-container-id-3 div.sk-parallel-item:first-child::after {align-self: flex-end;width: 50%;}#sk-container-id-3 div.sk-parallel-item:last-child::after {align-self: flex-start;width: 50%;}#sk-container-id-3 div.sk-parallel-item:only-child::after {width: 0;}#sk-container-id-3 div.sk-dashed-wrapped {border: 1px dashed gray;margin: 0 0.4em 0.5em 0.4em;box-sizing: border-box;padding-bottom: 0.4em;background-color: white;}#sk-container-id-3 div.sk-label label {font-family: monospace;font-weight: bold;display: inline-block;line-height: 1.2em;}#sk-container-id-3 div.sk-label-container {text-align: center;}#sk-container-id-3 div.sk-container {/* jupyter's `normalize.less` sets `[hidden] { display: none; }` but bootstrap.min.css set `[hidden] { display: none !important; }` so we also need the `!important` here to be able to override the default hidden behavior on the sphinx rendered scikit-learn.org. See: https://github.com/scikit-learn/scikit-learn/issues/21755 */display: inline-block !important;position: relative;}#sk-container-id-3 div.sk-text-repr-fallback {display: none;}</style><div id=\"sk-container-id-3\" class=\"sk-top-container\"><div class=\"sk-text-repr-fallback\"><pre>GridSearchCV(cv=3,\n",
              "             estimator=GradientBoostingClassifier(max_depth=2, n_estimators=200,\n",
              "                                                  random_state=1),\n",
              "             param_grid={&#x27;learning_rate&#x27;: [0.2, 0.6, 0.9],\n",
              "                         &#x27;subsample&#x27;: [0.3, 0.6, 0.9]},\n",
              "             return_train_score=True, scoring=&#x27;roc_auc&#x27;, verbose=1)</pre><b>In a Jupyter environment, please rerun this cell to show the HTML representation or trust the notebook. <br />On GitHub, the HTML representation is unable to render, please try loading this page with nbviewer.org.</b></div><div class=\"sk-container\" hidden><div class=\"sk-item sk-dashed-wrapped\"><div class=\"sk-label-container\"><div class=\"sk-label sk-toggleable\"><input class=\"sk-toggleable__control sk-hidden--visually\" id=\"sk-estimator-id-7\" type=\"checkbox\" ><label for=\"sk-estimator-id-7\" class=\"sk-toggleable__label sk-toggleable__label-arrow\">GridSearchCV</label><div class=\"sk-toggleable__content\"><pre>GridSearchCV(cv=3,\n",
              "             estimator=GradientBoostingClassifier(max_depth=2, n_estimators=200,\n",
              "                                                  random_state=1),\n",
              "             param_grid={&#x27;learning_rate&#x27;: [0.2, 0.6, 0.9],\n",
              "                         &#x27;subsample&#x27;: [0.3, 0.6, 0.9]},\n",
              "             return_train_score=True, scoring=&#x27;roc_auc&#x27;, verbose=1)</pre></div></div></div><div class=\"sk-parallel\"><div class=\"sk-parallel-item\"><div class=\"sk-item\"><div class=\"sk-label-container\"><div class=\"sk-label sk-toggleable\"><input class=\"sk-toggleable__control sk-hidden--visually\" id=\"sk-estimator-id-8\" type=\"checkbox\" ><label for=\"sk-estimator-id-8\" class=\"sk-toggleable__label sk-toggleable__label-arrow\">estimator: GradientBoostingClassifier</label><div class=\"sk-toggleable__content\"><pre>GradientBoostingClassifier(max_depth=2, n_estimators=200, random_state=1)</pre></div></div></div><div class=\"sk-serial\"><div class=\"sk-item\"><div class=\"sk-estimator sk-toggleable\"><input class=\"sk-toggleable__control sk-hidden--visually\" id=\"sk-estimator-id-9\" type=\"checkbox\" ><label for=\"sk-estimator-id-9\" class=\"sk-toggleable__label sk-toggleable__label-arrow\">GradientBoostingClassifier</label><div class=\"sk-toggleable__content\"><pre>GradientBoostingClassifier(max_depth=2, n_estimators=200, random_state=1)</pre></div></div></div></div></div></div></div></div></div></div>"
            ],
            "text/plain": [
              "GridSearchCV(cv=3,\n",
              "             estimator=GradientBoostingClassifier(max_depth=2, n_estimators=200,\n",
              "                                                  random_state=1),\n",
              "             param_grid={'learning_rate': [0.2, 0.6, 0.9],\n",
              "                         'subsample': [0.3, 0.6, 0.9]},\n",
              "             return_train_score=True, scoring='roc_auc', verbose=1)"
            ]
          },
          "execution_count": 72,
          "metadata": {},
          "output_type": "execute_result"
        }
      ],
      "source": [
        "# CV folds as 3\n",
        "folds = 3\n",
        "\n",
        "#Instantiate grid search with GBC, folds, param_grid and scoring as roc_auc, return_train_score as True and verbose as 1\n",
        "\n",
        "grid_search_GBC = GridSearchCV(GBC,cv=folds,param_grid=param_grid,scoring='roc_auc',return_train_score=True,verbose=1)\n",
        "\n",
        "# grid_search_GBC fit on training data \n",
        "grid_search_GBC.fit(X_train,y_train)"
      ]
    },
    {
      "cell_type": "code",
      "execution_count": 73,
      "metadata": {
        "colab": {
          "base_uri": "https://localhost:8080/",
          "height": 485
        },
        "id": "Mm1tYS_iD3U-",
        "outputId": "085bd977-b4ed-429f-f440-d3625ec45112",
        "scrolled": true
      },
      "outputs": [
        {
          "data": {
            "text/html": [
              "<div>\n",
              "<style scoped>\n",
              "    .dataframe tbody tr th:only-of-type {\n",
              "        vertical-align: middle;\n",
              "    }\n",
              "\n",
              "    .dataframe tbody tr th {\n",
              "        vertical-align: top;\n",
              "    }\n",
              "\n",
              "    .dataframe thead th {\n",
              "        text-align: right;\n",
              "    }\n",
              "</style>\n",
              "<table border=\"1\" class=\"dataframe\">\n",
              "  <thead>\n",
              "    <tr style=\"text-align: right;\">\n",
              "      <th></th>\n",
              "      <th>mean_fit_time</th>\n",
              "      <th>std_fit_time</th>\n",
              "      <th>mean_score_time</th>\n",
              "      <th>std_score_time</th>\n",
              "      <th>param_learning_rate</th>\n",
              "      <th>param_subsample</th>\n",
              "      <th>params</th>\n",
              "      <th>split0_test_score</th>\n",
              "      <th>split1_test_score</th>\n",
              "      <th>split2_test_score</th>\n",
              "      <th>mean_test_score</th>\n",
              "      <th>std_test_score</th>\n",
              "      <th>rank_test_score</th>\n",
              "      <th>split0_train_score</th>\n",
              "      <th>split1_train_score</th>\n",
              "      <th>split2_train_score</th>\n",
              "      <th>mean_train_score</th>\n",
              "      <th>std_train_score</th>\n",
              "    </tr>\n",
              "  </thead>\n",
              "  <tbody>\n",
              "    <tr>\n",
              "      <th>0</th>\n",
              "      <td>9.046992</td>\n",
              "      <td>0.464634</td>\n",
              "      <td>0.061025</td>\n",
              "      <td>0.006313</td>\n",
              "      <td>0.2</td>\n",
              "      <td>0.3</td>\n",
              "      <td>{'learning_rate': 0.2, 'subsample': 0.3}</td>\n",
              "      <td>0.806188</td>\n",
              "      <td>0.548287</td>\n",
              "      <td>0.884576</td>\n",
              "      <td>0.746350</td>\n",
              "      <td>0.143662</td>\n",
              "      <td>3</td>\n",
              "      <td>0.909847</td>\n",
              "      <td>0.603370</td>\n",
              "      <td>0.843124</td>\n",
              "      <td>0.785447</td>\n",
              "      <td>0.131598</td>\n",
              "    </tr>\n",
              "    <tr>\n",
              "      <th>1</th>\n",
              "      <td>14.453612</td>\n",
              "      <td>0.137006</td>\n",
              "      <td>0.062191</td>\n",
              "      <td>0.017557</td>\n",
              "      <td>0.2</td>\n",
              "      <td>0.6</td>\n",
              "      <td>{'learning_rate': 0.2, 'subsample': 0.6}</td>\n",
              "      <td>0.880967</td>\n",
              "      <td>0.878956</td>\n",
              "      <td>0.751848</td>\n",
              "      <td>0.837257</td>\n",
              "      <td>0.060399</td>\n",
              "      <td>2</td>\n",
              "      <td>0.905836</td>\n",
              "      <td>0.949851</td>\n",
              "      <td>0.741464</td>\n",
              "      <td>0.865717</td>\n",
              "      <td>0.089679</td>\n",
              "    </tr>\n",
              "    <tr>\n",
              "      <th>2</th>\n",
              "      <td>16.927785</td>\n",
              "      <td>0.919205</td>\n",
              "      <td>0.059906</td>\n",
              "      <td>0.016680</td>\n",
              "      <td>0.2</td>\n",
              "      <td>0.9</td>\n",
              "      <td>{'learning_rate': 0.2, 'subsample': 0.9}</td>\n",
              "      <td>0.799695</td>\n",
              "      <td>0.823715</td>\n",
              "      <td>0.899856</td>\n",
              "      <td>0.841089</td>\n",
              "      <td>0.042696</td>\n",
              "      <td>1</td>\n",
              "      <td>0.858151</td>\n",
              "      <td>0.815856</td>\n",
              "      <td>0.904002</td>\n",
              "      <td>0.859336</td>\n",
              "      <td>0.035995</td>\n",
              "    </tr>\n",
              "    <tr>\n",
              "      <th>3</th>\n",
              "      <td>8.784856</td>\n",
              "      <td>0.372452</td>\n",
              "      <td>0.037930</td>\n",
              "      <td>0.001741</td>\n",
              "      <td>0.6</td>\n",
              "      <td>0.3</td>\n",
              "      <td>{'learning_rate': 0.6, 'subsample': 0.3}</td>\n",
              "      <td>0.712614</td>\n",
              "      <td>0.171713</td>\n",
              "      <td>0.632072</td>\n",
              "      <td>0.505466</td>\n",
              "      <td>0.238279</td>\n",
              "      <td>7</td>\n",
              "      <td>0.617595</td>\n",
              "      <td>0.177567</td>\n",
              "      <td>0.654294</td>\n",
              "      <td>0.483152</td>\n",
              "      <td>0.216600</td>\n",
              "    </tr>\n",
              "    <tr>\n",
              "      <th>4</th>\n",
              "      <td>13.683683</td>\n",
              "      <td>0.444308</td>\n",
              "      <td>0.053565</td>\n",
              "      <td>0.018296</td>\n",
              "      <td>0.6</td>\n",
              "      <td>0.6</td>\n",
              "      <td>{'learning_rate': 0.6, 'subsample': 0.6}</td>\n",
              "      <td>0.489959</td>\n",
              "      <td>0.654872</td>\n",
              "      <td>0.603384</td>\n",
              "      <td>0.582738</td>\n",
              "      <td>0.068890</td>\n",
              "      <td>6</td>\n",
              "      <td>0.452552</td>\n",
              "      <td>0.684572</td>\n",
              "      <td>0.634142</td>\n",
              "      <td>0.590422</td>\n",
              "      <td>0.099639</td>\n",
              "    </tr>\n",
              "  </tbody>\n",
              "</table>\n",
              "</div>"
            ],
            "text/plain": [
              "   mean_fit_time  std_fit_time  mean_score_time  std_score_time  \\\n",
              "0       9.046992      0.464634         0.061025        0.006313   \n",
              "1      14.453612      0.137006         0.062191        0.017557   \n",
              "2      16.927785      0.919205         0.059906        0.016680   \n",
              "3       8.784856      0.372452         0.037930        0.001741   \n",
              "4      13.683683      0.444308         0.053565        0.018296   \n",
              "\n",
              "  param_learning_rate param_subsample  \\\n",
              "0                 0.2             0.3   \n",
              "1                 0.2             0.6   \n",
              "2                 0.2             0.9   \n",
              "3                 0.6             0.3   \n",
              "4                 0.6             0.6   \n",
              "\n",
              "                                     params  split0_test_score  \\\n",
              "0  {'learning_rate': 0.2, 'subsample': 0.3}           0.806188   \n",
              "1  {'learning_rate': 0.2, 'subsample': 0.6}           0.880967   \n",
              "2  {'learning_rate': 0.2, 'subsample': 0.9}           0.799695   \n",
              "3  {'learning_rate': 0.6, 'subsample': 0.3}           0.712614   \n",
              "4  {'learning_rate': 0.6, 'subsample': 0.6}           0.489959   \n",
              "\n",
              "   split1_test_score  split2_test_score  mean_test_score  std_test_score  \\\n",
              "0           0.548287           0.884576         0.746350        0.143662   \n",
              "1           0.878956           0.751848         0.837257        0.060399   \n",
              "2           0.823715           0.899856         0.841089        0.042696   \n",
              "3           0.171713           0.632072         0.505466        0.238279   \n",
              "4           0.654872           0.603384         0.582738        0.068890   \n",
              "\n",
              "   rank_test_score  split0_train_score  split1_train_score  \\\n",
              "0                3            0.909847            0.603370   \n",
              "1                2            0.905836            0.949851   \n",
              "2                1            0.858151            0.815856   \n",
              "3                7            0.617595            0.177567   \n",
              "4                6            0.452552            0.684572   \n",
              "\n",
              "   split2_train_score  mean_train_score  std_train_score  \n",
              "0            0.843124          0.785447         0.131598  \n",
              "1            0.741464          0.865717         0.089679  \n",
              "2            0.904002          0.859336         0.035995  \n",
              "3            0.654294          0.483152         0.216600  \n",
              "4            0.634142          0.590422         0.099639  "
            ]
          },
          "execution_count": 73,
          "metadata": {},
          "output_type": "execute_result"
        }
      ],
      "source": [
        "# cv results\n",
        "\n",
        "cv_results = pd.DataFrame(grid_search_GBC.cv_results_)\n",
        "\n",
        "\n",
        "# print head\n",
        "cv_results.head()\n",
        "\n"
      ]
    },
    {
      "cell_type": "code",
      "execution_count": 74,
      "metadata": {},
      "outputs": [
        {
          "name": "stdout",
          "output_type": "stream",
          "text": [
            "<class 'pandas.core.frame.DataFrame'>\n",
            "RangeIndex: 9 entries, 0 to 8\n",
            "Data columns (total 18 columns):\n",
            " #   Column               Non-Null Count  Dtype  \n",
            "---  ------               --------------  -----  \n",
            " 0   mean_fit_time        9 non-null      float64\n",
            " 1   std_fit_time         9 non-null      float64\n",
            " 2   mean_score_time      9 non-null      float64\n",
            " 3   std_score_time       9 non-null      float64\n",
            " 4   param_learning_rate  9 non-null      object \n",
            " 5   param_subsample      9 non-null      object \n",
            " 6   params               9 non-null      object \n",
            " 7   split0_test_score    9 non-null      float64\n",
            " 8   split1_test_score    9 non-null      float64\n",
            " 9   split2_test_score    9 non-null      float64\n",
            " 10  mean_test_score      9 non-null      float64\n",
            " 11  std_test_score       9 non-null      float64\n",
            " 12  rank_test_score      9 non-null      int32  \n",
            " 13  split0_train_score   9 non-null      float64\n",
            " 14  split1_train_score   9 non-null      float64\n",
            " 15  split2_train_score   9 non-null      float64\n",
            " 16  mean_train_score     9 non-null      float64\n",
            " 17  std_train_score      9 non-null      float64\n",
            "dtypes: float64(14), int32(1), object(3)\n",
            "memory usage: 1.4+ KB\n"
          ]
        }
      ],
      "source": [
        "cv_results.info()"
      ]
    },
    {
      "cell_type": "code",
      "execution_count": 75,
      "metadata": {
        "colab": {
          "base_uri": "https://localhost:8080/",
          "height": 350
        },
        "id": "ZEM6khM6D3U-",
        "outputId": "1c7c1c7e-daf0-47ad-8b86-3dd7f8e622ea"
      },
      "outputs": [
        {
          "data": {
            "image/png": "[encoded data removed]",
            "text/plain": [
              "<Figure size 1600x600 with 3 Axes>"
            ]
          },
          "metadata": {},
          "output_type": "display_data"
        }
      ],
      "source": [
        "# # plotting AUC with hyperparameter combinations i.e subsample\n",
        "\n",
        "plt.figure(figsize=(16,6))\n",
        "\n",
        "\n",
        "for n, subsample in enumerate(param_grid['subsample']):\n",
        "    \n",
        "\n",
        "    # subplot 1/n\n",
        "    plt.subplot(1,len(param_grid['subsample']), n+1)\n",
        "    df = cv_results[cv_results['param_subsample']==subsample]\n",
        "    \n",
        "    # plot depth_df[\"param_n_estimators\"] for depth_df[\"mean_test_score\"],depth_df[\"mean_train_score\"] \n",
        "    plt.plot(df['param_learning_rate'],df['mean_test_score'])\n",
        "    plt.plot(df['param_learning_rate'],df['mean_train_score'])\n",
        "    plt.xlabel('learning_rate')\n",
        "    plt.ylabel('AUC')\n",
        "    plt.title('sub_sample={0}'.format(subsample))\n",
        "    plt.ylim([0.60,1])\n",
        "    plt.legend(['test_score','train_score'],loc='upper left')\n",
        "    plt.xscale('log')\n",
        "    \n"
      ]
    },
    {
      "cell_type": "markdown",
      "metadata": {
        "id": "ZCLdKflSD3U_"
      },
      "source": [
        "It is clear from the plot above that the model with a lower subsample ratio performs better, while those with higher subsamples tend to overfit. \n",
        "\n",
        "Also, a lower learning rate results in less overfitting."
      ]
    },
    {
      "cell_type": "code",
      "execution_count": 76,
      "metadata": {
        "colab": {
          "base_uri": "https://localhost:8080/"
        },
        "id": "4fdnUAobRGSx",
        "outputId": "7d7299ae-cecc-4572-8cb8-7b4423beae71"
      },
      "outputs": [
        {
          "data": {
            "text/plain": [
              "array([[9.99759635e-01, 2.40365249e-04],\n",
              "       [9.99683461e-01, 3.16539468e-04],\n",
              "       [9.99385527e-01, 6.14472923e-04],\n",
              "       [9.99790280e-01, 2.09720179e-04],\n",
              "       [9.99189954e-01, 8.10045513e-04],\n",
              "       [9.99824758e-01, 1.75242409e-04],\n",
              "       [9.99618179e-01, 3.81820940e-04],\n",
              "       [9.99712348e-01, 2.87651814e-04],\n",
              "       [9.99781825e-01, 2.18175325e-04],\n",
              "       [9.98997601e-01, 1.00239939e-03]])"
            ]
          },
          "execution_count": 76,
          "metadata": {},
          "output_type": "execute_result"
        }
      ],
      "source": [
        "# fitting GBC training data\n",
        "GBC.fit(X_train,y_train)\n",
        "predictions = GBC.predict_proba(X_test)\n",
        "# print top 10 prediction probabilities\n",
        "predictions[:10]\n"
      ]
    },
    {
      "cell_type": "code",
      "execution_count": 77,
      "metadata": {
        "colab": {
          "base_uri": "https://localhost:8080/"
        },
        "id": "jdt8L_PrS54b",
        "outputId": "691bffa1-581d-4a0b-b8d4-0d7fa21e5101"
      },
      "outputs": [
        {
          "data": {
            "text/plain": [
              "0.9599148083187171"
            ]
          },
          "execution_count": 77,
          "metadata": {},
          "output_type": "execute_result"
        }
      ],
      "source": [
        "# Calculate roc auc score \n",
        "metrics.roc_auc_score(y_test,predictions[:,1])"
      ]
    },
    {
      "cell_type": "markdown",
      "metadata": {
        "id": "D_UuYzsnD3U_"
      },
      "source": [
        "So Gradient boosting also gives us 96% of roc_auc coverage\n",
        "\n",
        "### **`3. XGBoost`**\n",
        "\n",
        "\n",
        "Reference doc:https://www.analyticsvidhya.com/blog/2018/09/an-end-to-end-guide-to-understand-the-math-behind-xgboost/\n",
        "\n",
        "XGBoost is a decision-tree-based ensemble Machine Learning algorithm that uses a gradient boosting framework. In prediction problems involving unstructured data (images, text, etc.) artificial neural networks tend to outperform all other algorithms or frameworks. However, when it comes to small-to-medium structured/tabular data, decision tree based algorithms are considered best-in-class right now. Please see the chart below for the evolution of tree-based algorithms over the years.\n",
        "\n",
        "Let's finally try XGBoost. The hyperparameters are the same, some important ones being ```subsample```, ```learning_rate```, ```max_depth``` etc.\n",
        "\n",
        "Reference video below\n"
      ]
    },
    {
      "cell_type": "markdown",
      "metadata": {
        "id": "oD8NtJBStyO3"
      },
      "source": [
        "## **`Watch Video 4 : XGBOOST Intuition`**"
      ]
    },
    {
      "cell_type": "code",
      "execution_count": 78,
      "metadata": {
        "_cell_guid": "2c974205-ceae-45d7-ac5c-06c49449e772",
        "_uuid": "25d4621636d95e27ee661f4d6a62532671f678b6",
        "colab": {
          "base_uri": "https://localhost:8080/"
        },
        "id": "ENbuiar_D3U_",
        "outputId": "2bf255c0-9d86-43bb-89c4-e276dc9fac3f"
      },
      "outputs": [
        {
          "data": {
            "text/html": [
              "<style>#sk-container-id-4 {color: black;background-color: white;}#sk-container-id-4 pre{padding: 0;}#sk-container-id-4 div.sk-toggleable {background-color: white;}#sk-container-id-4 label.sk-toggleable__label {cursor: pointer;display: block;width: 100%;margin-bottom: 0;padding: 0.3em;box-sizing: border-box;text-align: center;}#sk-container-id-4 label.sk-toggleable__label-arrow:before {content: \"▸\";float: left;margin-right: 0.25em;color: #696969;}#sk-container-id-4 label.sk-toggleable__label-arrow:hover:before {color: black;}#sk-container-id-4 div.sk-estimator:hover label.sk-toggleable__label-arrow:before {color: black;}#sk-container-id-4 div.sk-toggleable__content {max-height: 0;max-width: 0;overflow: hidden;text-align: left;background-color: #f0f8ff;}#sk-container-id-4 div.sk-toggleable__content pre {margin: 0.2em;color: black;border-radius: 0.25em;background-color: #f0f8ff;}#sk-container-id-4 input.sk-toggleable__control:checked~div.sk-toggleable__content {max-height: 200px;max-width: 100%;overflow: auto;}#sk-container-id-4 input.sk-toggleable__control:checked~label.sk-toggleable__label-arrow:before {content: \"▾\";}#sk-container-id-4 div.sk-estimator input.sk-toggleable__control:checked~label.sk-toggleable__label {background-color: #d4ebff;}#sk-container-id-4 div.sk-label input.sk-toggleable__control:checked~label.sk-toggleable__label {background-color: #d4ebff;}#sk-container-id-4 input.sk-hidden--visually {border: 0;clip: rect(1px 1px 1px 1px);clip: rect(1px, 1px, 1px, 1px);height: 1px;margin: -1px;overflow: hidden;padding: 0;position: absolute;width: 1px;}#sk-container-id-4 div.sk-estimator {font-family: monospace;background-color: #f0f8ff;border: 1px dotted black;border-radius: 0.25em;box-sizing: border-box;margin-bottom: 0.5em;}#sk-container-id-4 div.sk-estimator:hover {background-color: #d4ebff;}#sk-container-id-4 div.sk-parallel-item::after {content: \"\";width: 100%;border-bottom: 1px solid gray;flex-grow: 1;}#sk-container-id-4 div.sk-label:hover label.sk-toggleable__label {background-color: #d4ebff;}#sk-container-id-4 div.sk-serial::before {content: \"\";position: absolute;border-left: 1px solid gray;box-sizing: border-box;top: 0;bottom: 0;left: 50%;z-index: 0;}#sk-container-id-4 div.sk-serial {display: flex;flex-direction: column;align-items: center;background-color: white;padding-right: 0.2em;padding-left: 0.2em;position: relative;}#sk-container-id-4 div.sk-item {position: relative;z-index: 1;}#sk-container-id-4 div.sk-parallel {display: flex;align-items: stretch;justify-content: center;background-color: white;position: relative;}#sk-container-id-4 div.sk-item::before, #sk-container-id-4 div.sk-parallel-item::before {content: \"\";position: absolute;border-left: 1px solid gray;box-sizing: border-box;top: 0;bottom: 0;left: 50%;z-index: -1;}#sk-container-id-4 div.sk-parallel-item {display: flex;flex-direction: column;z-index: 1;position: relative;background-color: white;}#sk-container-id-4 div.sk-parallel-item:first-child::after {align-self: flex-end;width: 50%;}#sk-container-id-4 div.sk-parallel-item:last-child::after {align-self: flex-start;width: 50%;}#sk-container-id-4 div.sk-parallel-item:only-child::after {width: 0;}#sk-container-id-4 div.sk-dashed-wrapped {border: 1px dashed gray;margin: 0 0.4em 0.5em 0.4em;box-sizing: border-box;padding-bottom: 0.4em;background-color: white;}#sk-container-id-4 div.sk-label label {font-family: monospace;font-weight: bold;display: inline-block;line-height: 1.2em;}#sk-container-id-4 div.sk-label-container {text-align: center;}#sk-container-id-4 div.sk-container {/* jupyter's `normalize.less` sets `[hidden] { display: none; }` but bootstrap.min.css set `[hidden] { display: none !important; }` so we also need the `!important` here to be able to override the default hidden behavior on the sphinx rendered scikit-learn.org. See: https://github.com/scikit-learn/scikit-learn/issues/21755 */display: inline-block !important;position: relative;}#sk-container-id-4 div.sk-text-repr-fallback {display: none;}</style><div id=\"sk-container-id-4\" class=\"sk-top-container\"><div class=\"sk-text-repr-fallback\"><pre>XGBClassifier(base_score=None, booster=None, callbacks=None,\n",
              "              colsample_bylevel=None, colsample_bynode=None,\n",
              "              colsample_bytree=None, early_stopping_rounds=None,\n",
              "              enable_categorical=False, eval_metric=None, feature_types=None,\n",
              "              gamma=None, gpu_id=None, grow_policy=None, importance_type=None,\n",
              "              interaction_constraints=None, learning_rate=None, max_bin=None,\n",
              "              max_cat_threshold=None, max_cat_to_onehot=None,\n",
              "              max_delta_step=None, max_depth=None, max_leaves=None,\n",
              "              min_child_weight=None, missing=nan, monotone_constraints=None,\n",
              "              n_estimators=100, n_jobs=None, num_parallel_tree=None,\n",
              "              predictor=None, random_state=1, ...)</pre><b>In a Jupyter environment, please rerun this cell to show the HTML representation or trust the notebook. <br />On GitHub, the HTML representation is unable to render, please try loading this page with nbviewer.org.</b></div><div class=\"sk-container\" hidden><div class=\"sk-item\"><div class=\"sk-estimator sk-toggleable\"><input class=\"sk-toggleable__control sk-hidden--visually\" id=\"sk-estimator-id-10\" type=\"checkbox\" checked><label for=\"sk-estimator-id-10\" class=\"sk-toggleable__label sk-toggleable__label-arrow\">XGBClassifier</label><div class=\"sk-toggleable__content\"><pre>XGBClassifier(base_score=None, booster=None, callbacks=None,\n",
              "              colsample_bylevel=None, colsample_bynode=None,\n",
              "              colsample_bytree=None, early_stopping_rounds=None,\n",
              "              enable_categorical=False, eval_metric=None, feature_types=None,\n",
              "              gamma=None, gpu_id=None, grow_policy=None, importance_type=None,\n",
              "              interaction_constraints=None, learning_rate=None, max_bin=None,\n",
              "              max_cat_threshold=None, max_cat_to_onehot=None,\n",
              "              max_delta_step=None, max_depth=None, max_leaves=None,\n",
              "              min_child_weight=None, missing=nan, monotone_constraints=None,\n",
              "              n_estimators=100, n_jobs=None, num_parallel_tree=None,\n",
              "              predictor=None, random_state=1, ...)</pre></div></div></div></div></div>"
            ],
            "text/plain": [
              "XGBClassifier(base_score=None, booster=None, callbacks=None,\n",
              "              colsample_bylevel=None, colsample_bynode=None,\n",
              "              colsample_bytree=None, early_stopping_rounds=None,\n",
              "              enable_categorical=False, eval_metric=None, feature_types=None,\n",
              "              gamma=None, gpu_id=None, grow_policy=None, importance_type=None,\n",
              "              interaction_constraints=None, learning_rate=None, max_bin=None,\n",
              "              max_cat_threshold=None, max_cat_to_onehot=None,\n",
              "              max_delta_step=None, max_depth=None, max_leaves=None,\n",
              "              min_child_weight=None, missing=nan, monotone_constraints=None,\n",
              "              n_estimators=100, n_jobs=None, num_parallel_tree=None,\n",
              "              predictor=None, random_state=1, ...)"
            ]
          },
          "execution_count": 78,
          "metadata": {},
          "output_type": "execute_result"
        }
      ],
      "source": [
        "# Instantiate XGBClassifier with default hyperparameters and random_state=1\n",
        "model = XGBClassifier(random_state=1)\n",
        "\n",
        " \n",
        "# fit model on training data\n",
        "model.fit(X_train,y_train)"
      ]
    },
    {
      "cell_type": "markdown",
      "metadata": {
        "id": "kOjxFItyD3VA"
      },
      "source": [
        "Make predictions for test data\n"
      ]
    },
    {
      "cell_type": "code",
      "execution_count": 79,
      "metadata": {
        "_cell_guid": "3d7ecd8f-856e-4405-9251-4128a31501b4",
        "_uuid": "92d6a9195af92f42514cbeec09585b083bc304cf",
        "colab": {
          "base_uri": "https://localhost:8080/"
        },
        "id": "jc4iDFrGD3VA",
        "outputId": "a206707d-3f82-4adc-b640-4000a6691cb8"
      },
      "outputs": [
        {
          "data": {
            "text/plain": [
              "array([[9.9999809e-01, 1.9337567e-06],\n",
              "       [9.9998653e-01, 1.3449854e-05],\n",
              "       [9.9997407e-01, 2.5916344e-05],\n",
              "       [9.9952990e-01, 4.7011764e-04],\n",
              "       [9.9978644e-01, 2.1357677e-04],\n",
              "       [9.9999368e-01, 6.3347384e-06],\n",
              "       [9.9991673e-01, 8.3290950e-05],\n",
              "       [9.9998868e-01, 1.1305605e-05],\n",
              "       [9.9981380e-01, 1.8618918e-04],\n",
              "       [9.9910051e-01, 8.9947641e-04]], dtype=float32)"
            ]
          },
          "execution_count": 79,
          "metadata": {},
          "output_type": "execute_result"
        }
      ],
      "source": [
        "# use predict_proba since we need probabilities to compute auc\n",
        "y_pred = model.predict_proba(X_test)\n",
        "\n",
        "\n",
        "\n",
        "#print top 10 y_pred result\n",
        "y_pred[:10]\n",
        "\n",
        "\n"
      ]
    },
    {
      "cell_type": "code",
      "execution_count": 80,
      "metadata": {
        "_cell_guid": "26c5a5e3-b0ab-4b38-b31e-02aa2f94b6d2",
        "_uuid": "6761becf4d2447a77b9df32f7bb36b9331a16234",
        "colab": {
          "base_uri": "https://localhost:8080/"
        },
        "id": "_9soR1CLD3VA",
        "outputId": "75fbf13b-8ece-4d9f-a78a-7468a6d03609",
        "scrolled": false
      },
      "outputs": [
        {
          "name": "stdout",
          "output_type": "stream",
          "text": [
            "AUC: 96.06%\n"
          ]
        }
      ],
      "source": [
        "# evaluate predictions using roc_auc score\n",
        "roc = metrics.roc_auc_score(y_test,y_pred[:,1])\n",
        "print('AUC: %.2f%%' %(roc*100.0))\n"
      ]
    },
    {
      "cell_type": "markdown",
      "metadata": {
        "_cell_guid": "b1724bd9-058a-428a-8052-67fb1eaf4e71",
        "_uuid": "9966ae6ab65c76abfa72e8d9503959a21665072d",
        "id": "D0R5HGVmD3VB"
      },
      "source": [
        "The roc_auc in this case is about 0.95% with default hyperparameters. Let's try changing the hyperparameters - an exhaustive list of XGBoost hyperparameters is here: http://xgboost.readthedocs.io/en/latest/parameter.html\n"
      ]
    },
    {
      "cell_type": "markdown",
      "metadata": {
        "_cell_guid": "2b2f8b31-33e9-454e-9393-263e628c3719",
        "_uuid": "309df6cbd77f3c31140606f4e0b620db53b87f35",
        "id": "uW5ayn7oD3VB"
      },
      "source": [
        "Let's now try tuning the hyperparameters using k-fold CV. We'll then use grid search CV to find the optimal values of hyperparameters."
      ]
    },
    {
      "cell_type": "code",
      "execution_count": 81,
      "metadata": {
        "_cell_guid": "06427904-5c5e-4e36-bef9-1cf74e1be8c6",
        "_uuid": "7189e86b264593e6946cac56b267f38640257c49",
        "id": "cELevyotD3VB"
      },
      "outputs": [],
      "source": [
        "# hyperparameter tuning with XGBoost\n",
        "\n",
        "# creating a KFold object( 3 )\n",
        "folds = 3\n",
        "\n",
        "# specify range of hyperparameters with learning_rate as [0.2, 0.6] ans subsample as [0.3, 0.6, 0.9]\n",
        "param_grid = {'learning_rate':[0.2, 0.6],\n",
        "              'subsample':[0.3, 0.6, 0.9]}\n",
        "\n",
        "# specify model with max_depth as 2 and n_estimators as 200 and random_state as 1\n",
        "xgb_model = XGBClassifier(max_depth = 2 , n_estimators = 200 , random_state = 1)\n",
        "\n",
        "# set up GridSearchCV() with xgb_model, param_grid, folds, return_train_score and verbose as 1\n",
        "model_cv = GridSearchCV(estimator=xgb_model, param_grid=param_grid,scoring='roc_auc', cv=folds, return_train_score=True, verbose = 1)\n"
      ]
    },
    {
      "cell_type": "code",
      "execution_count": 82,
      "metadata": {
        "_cell_guid": "bfbc46d5-708a-477c-bd72-7722bf09e6ba",
        "_uuid": "dd828f9d6467b353a835f4163fcda0e6d662c24b",
        "colab": {
          "base_uri": "https://localhost:8080/"
        },
        "id": "IIvxhmnKD3VB",
        "outputId": "5744f069-30bd-4d87-9372-d51453d1c8b1",
        "scrolled": false
      },
      "outputs": [
        {
          "name": "stdout",
          "output_type": "stream",
          "text": [
            "Fitting 3 folds for each of 6 candidates, totalling 18 fits\n"
          ]
        },
        {
          "data": {
            "text/html": [
              "<style>#sk-container-id-5 {color: black;background-color: white;}#sk-container-id-5 pre{padding: 0;}#sk-container-id-5 div.sk-toggleable {background-color: white;}#sk-container-id-5 label.sk-toggleable__label {cursor: pointer;display: block;width: 100%;margin-bottom: 0;padding: 0.3em;box-sizing: border-box;text-align: center;}#sk-container-id-5 label.sk-toggleable__label-arrow:before {content: \"▸\";float: left;margin-right: 0.25em;color: #696969;}#sk-container-id-5 label.sk-toggleable__label-arrow:hover:before {color: black;}#sk-container-id-5 div.sk-estimator:hover label.sk-toggleable__label-arrow:before {color: black;}#sk-container-id-5 div.sk-toggleable__content {max-height: 0;max-width: 0;overflow: hidden;text-align: left;background-color: #f0f8ff;}#sk-container-id-5 div.sk-toggleable__content pre {margin: 0.2em;color: black;border-radius: 0.25em;background-color: #f0f8ff;}#sk-container-id-5 input.sk-toggleable__control:checked~div.sk-toggleable__content {max-height: 200px;max-width: 100%;overflow: auto;}#sk-container-id-5 input.sk-toggleable__control:checked~label.sk-toggleable__label-arrow:before {content: \"▾\";}#sk-container-id-5 div.sk-estimator input.sk-toggleable__control:checked~label.sk-toggleable__label {background-color: #d4ebff;}#sk-container-id-5 div.sk-label input.sk-toggleable__control:checked~label.sk-toggleable__label {background-color: #d4ebff;}#sk-container-id-5 input.sk-hidden--visually {border: 0;clip: rect(1px 1px 1px 1px);clip: rect(1px, 1px, 1px, 1px);height: 1px;margin: -1px;overflow: hidden;padding: 0;position: absolute;width: 1px;}#sk-container-id-5 div.sk-estimator {font-family: monospace;background-color: #f0f8ff;border: 1px dotted black;border-radius: 0.25em;box-sizing: border-box;margin-bottom: 0.5em;}#sk-container-id-5 div.sk-estimator:hover {background-color: #d4ebff;}#sk-container-id-5 div.sk-parallel-item::after {content: \"\";width: 100%;border-bottom: 1px solid gray;flex-grow: 1;}#sk-container-id-5 div.sk-label:hover label.sk-toggleable__label {background-color: #d4ebff;}#sk-container-id-5 div.sk-serial::before {content: \"\";position: absolute;border-left: 1px solid gray;box-sizing: border-box;top: 0;bottom: 0;left: 50%;z-index: 0;}#sk-container-id-5 div.sk-serial {display: flex;flex-direction: column;align-items: center;background-color: white;padding-right: 0.2em;padding-left: 0.2em;position: relative;}#sk-container-id-5 div.sk-item {position: relative;z-index: 1;}#sk-container-id-5 div.sk-parallel {display: flex;align-items: stretch;justify-content: center;background-color: white;position: relative;}#sk-container-id-5 div.sk-item::before, #sk-container-id-5 div.sk-parallel-item::before {content: \"\";position: absolute;border-left: 1px solid gray;box-sizing: border-box;top: 0;bottom: 0;left: 50%;z-index: -1;}#sk-container-id-5 div.sk-parallel-item {display: flex;flex-direction: column;z-index: 1;position: relative;background-color: white;}#sk-container-id-5 div.sk-parallel-item:first-child::after {align-self: flex-end;width: 50%;}#sk-container-id-5 div.sk-parallel-item:last-child::after {align-self: flex-start;width: 50%;}#sk-container-id-5 div.sk-parallel-item:only-child::after {width: 0;}#sk-container-id-5 div.sk-dashed-wrapped {border: 1px dashed gray;margin: 0 0.4em 0.5em 0.4em;box-sizing: border-box;padding-bottom: 0.4em;background-color: white;}#sk-container-id-5 div.sk-label label {font-family: monospace;font-weight: bold;display: inline-block;line-height: 1.2em;}#sk-container-id-5 div.sk-label-container {text-align: center;}#sk-container-id-5 div.sk-container {/* jupyter's `normalize.less` sets `[hidden] { display: none; }` but bootstrap.min.css set `[hidden] { display: none !important; }` so we also need the `!important` here to be able to override the default hidden behavior on the sphinx rendered scikit-learn.org. See: https://github.com/scikit-learn/scikit-learn/issues/21755 */display: inline-block !important;position: relative;}#sk-container-id-5 div.sk-text-repr-fallback {display: none;}</style><div id=\"sk-container-id-5\" class=\"sk-top-container\"><div class=\"sk-text-repr-fallback\"><pre>GridSearchCV(cv=3,\n",
              "             estimator=XGBClassifier(base_score=None, booster=None,\n",
              "                                     callbacks=None, colsample_bylevel=None,\n",
              "                                     colsample_bynode=None,\n",
              "                                     colsample_bytree=None,\n",
              "                                     early_stopping_rounds=None,\n",
              "                                     enable_categorical=False, eval_metric=None,\n",
              "                                     feature_types=None, gamma=None,\n",
              "                                     gpu_id=None, grow_policy=None,\n",
              "                                     importance_type=None,\n",
              "                                     interaction_constraints=None,\n",
              "                                     learning_rate=None,...\n",
              "                                     max_cat_threshold=None,\n",
              "                                     max_cat_to_onehot=None,\n",
              "                                     max_delta_step=None, max_depth=2,\n",
              "                                     max_leaves=None, min_child_weight=None,\n",
              "                                     missing=nan, monotone_constraints=None,\n",
              "                                     n_estimators=200, n_jobs=None,\n",
              "                                     num_parallel_tree=None, predictor=None,\n",
              "                                     random_state=1, ...),\n",
              "             param_grid={&#x27;learning_rate&#x27;: [0.2, 0.6],\n",
              "                         &#x27;subsample&#x27;: [0.3, 0.6, 0.9]},\n",
              "             return_train_score=True, scoring=&#x27;roc_auc&#x27;, verbose=1)</pre><b>In a Jupyter environment, please rerun this cell to show the HTML representation or trust the notebook. <br />On GitHub, the HTML representation is unable to render, please try loading this page with nbviewer.org.</b></div><div class=\"sk-container\" hidden><div class=\"sk-item sk-dashed-wrapped\"><div class=\"sk-label-container\"><div class=\"sk-label sk-toggleable\"><input class=\"sk-toggleable__control sk-hidden--visually\" id=\"sk-estimator-id-11\" type=\"checkbox\" ><label for=\"sk-estimator-id-11\" class=\"sk-toggleable__label sk-toggleable__label-arrow\">GridSearchCV</label><div class=\"sk-toggleable__content\"><pre>GridSearchCV(cv=3,\n",
              "             estimator=XGBClassifier(base_score=None, booster=None,\n",
              "                                     callbacks=None, colsample_bylevel=None,\n",
              "                                     colsample_bynode=None,\n",
              "                                     colsample_bytree=None,\n",
              "                                     early_stopping_rounds=None,\n",
              "                                     enable_categorical=False, eval_metric=None,\n",
              "                                     feature_types=None, gamma=None,\n",
              "                                     gpu_id=None, grow_policy=None,\n",
              "                                     importance_type=None,\n",
              "                                     interaction_constraints=None,\n",
              "                                     learning_rate=None,...\n",
              "                                     max_cat_threshold=None,\n",
              "                                     max_cat_to_onehot=None,\n",
              "                                     max_delta_step=None, max_depth=2,\n",
              "                                     max_leaves=None, min_child_weight=None,\n",
              "                                     missing=nan, monotone_constraints=None,\n",
              "                                     n_estimators=200, n_jobs=None,\n",
              "                                     num_parallel_tree=None, predictor=None,\n",
              "                                     random_state=1, ...),\n",
              "             param_grid={&#x27;learning_rate&#x27;: [0.2, 0.6],\n",
              "                         &#x27;subsample&#x27;: [0.3, 0.6, 0.9]},\n",
              "             return_train_score=True, scoring=&#x27;roc_auc&#x27;, verbose=1)</pre></div></div></div><div class=\"sk-parallel\"><div class=\"sk-parallel-item\"><div class=\"sk-item\"><div class=\"sk-label-container\"><div class=\"sk-label sk-toggleable\"><input class=\"sk-toggleable__control sk-hidden--visually\" id=\"sk-estimator-id-12\" type=\"checkbox\" ><label for=\"sk-estimator-id-12\" class=\"sk-toggleable__label sk-toggleable__label-arrow\">estimator: XGBClassifier</label><div class=\"sk-toggleable__content\"><pre>XGBClassifier(base_score=None, booster=None, callbacks=None,\n",
              "              colsample_bylevel=None, colsample_bynode=None,\n",
              "              colsample_bytree=None, early_stopping_rounds=None,\n",
              "              enable_categorical=False, eval_metric=None, feature_types=None,\n",
              "              gamma=None, gpu_id=None, grow_policy=None, importance_type=None,\n",
              "              interaction_constraints=None, learning_rate=None, max_bin=None,\n",
              "              max_cat_threshold=None, max_cat_to_onehot=None,\n",
              "              max_delta_step=None, max_depth=2, max_leaves=None,\n",
              "              min_child_weight=None, missing=nan, monotone_constraints=None,\n",
              "              n_estimators=200, n_jobs=None, num_parallel_tree=None,\n",
              "              predictor=None, random_state=1, ...)</pre></div></div></div><div class=\"sk-serial\"><div class=\"sk-item\"><div class=\"sk-estimator sk-toggleable\"><input class=\"sk-toggleable__control sk-hidden--visually\" id=\"sk-estimator-id-13\" type=\"checkbox\" ><label for=\"sk-estimator-id-13\" class=\"sk-toggleable__label sk-toggleable__label-arrow\">XGBClassifier</label><div class=\"sk-toggleable__content\"><pre>XGBClassifier(base_score=None, booster=None, callbacks=None,\n",
              "              colsample_bylevel=None, colsample_bynode=None,\n",
              "              colsample_bytree=None, early_stopping_rounds=None,\n",
              "              enable_categorical=False, eval_metric=None, feature_types=None,\n",
              "              gamma=None, gpu_id=None, grow_policy=None, importance_type=None,\n",
              "              interaction_constraints=None, learning_rate=None, max_bin=None,\n",
              "              max_cat_threshold=None, max_cat_to_onehot=None,\n",
              "              max_delta_step=None, max_depth=2, max_leaves=None,\n",
              "              min_child_weight=None, missing=nan, monotone_constraints=None,\n",
              "              n_estimators=200, n_jobs=None, num_parallel_tree=None,\n",
              "              predictor=None, random_state=1, ...)</pre></div></div></div></div></div></div></div></div></div></div>"
            ],
            "text/plain": [
              "GridSearchCV(cv=3,\n",
              "             estimator=XGBClassifier(base_score=None, booster=None,\n",
              "                                     callbacks=None, colsample_bylevel=None,\n",
              "                                     colsample_bynode=None,\n",
              "                                     colsample_bytree=None,\n",
              "                                     early_stopping_rounds=None,\n",
              "                                     enable_categorical=False, eval_metric=None,\n",
              "                                     feature_types=None, gamma=None,\n",
              "                                     gpu_id=None, grow_policy=None,\n",
              "                                     importance_type=None,\n",
              "                                     interaction_constraints=None,\n",
              "                                     learning_rate=None,...\n",
              "                                     max_cat_threshold=None,\n",
              "                                     max_cat_to_onehot=None,\n",
              "                                     max_delta_step=None, max_depth=2,\n",
              "                                     max_leaves=None, min_child_weight=None,\n",
              "                                     missing=nan, monotone_constraints=None,\n",
              "                                     n_estimators=200, n_jobs=None,\n",
              "                                     num_parallel_tree=None, predictor=None,\n",
              "                                     random_state=1, ...),\n",
              "             param_grid={'learning_rate': [0.2, 0.6],\n",
              "                         'subsample': [0.3, 0.6, 0.9]},\n",
              "             return_train_score=True, scoring='roc_auc', verbose=1)"
            ]
          },
          "execution_count": 82,
          "metadata": {},
          "output_type": "execute_result"
        }
      ],
      "source": [
        "# fit the model_cv on training data\n",
        "model_cv.fit(X_train,y_train)"
      ]
    },
    {
      "cell_type": "code",
      "execution_count": 83,
      "metadata": {
        "_cell_guid": "f858e220-b38f-41e2-b083-06d8f5eb742b",
        "_uuid": "afd9d9144b8f8817cdc03b1a1f568f920650a48b",
        "colab": {
          "base_uri": "https://localhost:8080/",
          "height": 567
        },
        "id": "JdN7so49D3VC",
        "outputId": "a3600638-e509-4832-f4d5-32c6c03f5709",
        "scrolled": true
      },
      "outputs": [
        {
          "data": {
            "text/html": [
              "<div>\n",
              "<style scoped>\n",
              "    .dataframe tbody tr th:only-of-type {\n",
              "        vertical-align: middle;\n",
              "    }\n",
              "\n",
              "    .dataframe tbody tr th {\n",
              "        vertical-align: top;\n",
              "    }\n",
              "\n",
              "    .dataframe thead th {\n",
              "        text-align: right;\n",
              "    }\n",
              "</style>\n",
              "<table border=\"1\" class=\"dataframe\">\n",
              "  <thead>\n",
              "    <tr style=\"text-align: right;\">\n",
              "      <th></th>\n",
              "      <th>mean_fit_time</th>\n",
              "      <th>std_fit_time</th>\n",
              "      <th>mean_score_time</th>\n",
              "      <th>std_score_time</th>\n",
              "      <th>param_learning_rate</th>\n",
              "      <th>param_subsample</th>\n",
              "      <th>params</th>\n",
              "      <th>split0_test_score</th>\n",
              "      <th>split1_test_score</th>\n",
              "      <th>split2_test_score</th>\n",
              "      <th>mean_test_score</th>\n",
              "      <th>std_test_score</th>\n",
              "      <th>rank_test_score</th>\n",
              "      <th>split0_train_score</th>\n",
              "      <th>split1_train_score</th>\n",
              "      <th>split2_train_score</th>\n",
              "      <th>mean_train_score</th>\n",
              "      <th>std_train_score</th>\n",
              "    </tr>\n",
              "  </thead>\n",
              "  <tbody>\n",
              "    <tr>\n",
              "      <th>0</th>\n",
              "      <td>3.674570</td>\n",
              "      <td>0.231928</td>\n",
              "      <td>0.046374</td>\n",
              "      <td>0.002336</td>\n",
              "      <td>0.2</td>\n",
              "      <td>0.3</td>\n",
              "      <td>{'learning_rate': 0.2, 'subsample': 0.3}</td>\n",
              "      <td>0.918476</td>\n",
              "      <td>0.966470</td>\n",
              "      <td>0.959373</td>\n",
              "      <td>0.948106</td>\n",
              "      <td>0.021151</td>\n",
              "      <td>3</td>\n",
              "      <td>0.990313</td>\n",
              "      <td>0.984284</td>\n",
              "      <td>0.993700</td>\n",
              "      <td>0.989432</td>\n",
              "      <td>0.003894</td>\n",
              "    </tr>\n",
              "    <tr>\n",
              "      <th>1</th>\n",
              "      <td>3.600664</td>\n",
              "      <td>0.076364</td>\n",
              "      <td>0.042931</td>\n",
              "      <td>0.003735</td>\n",
              "      <td>0.2</td>\n",
              "      <td>0.6</td>\n",
              "      <td>{'learning_rate': 0.2, 'subsample': 0.6}</td>\n",
              "      <td>0.933275</td>\n",
              "      <td>0.978913</td>\n",
              "      <td>0.950468</td>\n",
              "      <td>0.954218</td>\n",
              "      <td>0.018819</td>\n",
              "      <td>1</td>\n",
              "      <td>0.993116</td>\n",
              "      <td>0.987288</td>\n",
              "      <td>0.994242</td>\n",
              "      <td>0.991549</td>\n",
              "      <td>0.003047</td>\n",
              "    </tr>\n",
              "    <tr>\n",
              "      <th>2</th>\n",
              "      <td>3.428432</td>\n",
              "      <td>0.008397</td>\n",
              "      <td>0.039906</td>\n",
              "      <td>0.000241</td>\n",
              "      <td>0.2</td>\n",
              "      <td>0.9</td>\n",
              "      <td>{'learning_rate': 0.2, 'subsample': 0.9}</td>\n",
              "      <td>0.924940</td>\n",
              "      <td>0.973210</td>\n",
              "      <td>0.950138</td>\n",
              "      <td>0.949429</td>\n",
              "      <td>0.019712</td>\n",
              "      <td>2</td>\n",
              "      <td>0.993739</td>\n",
              "      <td>0.989940</td>\n",
              "      <td>0.994238</td>\n",
              "      <td>0.992639</td>\n",
              "      <td>0.001919</td>\n",
              "    </tr>\n",
              "    <tr>\n",
              "      <th>3</th>\n",
              "      <td>3.413751</td>\n",
              "      <td>0.008408</td>\n",
              "      <td>0.043282</td>\n",
              "      <td>0.004043</td>\n",
              "      <td>0.6</td>\n",
              "      <td>0.3</td>\n",
              "      <td>{'learning_rate': 0.6, 'subsample': 0.3}</td>\n",
              "      <td>0.903039</td>\n",
              "      <td>0.948284</td>\n",
              "      <td>0.920718</td>\n",
              "      <td>0.924014</td>\n",
              "      <td>0.018618</td>\n",
              "      <td>6</td>\n",
              "      <td>0.997775</td>\n",
              "      <td>0.995323</td>\n",
              "      <td>0.996475</td>\n",
              "      <td>0.996525</td>\n",
              "      <td>0.001002</td>\n",
              "    </tr>\n",
              "    <tr>\n",
              "      <th>4</th>\n",
              "      <td>3.602159</td>\n",
              "      <td>0.013816</td>\n",
              "      <td>0.045444</td>\n",
              "      <td>0.003847</td>\n",
              "      <td>0.6</td>\n",
              "      <td>0.6</td>\n",
              "      <td>{'learning_rate': 0.6, 'subsample': 0.6}</td>\n",
              "      <td>0.909776</td>\n",
              "      <td>0.970954</td>\n",
              "      <td>0.944572</td>\n",
              "      <td>0.941768</td>\n",
              "      <td>0.025054</td>\n",
              "      <td>4</td>\n",
              "      <td>0.999613</td>\n",
              "      <td>0.998645</td>\n",
              "      <td>0.999649</td>\n",
              "      <td>0.999303</td>\n",
              "      <td>0.000465</td>\n",
              "    </tr>\n",
              "    <tr>\n",
              "      <th>5</th>\n",
              "      <td>3.444964</td>\n",
              "      <td>0.011321</td>\n",
              "      <td>0.044015</td>\n",
              "      <td>0.003355</td>\n",
              "      <td>0.6</td>\n",
              "      <td>0.9</td>\n",
              "      <td>{'learning_rate': 0.6, 'subsample': 0.9}</td>\n",
              "      <td>0.900652</td>\n",
              "      <td>0.967076</td>\n",
              "      <td>0.950202</td>\n",
              "      <td>0.939310</td>\n",
              "      <td>0.028190</td>\n",
              "      <td>5</td>\n",
              "      <td>0.999575</td>\n",
              "      <td>0.999293</td>\n",
              "      <td>0.999550</td>\n",
              "      <td>0.999473</td>\n",
              "      <td>0.000127</td>\n",
              "    </tr>\n",
              "  </tbody>\n",
              "</table>\n",
              "</div>"
            ],
            "text/plain": [
              "   mean_fit_time  std_fit_time  mean_score_time  std_score_time  \\\n",
              "0       3.674570      0.231928         0.046374        0.002336   \n",
              "1       3.600664      0.076364         0.042931        0.003735   \n",
              "2       3.428432      0.008397         0.039906        0.000241   \n",
              "3       3.413751      0.008408         0.043282        0.004043   \n",
              "4       3.602159      0.013816         0.045444        0.003847   \n",
              "5       3.444964      0.011321         0.044015        0.003355   \n",
              "\n",
              "  param_learning_rate param_subsample  \\\n",
              "0                 0.2             0.3   \n",
              "1                 0.2             0.6   \n",
              "2                 0.2             0.9   \n",
              "3                 0.6             0.3   \n",
              "4                 0.6             0.6   \n",
              "5                 0.6             0.9   \n",
              "\n",
              "                                     params  split0_test_score  \\\n",
              "0  {'learning_rate': 0.2, 'subsample': 0.3}           0.918476   \n",
              "1  {'learning_rate': 0.2, 'subsample': 0.6}           0.933275   \n",
              "2  {'learning_rate': 0.2, 'subsample': 0.9}           0.924940   \n",
              "3  {'learning_rate': 0.6, 'subsample': 0.3}           0.903039   \n",
              "4  {'learning_rate': 0.6, 'subsample': 0.6}           0.909776   \n",
              "5  {'learning_rate': 0.6, 'subsample': 0.9}           0.900652   \n",
              "\n",
              "   split1_test_score  split2_test_score  mean_test_score  std_test_score  \\\n",
              "0           0.966470           0.959373         0.948106        0.021151   \n",
              "1           0.978913           0.950468         0.954218        0.018819   \n",
              "2           0.973210           0.950138         0.949429        0.019712   \n",
              "3           0.948284           0.920718         0.924014        0.018618   \n",
              "4           0.970954           0.944572         0.941768        0.025054   \n",
              "5           0.967076           0.950202         0.939310        0.028190   \n",
              "\n",
              "   rank_test_score  split0_train_score  split1_train_score  \\\n",
              "0                3            0.990313            0.984284   \n",
              "1                1            0.993116            0.987288   \n",
              "2                2            0.993739            0.989940   \n",
              "3                6            0.997775            0.995323   \n",
              "4                4            0.999613            0.998645   \n",
              "5                5            0.999575            0.999293   \n",
              "\n",
              "   split2_train_score  mean_train_score  std_train_score  \n",
              "0            0.993700          0.989432         0.003894  \n",
              "1            0.994242          0.991549         0.003047  \n",
              "2            0.994238          0.992639         0.001919  \n",
              "3            0.996475          0.996525         0.001002  \n",
              "4            0.999649          0.999303         0.000465  \n",
              "5            0.999550          0.999473         0.000127  "
            ]
          },
          "execution_count": 83,
          "metadata": {},
          "output_type": "execute_result"
        }
      ],
      "source": [
        "# Get cv results as datafame\n",
        "cv_results = pd.DataFrame(model_cv.cv_results_)\n",
        "# print cv_results\n",
        "cv_results\n"
      ]
    },
    {
      "cell_type": "markdown",
      "metadata": {
        "id": "DhdqhKH7D3VC"
      },
      "source": [
        "Convert parameters to int for plotting on x-axis\n"
      ]
    },
    {
      "cell_type": "code",
      "execution_count": 84,
      "metadata": {
        "_cell_guid": "fdb04f9e-4ada-4413-a8ae-a8bbb2cf2fac",
        "_uuid": "6e4a1bf2aea84e1361fd3234c228991273fa3ac5",
        "colab": {
          "base_uri": "https://localhost:8080/",
          "height": 350
        },
        "id": "e5o4sgkTD3VD",
        "outputId": "0c1b9d09-210f-42e6-c483-65f8971f98f0",
        "scrolled": false
      },
      "outputs": [
        {
          "data": {
            "image/png": "[encoded data removed]",
            "text/plain": [
              "<Figure size 1600x600 with 3 Axes>"
            ]
          },
          "metadata": {},
          "output_type": "display_data"
        }
      ],
      "source": [
        "# # plotting\n",
        "plt.figure(figsize=(16,6))\n",
        "\n",
        "param_grid = {'learning_rate':[0.2, 0.6],\n",
        "              'subsample':[0.3, 0.6, 0.9]}\n",
        "\n",
        "\n",
        "\n",
        "for n, subsample in enumerate(param_grid['subsample']):\n",
        "    \n",
        "\n",
        "    # subplot 1/n\n",
        "    plt.subplot(1,len(param_grid['subsample']), n+1)\n",
        "    df = cv_results[cv_results['param_subsample']==subsample]\n",
        "    \n",
        "    # plot depth_df[\"param_n_estimators\"] for depth_df[\"mean_test_score\"],depth_df[\"mean_train_score\"] \n",
        "    plt.plot(df['param_learning_rate'],df['mean_test_score'])\n",
        "    plt.plot(df['param_learning_rate'],df['mean_train_score'])\n",
        "    plt.xlabel('learning_rate')\n",
        "    plt.ylabel('AUC')\n",
        "    plt.title('max_depth={0}'.format(subsample))\n",
        "    plt.ylim([0.60,1])\n",
        "    plt.legend(['test_score','train_score'],loc='upper left')\n",
        "    plt.xscale('log')\n",
        "\n",
        "    "
      ]
    },
    {
      "cell_type": "markdown",
      "metadata": {
        "_cell_guid": "21bd521a-86d8-4e42-8e98-c2bfb83f5248",
        "_uuid": "853a028f77dfabc43dc167b4cd92ca9418818106",
        "id": "k-x6BYIqD3VD"
      },
      "source": [
        "The results show that a subsample size of 0.6 and learning_rate of about 0.2 seems optimal. \n",
        "Also, XGBoost has resulted in the highest ROC AUC obtained (across various hyperparameters). \n",
        "\n",
        "\n",
        "Let's build a final model with the chosen hyperparameters."
      ]
    },
    {
      "cell_type": "code",
      "execution_count": 85,
      "metadata": {
        "_cell_guid": "f64f6dd4-1594-434d-b006-2607929c7848",
        "_uuid": "f6d26a03087caa6804c67bec109399f32a86e4fb",
        "colab": {
          "base_uri": "https://localhost:8080/"
        },
        "id": "gj0OA89XD3VE",
        "outputId": "56fe2e6f-3ef8-42ba-8720-d456abaf3c38"
      },
      "outputs": [
        {
          "name": "stdout",
          "output_type": "stream",
          "text": [
            "[17:59:07] WARNING: C:/buildkite-agent/builds/buildkite-windows-cpu-autoscaling-group-i-08de971ced8a8cdc6-1/xgboost/xgboost-ci-windows/src/learner.cc:767: \n",
            "Parameters: { \"params\" } are not used.\n",
            "\n"
          ]
        },
        {
          "data": {
            "text/html": [
              "<style>#sk-container-id-6 {color: black;background-color: white;}#sk-container-id-6 pre{padding: 0;}#sk-container-id-6 div.sk-toggleable {background-color: white;}#sk-container-id-6 label.sk-toggleable__label {cursor: pointer;display: block;width: 100%;margin-bottom: 0;padding: 0.3em;box-sizing: border-box;text-align: center;}#sk-container-id-6 label.sk-toggleable__label-arrow:before {content: \"▸\";float: left;margin-right: 0.25em;color: #696969;}#sk-container-id-6 label.sk-toggleable__label-arrow:hover:before {color: black;}#sk-container-id-6 div.sk-estimator:hover label.sk-toggleable__label-arrow:before {color: black;}#sk-container-id-6 div.sk-toggleable__content {max-height: 0;max-width: 0;overflow: hidden;text-align: left;background-color: #f0f8ff;}#sk-container-id-6 div.sk-toggleable__content pre {margin: 0.2em;color: black;border-radius: 0.25em;background-color: #f0f8ff;}#sk-container-id-6 input.sk-toggleable__control:checked~div.sk-toggleable__content {max-height: 200px;max-width: 100%;overflow: auto;}#sk-container-id-6 input.sk-toggleable__control:checked~label.sk-toggleable__label-arrow:before {content: \"▾\";}#sk-container-id-6 div.sk-estimator input.sk-toggleable__control:checked~label.sk-toggleable__label {background-color: #d4ebff;}#sk-container-id-6 div.sk-label input.sk-toggleable__control:checked~label.sk-toggleable__label {background-color: #d4ebff;}#sk-container-id-6 input.sk-hidden--visually {border: 0;clip: rect(1px 1px 1px 1px);clip: rect(1px, 1px, 1px, 1px);height: 1px;margin: -1px;overflow: hidden;padding: 0;position: absolute;width: 1px;}#sk-container-id-6 div.sk-estimator {font-family: monospace;background-color: #f0f8ff;border: 1px dotted black;border-radius: 0.25em;box-sizing: border-box;margin-bottom: 0.5em;}#sk-container-id-6 div.sk-estimator:hover {background-color: #d4ebff;}#sk-container-id-6 div.sk-parallel-item::after {content: \"\";width: 100%;border-bottom: 1px solid gray;flex-grow: 1;}#sk-container-id-6 div.sk-label:hover label.sk-toggleable__label {background-color: #d4ebff;}#sk-container-id-6 div.sk-serial::before {content: \"\";position: absolute;border-left: 1px solid gray;box-sizing: border-box;top: 0;bottom: 0;left: 50%;z-index: 0;}#sk-container-id-6 div.sk-serial {display: flex;flex-direction: column;align-items: center;background-color: white;padding-right: 0.2em;padding-left: 0.2em;position: relative;}#sk-container-id-6 div.sk-item {position: relative;z-index: 1;}#sk-container-id-6 div.sk-parallel {display: flex;align-items: stretch;justify-content: center;background-color: white;position: relative;}#sk-container-id-6 div.sk-item::before, #sk-container-id-6 div.sk-parallel-item::before {content: \"\";position: absolute;border-left: 1px solid gray;box-sizing: border-box;top: 0;bottom: 0;left: 50%;z-index: -1;}#sk-container-id-6 div.sk-parallel-item {display: flex;flex-direction: column;z-index: 1;position: relative;background-color: white;}#sk-container-id-6 div.sk-parallel-item:first-child::after {align-self: flex-end;width: 50%;}#sk-container-id-6 div.sk-parallel-item:last-child::after {align-self: flex-start;width: 50%;}#sk-container-id-6 div.sk-parallel-item:only-child::after {width: 0;}#sk-container-id-6 div.sk-dashed-wrapped {border: 1px dashed gray;margin: 0 0.4em 0.5em 0.4em;box-sizing: border-box;padding-bottom: 0.4em;background-color: white;}#sk-container-id-6 div.sk-label label {font-family: monospace;font-weight: bold;display: inline-block;line-height: 1.2em;}#sk-container-id-6 div.sk-label-container {text-align: center;}#sk-container-id-6 div.sk-container {/* jupyter's `normalize.less` sets `[hidden] { display: none; }` but bootstrap.min.css set `[hidden] { display: none !important; }` so we also need the `!important` here to be able to override the default hidden behavior on the sphinx rendered scikit-learn.org. See: https://github.com/scikit-learn/scikit-learn/issues/21755 */display: inline-block !important;position: relative;}#sk-container-id-6 div.sk-text-repr-fallback {display: none;}</style><div id=\"sk-container-id-6\" class=\"sk-top-container\"><div class=\"sk-text-repr-fallback\"><pre>XGBClassifier(base_score=None, booster=None, callbacks=None,\n",
              "              colsample_bylevel=None, colsample_bynode=None,\n",
              "              colsample_bytree=None, early_stopping_rounds=None,\n",
              "              enable_categorical=False, eval_metric=None, feature_types=None,\n",
              "              gamma=None, gpu_id=None, grow_policy=None, importance_type=None,\n",
              "              interaction_constraints=None, learning_rate=None, max_bin=None,\n",
              "              max_cat_threshold=None, max_cat_to_onehot=None,\n",
              "              max_delta_step=None, max_depth=None, max_leaves=None,\n",
              "              min_child_weight=None, missing=nan, monotone_constraints=None,\n",
              "              n_estimators=100, n_jobs=None, num_parallel_tree=None,\n",
              "              params={&#x27;learning_rate&#x27;: 0.2, &#x27;max_depth&#x27;: 2, &#x27;n_estimators&#x27;: 200,\n",
              "                      &#x27;objective&#x27;: &#x27;binary:logistic&#x27;, &#x27;random_state&#x27;: 1,\n",
              "                      &#x27;subsample&#x27;: 0.6},\n",
              "              predictor=None, ...)</pre><b>In a Jupyter environment, please rerun this cell to show the HTML representation or trust the notebook. <br />On GitHub, the HTML representation is unable to render, please try loading this page with nbviewer.org.</b></div><div class=\"sk-container\" hidden><div class=\"sk-item\"><div class=\"sk-estimator sk-toggleable\"><input class=\"sk-toggleable__control sk-hidden--visually\" id=\"sk-estimator-id-14\" type=\"checkbox\" checked><label for=\"sk-estimator-id-14\" class=\"sk-toggleable__label sk-toggleable__label-arrow\">XGBClassifier</label><div class=\"sk-toggleable__content\"><pre>XGBClassifier(base_score=None, booster=None, callbacks=None,\n",
              "              colsample_bylevel=None, colsample_bynode=None,\n",
              "              colsample_bytree=None, early_stopping_rounds=None,\n",
              "              enable_categorical=False, eval_metric=None, feature_types=None,\n",
              "              gamma=None, gpu_id=None, grow_policy=None, importance_type=None,\n",
              "              interaction_constraints=None, learning_rate=None, max_bin=None,\n",
              "              max_cat_threshold=None, max_cat_to_onehot=None,\n",
              "              max_delta_step=None, max_depth=None, max_leaves=None,\n",
              "              min_child_weight=None, missing=nan, monotone_constraints=None,\n",
              "              n_estimators=100, n_jobs=None, num_parallel_tree=None,\n",
              "              params={&#x27;learning_rate&#x27;: 0.2, &#x27;max_depth&#x27;: 2, &#x27;n_estimators&#x27;: 200,\n",
              "                      &#x27;objective&#x27;: &#x27;binary:logistic&#x27;, &#x27;random_state&#x27;: 1,\n",
              "                      &#x27;subsample&#x27;: 0.6},\n",
              "              predictor=None, ...)</pre></div></div></div></div></div>"
            ],
            "text/plain": [
              "XGBClassifier(base_score=None, booster=None, callbacks=None,\n",
              "              colsample_bylevel=None, colsample_bynode=None,\n",
              "              colsample_bytree=None, early_stopping_rounds=None,\n",
              "              enable_categorical=False, eval_metric=None, feature_types=None,\n",
              "              gamma=None, gpu_id=None, grow_policy=None, importance_type=None,\n",
              "              interaction_constraints=None, learning_rate=None, max_bin=None,\n",
              "              max_cat_threshold=None, max_cat_to_onehot=None,\n",
              "              max_delta_step=None, max_depth=None, max_leaves=None,\n",
              "              min_child_weight=None, missing=nan, monotone_constraints=None,\n",
              "              n_estimators=100, n_jobs=None, num_parallel_tree=None,\n",
              "              params={'learning_rate': 0.2, 'max_depth': 2, 'n_estimators': 200,\n",
              "                      'objective': 'binary:logistic', 'random_state': 1,\n",
              "                      'subsample': 0.6},\n",
              "              predictor=None, ...)"
            ]
          },
          "execution_count": 85,
          "metadata": {},
          "output_type": "execute_result"
        }
      ],
      "source": [
        "# 4 chosen hyperparameters and use 'objective':'binary:logistic' which outputs probability rather than label, which we need for auc\n",
        "params = {\n",
        "    'learning_rate':0.2,\n",
        "    'max_depth':2,\n",
        "    'n_estimators':200,\n",
        "    'subsample':0.6,\n",
        "    'objective':'binary:logistic',\n",
        "    'random_state':1\n",
        "}\n",
        "\n",
        "#Instantiate XGBClassifier with params\n",
        "XGB = XGBClassifier(params=params)\n",
        "\n",
        "# fit model on training data\n",
        "XGB.fit(X_train,y_train)\n"
      ]
    },
    {
      "cell_type": "code",
      "execution_count": 86,
      "metadata": {
        "_cell_guid": "4a8c73d2-d546-4741-9f81-99359a268e7d",
        "_uuid": "2bdcff9ae7faeeeac19bce56367f6f559fe9835e",
        "colab": {
          "base_uri": "https://localhost:8080/"
        },
        "id": "R80-UXyED3VE",
        "outputId": "656dbfca-6bcd-45f0-c64c-c7e66812a434",
        "scrolled": false
      },
      "outputs": [
        {
          "data": {
            "text/plain": [
              "array([[9.9999809e-01, 1.9337567e-06],\n",
              "       [9.9998653e-01, 1.3449854e-05],\n",
              "       [9.9997407e-01, 2.5916344e-05],\n",
              "       [9.9952990e-01, 4.7011764e-04],\n",
              "       [9.9978644e-01, 2.1357677e-04],\n",
              "       [9.9999368e-01, 6.3347384e-06],\n",
              "       [9.9991673e-01, 8.3290950e-05],\n",
              "       [9.9998868e-01, 1.1305605e-05],\n",
              "       [9.9981380e-01, 1.8618918e-04],\n",
              "       [9.9910051e-01, 8.9947641e-04]], dtype=float32)"
            ]
          },
          "execution_count": 86,
          "metadata": {},
          "output_type": "execute_result"
        }
      ],
      "source": [
        "# get prediction probability\n",
        "y_pred = model.predict_proba(X_test)\n",
        "\n",
        "#print to 10 prediction result\n",
        "y_pred[:10]\n"
      ]
    },
    {
      "cell_type": "markdown",
      "metadata": {
        "_cell_guid": "02d2e492-87ef-4eb8-b028-09089fbaae18",
        "_uuid": "072559ae029cf30f092bd89c571ac7e981e1a0bf",
        "id": "k9dONIr8D3VE"
      },
      "source": [
        "The first column in y_pred is the P(0), i.e. P(not fraud), and the second column is P(1/fraud)."
      ]
    },
    {
      "cell_type": "code",
      "execution_count": 87,
      "metadata": {
        "_cell_guid": "fbf9a886-13ce-44f2-8489-7f903236f938",
        "_uuid": "fa63f1fa85a985837b2c77af4208b98522c86632",
        "colab": {
          "base_uri": "https://localhost:8080/"
        },
        "id": "G78YhoVzD3VF",
        "outputId": "e782f6bb-294a-49fe-da7f-ca07ff49df73",
        "scrolled": false
      },
      "outputs": [
        {
          "data": {
            "text/plain": [
              "0.9606303070798186"
            ]
          },
          "execution_count": 87,
          "metadata": {},
          "output_type": "execute_result"
        }
      ],
      "source": [
        "# print roc_auc score\n",
        "auc = sklearn.metrics.roc_auc_score(y_test,y_pred[:,1])\n",
        "auc\n",
        "\n"
      ]
    },
    {
      "cell_type": "markdown",
      "metadata": {
        "id": "V4H3vgzPD3VF"
      },
      "source": [
        "Even after hyerparameter tuning we got same roc_auc score. Finally, let's also look at the feature importances."
      ]
    },
    {
      "cell_type": "code",
      "execution_count": 88,
      "metadata": {
        "colab": {
          "base_uri": "https://localhost:8080/"
        },
        "id": "7IlzyzlQD3VF",
        "outputId": "e0716eed-0cbe-4bbd-afa8-e2dc71ecae4f",
        "scrolled": true
      },
      "outputs": [
        {
          "data": {
            "text/plain": [
              "{'ip': 0.047281727,\n",
              " 'app': 0.17046662,\n",
              " 'device': 0.22968644,\n",
              " 'os': 0.08196879,\n",
              " 'channel': 0.15076162,\n",
              " 'day_of_week': 0.05126994,\n",
              " 'day_of_year': 0.0,\n",
              " 'month': 0.0,\n",
              " 'hour': 0.049175907,\n",
              " 'ip_count': 0.07210445,\n",
              " 'ip_day_hour': 0.042323753,\n",
              " 'ip_hour_channel': 0.0,\n",
              " 'ip_hour_os': 0.04076993,\n",
              " 'ip_hour_app': 0.026437156,\n",
              " 'ip_hour_device': 0.037753563}"
            ]
          },
          "execution_count": 88,
          "metadata": {},
          "output_type": "execute_result"
        }
      ],
      "source": [
        "# print feature importance for each column in  a dictionary form\n",
        "importance = dict(zip(X_train.columns,model.feature_importances_))\n",
        "importance\n"
      ]
    },
    {
      "cell_type": "code",
      "execution_count": 89,
      "metadata": {
        "colab": {
          "base_uri": "https://localhost:8080/",
          "height": 265
        },
        "id": "qSJTQbzdD3VF",
        "outputId": "a730103e-3fe4-4668-d891-d38595c8a2f8"
      },
      "outputs": [
        {
          "data": {
            "image/png": "[encoded data removed]",
            "text/plain": [
              "<Figure size 640x480 with 1 Axes>"
            ]
          },
          "metadata": {},
          "output_type": "display_data"
        }
      ],
      "source": [
        "# plot feature importance for every column\n",
        "plt.bar(range(len(model.feature_importances_)),model.feature_importances_)\n",
        "plt.show()\n"
      ]
    },
    {
      "cell_type": "markdown",
      "metadata": {
        "id": "a8RhPIPsD3VG"
      },
      "source": [
        "## **`4.  LightGBM`**\n",
        "\n",
        "Reference doc: https://lightgbm.readthedocs.io/en/latest/Python-Intro.html\n",
        "\n",
        "Reference video: https://www.youtube.com/watch?v=Ph2nbuhOT04\n",
        "\n",
        "Light GBM is a fast, distributed, high-performance gradient boosting framework based on decision tree algorithm, used for ranking, classification and many other machine learning tasks.\n",
        "\n",
        "Since it is based on decision tree algorithms, it splits the tree leaf wise with the best fit whereas other boosting algorithms split the tree depth wise or level wise rather than leaf-wise. So when growing on the same leaf in Light GBM, the leaf-wise algorithm can reduce more loss than the level-wise algorithm and hence results in much better accuracy which can rarely be achieved by any of the existing boosting algorithms. Also, it is surprisingly very fast, hence the word ‘Light’.\n",
        "\n",
        "**Advantages of Light GBM**\n",
        "\n",
        "1. Faster training speed and higher efficiency: Light GBM use histogram based algorithm i.e it buckets continuous feature values into discrete bins which fasten the training procedure.\n",
        "2. Lower memory usage: Replaces continuous values to discrete bins which result in lower memory usage.\n",
        "3. Better accuracy than any other boosting algorithm: It produces much more complex trees by following leaf wise split approach rather than a level-wise approach which is the main factor in achieving higher accuracy. However, it can sometimes lead to overfitting which can be avoided by setting the max_depth parameter.\n",
        "4. Compatibility with Large Datasets: It is capable of performing equally good with large datasets with a significant reduction in training time as compared to XGBOOST.\n",
        "5. Parallel learning supported.\n",
        "\n",
        "I guess you must have got excited about the advantages of Light GBM. So lets get started with it"
      ]
    },
    {
      "cell_type": "code",
      "execution_count": 65,
      "metadata": {},
      "outputs": [
        {
          "name": "stdout",
          "output_type": "stream",
          "text": [
            "Collecting lightgbm\n",
            "  Downloading lightgbm-3.3.4-py3-none-win_amd64.whl (1.0 MB)\n",
            "     ---------------------------------------- 1.0/1.0 MB 865.0 kB/s eta 0:00:00\n",
            "Collecting wheel\n",
            "  Downloading wheel-0.38.4-py3-none-any.whl (36 kB)\n",
            "Requirement already satisfied: numpy in c:\\users\\hp\\appdata\\local\\programs\\python\\python311\\lib\\site-packages (from lightgbm) (1.23.5)\n",
            "Requirement already satisfied: scipy in c:\\users\\hp\\appdata\\local\\programs\\python\\python311\\lib\\site-packages (from lightgbm) (1.9.3)\n",
            "Requirement already satisfied: scikit-learn!=0.22.0 in c:\\users\\hp\\appdata\\local\\programs\\python\\python311\\lib\\site-packages (from lightgbm) (1.2.0)\n",
            "Requirement already satisfied: joblib>=1.1.1 in c:\\users\\hp\\appdata\\local\\programs\\python\\python311\\lib\\site-packages (from scikit-learn!=0.22.0->lightgbm) (1.2.0)\n",
            "Requirement already satisfied: threadpoolctl>=2.0.0 in c:\\users\\hp\\appdata\\local\\programs\\python\\python311\\lib\\site-packages (from scikit-learn!=0.22.0->lightgbm) (3.1.0)\n",
            "Installing collected packages: wheel, lightgbm\n",
            "Successfully installed lightgbm-3.3.4 wheel-0.38.4\n",
            "Note: you may need to restart the kernel to use updated packages.\n"
          ]
        },
        {
          "name": "stderr",
          "output_type": "stream",
          "text": [
            "\n",
            "[notice] A new release of pip available: 22.3 -> 22.3.1\n",
            "[notice] To update, run: python.exe -m pip install --upgrade pip\n"
          ]
        }
      ],
      "source": [
        "pip install lightgbm"
      ]
    },
    {
      "cell_type": "code",
      "execution_count": 90,
      "metadata": {
        "colab": {
          "base_uri": "https://localhost:8080/"
        },
        "id": "5StvwjP5D3VG",
        "outputId": "af87309e-9f17-4329-af4d-7e02e60582b5"
      },
      "outputs": [
        {
          "data": {
            "text/html": [
              "<style>#sk-container-id-7 {color: black;background-color: white;}#sk-container-id-7 pre{padding: 0;}#sk-container-id-7 div.sk-toggleable {background-color: white;}#sk-container-id-7 label.sk-toggleable__label {cursor: pointer;display: block;width: 100%;margin-bottom: 0;padding: 0.3em;box-sizing: border-box;text-align: center;}#sk-container-id-7 label.sk-toggleable__label-arrow:before {content: \"▸\";float: left;margin-right: 0.25em;color: #696969;}#sk-container-id-7 label.sk-toggleable__label-arrow:hover:before {color: black;}#sk-container-id-7 div.sk-estimator:hover label.sk-toggleable__label-arrow:before {color: black;}#sk-container-id-7 div.sk-toggleable__content {max-height: 0;max-width: 0;overflow: hidden;text-align: left;background-color: #f0f8ff;}#sk-container-id-7 div.sk-toggleable__content pre {margin: 0.2em;color: black;border-radius: 0.25em;background-color: #f0f8ff;}#sk-container-id-7 input.sk-toggleable__control:checked~div.sk-toggleable__content {max-height: 200px;max-width: 100%;overflow: auto;}#sk-container-id-7 input.sk-toggleable__control:checked~label.sk-toggleable__label-arrow:before {content: \"▾\";}#sk-container-id-7 div.sk-estimator input.sk-toggleable__control:checked~label.sk-toggleable__label {background-color: #d4ebff;}#sk-container-id-7 div.sk-label input.sk-toggleable__control:checked~label.sk-toggleable__label {background-color: #d4ebff;}#sk-container-id-7 input.sk-hidden--visually {border: 0;clip: rect(1px 1px 1px 1px);clip: rect(1px, 1px, 1px, 1px);height: 1px;margin: -1px;overflow: hidden;padding: 0;position: absolute;width: 1px;}#sk-container-id-7 div.sk-estimator {font-family: monospace;background-color: #f0f8ff;border: 1px dotted black;border-radius: 0.25em;box-sizing: border-box;margin-bottom: 0.5em;}#sk-container-id-7 div.sk-estimator:hover {background-color: #d4ebff;}#sk-container-id-7 div.sk-parallel-item::after {content: \"\";width: 100%;border-bottom: 1px solid gray;flex-grow: 1;}#sk-container-id-7 div.sk-label:hover label.sk-toggleable__label {background-color: #d4ebff;}#sk-container-id-7 div.sk-serial::before {content: \"\";position: absolute;border-left: 1px solid gray;box-sizing: border-box;top: 0;bottom: 0;left: 50%;z-index: 0;}#sk-container-id-7 div.sk-serial {display: flex;flex-direction: column;align-items: center;background-color: white;padding-right: 0.2em;padding-left: 0.2em;position: relative;}#sk-container-id-7 div.sk-item {position: relative;z-index: 1;}#sk-container-id-7 div.sk-parallel {display: flex;align-items: stretch;justify-content: center;background-color: white;position: relative;}#sk-container-id-7 div.sk-item::before, #sk-container-id-7 div.sk-parallel-item::before {content: \"\";position: absolute;border-left: 1px solid gray;box-sizing: border-box;top: 0;bottom: 0;left: 50%;z-index: -1;}#sk-container-id-7 div.sk-parallel-item {display: flex;flex-direction: column;z-index: 1;position: relative;background-color: white;}#sk-container-id-7 div.sk-parallel-item:first-child::after {align-self: flex-end;width: 50%;}#sk-container-id-7 div.sk-parallel-item:last-child::after {align-self: flex-start;width: 50%;}#sk-container-id-7 div.sk-parallel-item:only-child::after {width: 0;}#sk-container-id-7 div.sk-dashed-wrapped {border: 1px dashed gray;margin: 0 0.4em 0.5em 0.4em;box-sizing: border-box;padding-bottom: 0.4em;background-color: white;}#sk-container-id-7 div.sk-label label {font-family: monospace;font-weight: bold;display: inline-block;line-height: 1.2em;}#sk-container-id-7 div.sk-label-container {text-align: center;}#sk-container-id-7 div.sk-container {/* jupyter's `normalize.less` sets `[hidden] { display: none; }` but bootstrap.min.css set `[hidden] { display: none !important; }` so we also need the `!important` here to be able to override the default hidden behavior on the sphinx rendered scikit-learn.org. See: https://github.com/scikit-learn/scikit-learn/issues/21755 */display: inline-block !important;position: relative;}#sk-container-id-7 div.sk-text-repr-fallback {display: none;}</style><div id=\"sk-container-id-7\" class=\"sk-top-container\"><div class=\"sk-text-repr-fallback\"><pre>LGBMClassifier(random_state=1)</pre><b>In a Jupyter environment, please rerun this cell to show the HTML representation or trust the notebook. <br />On GitHub, the HTML representation is unable to render, please try loading this page with nbviewer.org.</b></div><div class=\"sk-container\" hidden><div class=\"sk-item\"><div class=\"sk-estimator sk-toggleable\"><input class=\"sk-toggleable__control sk-hidden--visually\" id=\"sk-estimator-id-15\" type=\"checkbox\" checked><label for=\"sk-estimator-id-15\" class=\"sk-toggleable__label sk-toggleable__label-arrow\">LGBMClassifier</label><div class=\"sk-toggleable__content\"><pre>LGBMClassifier(random_state=1)</pre></div></div></div></div></div>"
            ],
            "text/plain": [
              "LGBMClassifier(random_state=1)"
            ]
          },
          "execution_count": 90,
          "metadata": {},
          "output_type": "execute_result"
        }
      ],
      "source": [
        "# import lightgbm\n",
        "from lightgbm import LGBMClassifier\n",
        "\n",
        "# import lightgbm as LGBMClassifier\n",
        "\n",
        "# Instantiate LGBMClassifier with default hyperparameters and random_state=1\n",
        "LGB = LGBMClassifier(random_state=1)\n",
        "\n",
        "# fit model on training data\n",
        "LGB.fit(X_train,y_train)"
      ]
    },
    {
      "cell_type": "code",
      "execution_count": 91,
      "metadata": {
        "colab": {
          "base_uri": "https://localhost:8080/"
        },
        "id": "7U6GwUphD3VG",
        "outputId": "ebbba334-8d99-4223-ce6c-8e788d6cf3e6"
      },
      "outputs": [
        {
          "data": {
            "text/plain": [
              "array([[9.99997609e-01, 2.39140823e-06],\n",
              "       [9.99985124e-01, 1.48759511e-05],\n",
              "       [9.99998668e-01, 1.33213465e-06],\n",
              "       [9.99985600e-01, 1.43999851e-05],\n",
              "       [9.99935485e-01, 6.45154560e-05],\n",
              "       [9.99994911e-01, 5.08854217e-06],\n",
              "       [9.99995125e-01, 4.87501640e-06],\n",
              "       [1.00000000e+00, 4.45827227e-12],\n",
              "       [1.00000000e+00, 0.00000000e+00],\n",
              "       [9.99965187e-01, 3.48131849e-05]])"
            ]
          },
          "execution_count": 91,
          "metadata": {},
          "output_type": "execute_result"
        }
      ],
      "source": [
        "# use predict_proba since we need probabilities to compute auc\n",
        "y_pred = LGB.predict_proba(X_test)\n",
        "\n",
        "#print top 10 y_pred result\n",
        "y_pred[:10]\n",
        "\n"
      ]
    },
    {
      "cell_type": "code",
      "execution_count": 92,
      "metadata": {
        "colab": {
          "base_uri": "https://localhost:8080/"
        },
        "id": "fTMKpaisD3VG",
        "outputId": "2bc3d527-0215-492a-d3a9-a851d26f2ec9"
      },
      "outputs": [
        {
          "name": "stdout",
          "output_type": "stream",
          "text": [
            "AUC :84.62%\n"
          ]
        }
      ],
      "source": [
        "# evaluate predictions using roc_auc score\n",
        "roc = metrics.roc_auc_score(y_test,y_pred[:,1])\n",
        "print(\"AUC :%.2f%%\" % (roc*100.0))\n",
        "\n"
      ]
    },
    {
      "cell_type": "markdown",
      "metadata": {
        "id": "A83xQgyOD3VH"
      },
      "source": [
        "Now lets tune above model. The exhaustive list of hyperparameters in LightGBM are https://lightgbm.readthedocs.io/en/latest/Parameters-Tuning.html\n",
        "\n",
        "But lets run the LightGBM with previous selected hyperparamters i.e.\n",
        "\n",
        "`'learning_rate': 0.2,\n",
        "          'max_depth': 2, \n",
        "          'n_estimators':200,\n",
        "          'subsample':0.6,\n",
        "         'objective':'binary:logistic'\n",
        "         'random_state':1}`\n",
        "         \n",
        "Lets see if it improves"
      ]
    },
    {
      "cell_type": "code",
      "execution_count": 93,
      "metadata": {
        "colab": {
          "base_uri": "https://localhost:8080/"
        },
        "id": "_W1CMCORD3VH",
        "outputId": "ad7c6521-9ffa-4da0-f30c-3398a7576f5f"
      },
      "outputs": [
        {
          "data": {
            "text/html": [
              "<style>#sk-container-id-8 {color: black;background-color: white;}#sk-container-id-8 pre{padding: 0;}#sk-container-id-8 div.sk-toggleable {background-color: white;}#sk-container-id-8 label.sk-toggleable__label {cursor: pointer;display: block;width: 100%;margin-bottom: 0;padding: 0.3em;box-sizing: border-box;text-align: center;}#sk-container-id-8 label.sk-toggleable__label-arrow:before {content: \"▸\";float: left;margin-right: 0.25em;color: #696969;}#sk-container-id-8 label.sk-toggleable__label-arrow:hover:before {color: black;}#sk-container-id-8 div.sk-estimator:hover label.sk-toggleable__label-arrow:before {color: black;}#sk-container-id-8 div.sk-toggleable__content {max-height: 0;max-width: 0;overflow: hidden;text-align: left;background-color: #f0f8ff;}#sk-container-id-8 div.sk-toggleable__content pre {margin: 0.2em;color: black;border-radius: 0.25em;background-color: #f0f8ff;}#sk-container-id-8 input.sk-toggleable__control:checked~div.sk-toggleable__content {max-height: 200px;max-width: 100%;overflow: auto;}#sk-container-id-8 input.sk-toggleable__control:checked~label.sk-toggleable__label-arrow:before {content: \"▾\";}#sk-container-id-8 div.sk-estimator input.sk-toggleable__control:checked~label.sk-toggleable__label {background-color: #d4ebff;}#sk-container-id-8 div.sk-label input.sk-toggleable__control:checked~label.sk-toggleable__label {background-color: #d4ebff;}#sk-container-id-8 input.sk-hidden--visually {border: 0;clip: rect(1px 1px 1px 1px);clip: rect(1px, 1px, 1px, 1px);height: 1px;margin: -1px;overflow: hidden;padding: 0;position: absolute;width: 1px;}#sk-container-id-8 div.sk-estimator {font-family: monospace;background-color: #f0f8ff;border: 1px dotted black;border-radius: 0.25em;box-sizing: border-box;margin-bottom: 0.5em;}#sk-container-id-8 div.sk-estimator:hover {background-color: #d4ebff;}#sk-container-id-8 div.sk-parallel-item::after {content: \"\";width: 100%;border-bottom: 1px solid gray;flex-grow: 1;}#sk-container-id-8 div.sk-label:hover label.sk-toggleable__label {background-color: #d4ebff;}#sk-container-id-8 div.sk-serial::before {content: \"\";position: absolute;border-left: 1px solid gray;box-sizing: border-box;top: 0;bottom: 0;left: 50%;z-index: 0;}#sk-container-id-8 div.sk-serial {display: flex;flex-direction: column;align-items: center;background-color: white;padding-right: 0.2em;padding-left: 0.2em;position: relative;}#sk-container-id-8 div.sk-item {position: relative;z-index: 1;}#sk-container-id-8 div.sk-parallel {display: flex;align-items: stretch;justify-content: center;background-color: white;position: relative;}#sk-container-id-8 div.sk-item::before, #sk-container-id-8 div.sk-parallel-item::before {content: \"\";position: absolute;border-left: 1px solid gray;box-sizing: border-box;top: 0;bottom: 0;left: 50%;z-index: -1;}#sk-container-id-8 div.sk-parallel-item {display: flex;flex-direction: column;z-index: 1;position: relative;background-color: white;}#sk-container-id-8 div.sk-parallel-item:first-child::after {align-self: flex-end;width: 50%;}#sk-container-id-8 div.sk-parallel-item:last-child::after {align-self: flex-start;width: 50%;}#sk-container-id-8 div.sk-parallel-item:only-child::after {width: 0;}#sk-container-id-8 div.sk-dashed-wrapped {border: 1px dashed gray;margin: 0 0.4em 0.5em 0.4em;box-sizing: border-box;padding-bottom: 0.4em;background-color: white;}#sk-container-id-8 div.sk-label label {font-family: monospace;font-weight: bold;display: inline-block;line-height: 1.2em;}#sk-container-id-8 div.sk-label-container {text-align: center;}#sk-container-id-8 div.sk-container {/* jupyter's `normalize.less` sets `[hidden] { display: none; }` but bootstrap.min.css set `[hidden] { display: none !important; }` so we also need the `!important` here to be able to override the default hidden behavior on the sphinx rendered scikit-learn.org. See: https://github.com/scikit-learn/scikit-learn/issues/21755 */display: inline-block !important;position: relative;}#sk-container-id-8 div.sk-text-repr-fallback {display: none;}</style><div id=\"sk-container-id-8\" class=\"sk-top-container\"><div class=\"sk-text-repr-fallback\"><pre>LGBMClassifier(learning_rate=0.2, max_depth=2, n_estimators=200, random_state=1,\n",
              "               subsample=0.6)</pre><b>In a Jupyter environment, please rerun this cell to show the HTML representation or trust the notebook. <br />On GitHub, the HTML representation is unable to render, please try loading this page with nbviewer.org.</b></div><div class=\"sk-container\" hidden><div class=\"sk-item\"><div class=\"sk-estimator sk-toggleable\"><input class=\"sk-toggleable__control sk-hidden--visually\" id=\"sk-estimator-id-16\" type=\"checkbox\" checked><label for=\"sk-estimator-id-16\" class=\"sk-toggleable__label sk-toggleable__label-arrow\">LGBMClassifier</label><div class=\"sk-toggleable__content\"><pre>LGBMClassifier(learning_rate=0.2, max_depth=2, n_estimators=200, random_state=1,\n",
              "               subsample=0.6)</pre></div></div></div></div></div>"
            ],
            "text/plain": [
              "LGBMClassifier(learning_rate=0.2, max_depth=2, n_estimators=200, random_state=1,\n",
              "               subsample=0.6)"
            ]
          },
          "execution_count": 93,
          "metadata": {},
          "output_type": "execute_result"
        }
      ],
      "source": [
        "# Define parameters as above\n",
        "# params = {'learning_rate': 0.2,\n",
        "#           'max_depth': 2, \n",
        "#           'n_estimators':200,\n",
        "#           'subsample':0.6,\n",
        "#          'objective':'binary:logistic',\n",
        "#          'random_state':1}\n",
        "\n",
        "# Instantiate XGBClassifier with params\n",
        "LGB = LGBMClassifier(   learning_rate= 0.2,\n",
        "                        max_depth= 2, \n",
        "                        n_estimators=200,\n",
        "                        subsample=0.6,\n",
        "                        random_state=1)\n",
        "# fit model on training data\n",
        "LGB.fit(X_train,y_train)\n"
      ]
    },
    {
      "cell_type": "code",
      "execution_count": 95,
      "metadata": {
        "colab": {
          "base_uri": "https://localhost:8080/"
        },
        "id": "B6PQTjksD3VH",
        "outputId": "aa5c40f1-96f0-4c88-8415-211189dc1283"
      },
      "outputs": [
        {
          "name": "stdout",
          "output_type": "stream",
          "text": [
            "AUC :91.79%\n"
          ]
        }
      ],
      "source": [
        "# use predict_proba since we need probabilities to compute auc\n",
        "y_pred = LGB.predict_proba(X_test)\n",
        "\n",
        "# evaluate predictions using roc_auc score\n",
        "roc = metrics.roc_auc_score(y_test,y_pred[:,1])\n",
        "print(\"AUC :%.2f%%\" % (roc*100.0))\n"
      ]
    },
    {
      "cell_type": "markdown",
      "metadata": {
        "id": "XIQE73rfD3VH"
      },
      "source": [
        "Oh man! even after tuning we have got lower AUC score. That's fine let us try our final model which is CatBoost.\n",
        "\n",
        "\n",
        "## **`5. CatBoost`**\n",
        "\n",
        "Reference doc: https://catboost.ai/docs/concepts/python-reference_catboostclassifier.html4\n",
        "\n",
        "\n",
        "CatBoost is a recently open-sourced machine learning algorithm from Yandex. It can easily integrate with deep learning frameworks like Google’s TensorFlow and Apple’s Core ML. It can work with diverse data types to help solve a wide range of problems that businesses face today. To top it up, it provides best-in-class accuracy.\n",
        "\n",
        "It is especially powerful in two ways:\n",
        "\n",
        "It yields state-of-the-art results without extensive data training typically required by other machine learning methods, and\n",
        "Provides powerful out-of-the-box support for the more descriptive data formats that accompany many business problems.\n",
        "“CatBoost” name comes from two words “Category” and “Boosting”.\n",
        "\n",
        "As discussed, the library works well with multiple Categories of data, such as audio, text, image including historical data.\n",
        "\n",
        "Reference video below -\n",
        "dataset used: https://drive.google.com/file/d/1xzra_oUpq7sgOo8ImJtkmTqkDNmYvVMF/view?usp=sharing\n"
      ]
    },
    {
      "cell_type": "markdown",
      "metadata": {
        "id": "Aa89FRoYuOPI"
      },
      "source": [
        "## **`Watch Video 5 : CatBoost Training on GPU`**"
      ]
    },
    {
      "cell_type": "code",
      "execution_count": 56,
      "metadata": {},
      "outputs": [
        {
          "name": "stdout",
          "output_type": "stream",
          "text": [
            "Requirement already satisfied: catboost in c:\\users\\hp\\appdata\\local\\programs\\python\\python311\\lib\\site-packages (0.1.1.2)Note: you may need to restart the kernel to use updated packages.\n",
            "\n",
            "Requirement already satisfied: six in c:\\users\\hp\\appdata\\roaming\\python\\python311\\site-packages (from catboost) (1.16.0)\n",
            "Requirement already satisfied: numpy in c:\\users\\hp\\appdata\\local\\programs\\python\\python311\\lib\\site-packages (from catboost) (1.23.5)\n",
            "Requirement already satisfied: pandas in c:\\users\\hp\\appdata\\local\\programs\\python\\python311\\lib\\site-packages (from catboost) (1.5.2)\n",
            "Requirement already satisfied: python-dateutil>=2.8.1 in c:\\users\\hp\\appdata\\roaming\\python\\python311\\site-packages (from pandas->catboost) (2.8.2)\n",
            "Requirement already satisfied: pytz>=2020.1 in c:\\users\\hp\\appdata\\local\\programs\\python\\python311\\lib\\site-packages (from pandas->catboost) (2022.6)\n"
          ]
        }
      ],
      "source": [
        "pip install catboost"
      ]
    },
    {
      "cell_type": "code",
      "execution_count": 57,
      "metadata": {},
      "outputs": [
        {
          "ename": "ImportError",
          "evalue": "cannot import name 'Iterable' from 'collections' (c:\\Users\\HP\\AppData\\Local\\Programs\\Python\\Python311\\Lib\\collections\\__init__.py)",
          "output_type": "error",
          "traceback": [
            "\u001b[1;31m---------------------------------------------------------------------------\u001b[0m",
            "\u001b[1;31mImportError\u001b[0m                               Traceback (most recent call last)",
            "Cell \u001b[1;32mIn [57], line 1\u001b[0m\n\u001b[1;32m----> 1\u001b[0m \u001b[39mfrom\u001b[39;00m \u001b[39mcatboost\u001b[39;00m \u001b[39mimport\u001b[39;00m CatBoostClassifier\n",
            "File \u001b[1;32mc:\\Users\\HP\\AppData\\Local\\Programs\\Python\\Python311\\Lib\\site-packages\\catboost\\__init__.py:1\u001b[0m\n\u001b[1;32m----> 1\u001b[0m \u001b[39mfrom\u001b[39;00m \u001b[39m.\u001b[39;00m\u001b[39mcore\u001b[39;00m \u001b[39mimport\u001b[39;00m Pool, CatBoost, CatBoostClassifier, CatBoostRegressor, CatboostError, cv  \u001b[39m# noqa\u001b[39;00m\n\u001b[0;32m      2\u001b[0m \u001b[39mtry\u001b[39;00m:\n\u001b[0;32m      3\u001b[0m     \u001b[39mfrom\u001b[39;00m \u001b[39m.\u001b[39;00m\u001b[39mwidget\u001b[39;00m \u001b[39mimport\u001b[39;00m CatboostIpythonWidget  \u001b[39m# noqa\u001b[39;00m\n",
            "File \u001b[1;32mc:\\Users\\HP\\AppData\\Local\\Programs\\Python\\Python311\\Lib\\site-packages\\catboost\\core.py:4\u001b[0m\n\u001b[0;32m      2\u001b[0m \u001b[39mfrom\u001b[39;00m \u001b[39msix\u001b[39;00m \u001b[39mimport\u001b[39;00m iteritems, string_types\n\u001b[0;32m      3\u001b[0m \u001b[39mimport\u001b[39;00m \u001b[39mos\u001b[39;00m\u001b[39m.\u001b[39;00m\u001b[39mpath\u001b[39;00m\n\u001b[1;32m----> 4\u001b[0m \u001b[39mfrom\u001b[39;00m \u001b[39mcollections\u001b[39;00m \u001b[39mimport\u001b[39;00m Iterable, Sequence, Mapping, MutableMapping\n\u001b[0;32m      5\u001b[0m \u001b[39mimport\u001b[39;00m \u001b[39mwarnings\u001b[39;00m\n\u001b[0;32m      6\u001b[0m \u001b[39mimport\u001b[39;00m \u001b[39mnumpy\u001b[39;00m \u001b[39mas\u001b[39;00m \u001b[39mnp\u001b[39;00m\n",
            "\u001b[1;31mImportError\u001b[0m: cannot import name 'Iterable' from 'collections' (c:\\Users\\HP\\AppData\\Local\\Programs\\Python\\Python311\\Lib\\collections\\__init__.py)"
          ]
        }
      ],
      "source": [
        "from catboost import CatBoostClassifier"
      ]
    },
    {
      "cell_type": "code",
      "execution_count": 111,
      "metadata": {
        "colab": {
          "base_uri": "https://localhost:8080/"
        },
        "id": "HSk1lnbkD3VI",
        "outputId": "308c5e77-2282-4e38-8920-87aba43c1d47"
      },
      "outputs": [
        {
          "ename": "ImportError",
          "evalue": "cannot import name 'Iterable' from 'collections' (c:\\Users\\HP\\AppData\\Local\\Programs\\Python\\Python311\\Lib\\collections\\__init__.py)",
          "output_type": "error",
          "traceback": [
            "\u001b[1;31m---------------------------------------------------------------------------\u001b[0m",
            "\u001b[1;31mImportError\u001b[0m                               Traceback (most recent call last)",
            "Cell \u001b[1;32mIn [111], line 2\u001b[0m\n\u001b[0;32m      1\u001b[0m \u001b[39m# import CatBoostClassifier\u001b[39;00m\n\u001b[1;32m----> 2\u001b[0m \u001b[39mimport\u001b[39;00m \u001b[39mcatboost\u001b[39;00m\n\u001b[0;32m      3\u001b[0m \u001b[39m# Instantiate CatBoostClassifier with default hyperparameters and random_state=1\u001b[39;00m\n\u001b[0;32m      4\u001b[0m cat \u001b[39m=\u001b[39m catboost\u001b[39m.\u001b[39mCatBoostClassifier(random_state\u001b[39m=\u001b[39m\u001b[39m1\u001b[39m)\n",
            "File \u001b[1;32mc:\\Users\\HP\\AppData\\Local\\Programs\\Python\\Python311\\Lib\\site-packages\\catboost\\__init__.py:1\u001b[0m\n\u001b[1;32m----> 1\u001b[0m \u001b[39mfrom\u001b[39;00m \u001b[39m.\u001b[39;00m\u001b[39mcore\u001b[39;00m \u001b[39mimport\u001b[39;00m Pool, CatBoost, CatBoostClassifier, CatBoostRegressor, CatboostError, cv  \u001b[39m# noqa\u001b[39;00m\n\u001b[0;32m      2\u001b[0m \u001b[39mtry\u001b[39;00m:\n\u001b[0;32m      3\u001b[0m     \u001b[39mfrom\u001b[39;00m \u001b[39m.\u001b[39;00m\u001b[39mwidget\u001b[39;00m \u001b[39mimport\u001b[39;00m CatboostIpythonWidget  \u001b[39m# noqa\u001b[39;00m\n",
            "File \u001b[1;32mc:\\Users\\HP\\AppData\\Local\\Programs\\Python\\Python311\\Lib\\site-packages\\catboost\\core.py:4\u001b[0m\n\u001b[0;32m      2\u001b[0m \u001b[39mfrom\u001b[39;00m \u001b[39msix\u001b[39;00m \u001b[39mimport\u001b[39;00m iteritems, string_types\n\u001b[0;32m      3\u001b[0m \u001b[39mimport\u001b[39;00m \u001b[39mos\u001b[39;00m\u001b[39m.\u001b[39;00m\u001b[39mpath\u001b[39;00m\n\u001b[1;32m----> 4\u001b[0m \u001b[39mfrom\u001b[39;00m \u001b[39mcollections\u001b[39;00m \u001b[39mimport\u001b[39;00m Iterable, Sequence, Mapping, MutableMapping\n\u001b[0;32m      5\u001b[0m \u001b[39mimport\u001b[39;00m \u001b[39mwarnings\u001b[39;00m\n\u001b[0;32m      6\u001b[0m \u001b[39mimport\u001b[39;00m \u001b[39mnumpy\u001b[39;00m \u001b[39mas\u001b[39;00m \u001b[39mnp\u001b[39;00m\n",
            "\u001b[1;31mImportError\u001b[0m: cannot import name 'Iterable' from 'collections' (c:\\Users\\HP\\AppData\\Local\\Programs\\Python\\Python311\\Lib\\collections\\__init__.py)"
          ]
        }
      ],
      "source": [
        "# import CatBoostClassifier\n",
        "\n",
        "# Instantiate CatBoostClassifier with default hyperparameters and random_state=1\n",
        "cat = CatBoostClassifier(random_state=1)\n",
        "# fit model on training data\n",
        "cat.fit(X_train,y_train)\n"
      ]
    },
    {
      "cell_type": "markdown",
      "metadata": {
        "id": "TpVMMbBbD3VI"
      },
      "source": [
        "Now lets tune above model. The exhaustive list of hyperparameters in LightGBM are https://lightgbm.readthedocs.io/en/latest/Parameters-Tuning.html\n",
        "\n",
        "But lets run the CatBoost with previous selected hyperparamters i.e\n",
        "\n",
        "`learning_rate=0.2,\n",
        "max_depth=2,\n",
        "n_estimators=200,\n",
        "subsample=0.6,\n",
        "random_state=1`\n",
        "\n",
        "and lets see if it improves"
      ]
    },
    {
      "cell_type": "code",
      "execution_count": null,
      "metadata": {
        "colab": {
          "base_uri": "https://localhost:8080/"
        },
        "id": "oQDFvB9yD3VI",
        "outputId": "9a0e2f8c-1588-438d-80df-a80e31e53bf2"
      },
      "outputs": [
        {
          "name": "stdout",
          "output_type": "stream",
          "text": [
            "0:\tlearn: 0.2613983\ttotal: 26.3ms\tremaining: 5.23s\n",
            "1:\tlearn: 0.1108282\ttotal: 50.7ms\tremaining: 5.02s\n",
            "2:\tlearn: 0.0568219\ttotal: 72.9ms\tremaining: 4.79s\n",
            "3:\tlearn: 0.0348754\ttotal: 95.1ms\tremaining: 4.66s\n",
            "4:\tlearn: 0.0248676\ttotal: 116ms\tremaining: 4.51s\n",
            "5:\tlearn: 0.0195423\ttotal: 137ms\tremaining: 4.42s\n",
            "6:\tlearn: 0.0164517\ttotal: 160ms\tremaining: 4.4s\n",
            "7:\tlearn: 0.0144602\ttotal: 183ms\tremaining: 4.4s\n",
            "8:\tlearn: 0.0137709\ttotal: 204ms\tremaining: 4.33s\n",
            "9:\tlearn: 0.0131070\ttotal: 230ms\tremaining: 4.36s\n",
            "10:\tlearn: 0.0127104\ttotal: 254ms\tremaining: 4.36s\n",
            "11:\tlearn: 0.0125925\ttotal: 280ms\tremaining: 4.39s\n",
            "12:\tlearn: 0.0123707\ttotal: 305ms\tremaining: 4.39s\n",
            "13:\tlearn: 0.0122557\ttotal: 330ms\tremaining: 4.38s\n",
            "14:\tlearn: 0.0119429\ttotal: 353ms\tremaining: 4.35s\n",
            "15:\tlearn: 0.0118920\ttotal: 379ms\tremaining: 4.35s\n",
            "16:\tlearn: 0.0116891\ttotal: 401ms\tremaining: 4.31s\n",
            "17:\tlearn: 0.0115157\ttotal: 426ms\tremaining: 4.31s\n",
            "18:\tlearn: 0.0114131\ttotal: 452ms\tremaining: 4.3s\n",
            "19:\tlearn: 0.0112984\ttotal: 477ms\tremaining: 4.29s\n",
            "20:\tlearn: 0.0112507\ttotal: 503ms\tremaining: 4.29s\n",
            "21:\tlearn: 0.0111561\ttotal: 528ms\tremaining: 4.27s\n",
            "22:\tlearn: 0.0110428\ttotal: 549ms\tremaining: 4.22s\n",
            "23:\tlearn: 0.0110178\ttotal: 573ms\tremaining: 4.2s\n",
            "24:\tlearn: 0.0109817\ttotal: 596ms\tremaining: 4.17s\n",
            "25:\tlearn: 0.0109244\ttotal: 621ms\tremaining: 4.16s\n",
            "26:\tlearn: 0.0107782\ttotal: 642ms\tremaining: 4.12s\n",
            "27:\tlearn: 0.0107233\ttotal: 666ms\tremaining: 4.09s\n",
            "28:\tlearn: 0.0106744\ttotal: 691ms\tremaining: 4.08s\n",
            "29:\tlearn: 0.0105594\ttotal: 711ms\tremaining: 4.03s\n",
            "30:\tlearn: 0.0105139\ttotal: 734ms\tremaining: 4s\n",
            "31:\tlearn: 0.0104803\ttotal: 758ms\tremaining: 3.98s\n",
            "32:\tlearn: 0.0104441\ttotal: 780ms\tremaining: 3.95s\n",
            "33:\tlearn: 0.0103914\ttotal: 803ms\tremaining: 3.92s\n",
            "34:\tlearn: 0.0100930\ttotal: 827ms\tremaining: 3.9s\n",
            "35:\tlearn: 0.0100139\ttotal: 857ms\tremaining: 3.9s\n",
            "36:\tlearn: 0.0099871\ttotal: 879ms\tremaining: 3.87s\n",
            "37:\tlearn: 0.0098909\ttotal: 899ms\tremaining: 3.83s\n",
            "38:\tlearn: 0.0098186\ttotal: 918ms\tremaining: 3.79s\n",
            "39:\tlearn: 0.0097994\ttotal: 940ms\tremaining: 3.76s\n",
            "40:\tlearn: 0.0097784\ttotal: 967ms\tremaining: 3.75s\n",
            "41:\tlearn: 0.0096381\ttotal: 989ms\tremaining: 3.72s\n",
            "42:\tlearn: 0.0094136\ttotal: 1.01s\tremaining: 3.68s\n",
            "43:\tlearn: 0.0094033\ttotal: 1.03s\tremaining: 3.67s\n",
            "44:\tlearn: 0.0093856\ttotal: 1.06s\tremaining: 3.65s\n",
            "45:\tlearn: 0.0093656\ttotal: 1.08s\tremaining: 3.61s\n",
            "46:\tlearn: 0.0093125\ttotal: 1.1s\tremaining: 3.57s\n",
            "47:\tlearn: 0.0092853\ttotal: 1.12s\tremaining: 3.55s\n",
            "48:\tlearn: 0.0092218\ttotal: 1.14s\tremaining: 3.52s\n",
            "49:\tlearn: 0.0092115\ttotal: 1.16s\tremaining: 3.49s\n",
            "50:\tlearn: 0.0090945\ttotal: 1.19s\tremaining: 3.46s\n",
            "51:\tlearn: 0.0090178\ttotal: 1.21s\tremaining: 3.44s\n",
            "52:\tlearn: 0.0090101\ttotal: 1.23s\tremaining: 3.42s\n",
            "53:\tlearn: 0.0089980\ttotal: 1.26s\tremaining: 3.4s\n",
            "54:\tlearn: 0.0089844\ttotal: 1.28s\tremaining: 3.37s\n",
            "55:\tlearn: 0.0089307\ttotal: 1.3s\tremaining: 3.35s\n",
            "56:\tlearn: 0.0088525\ttotal: 1.33s\tremaining: 3.33s\n",
            "57:\tlearn: 0.0088392\ttotal: 1.35s\tremaining: 3.3s\n",
            "58:\tlearn: 0.0087907\ttotal: 1.37s\tremaining: 3.28s\n",
            "59:\tlearn: 0.0087502\ttotal: 1.4s\tremaining: 3.26s\n",
            "60:\tlearn: 0.0087415\ttotal: 1.42s\tremaining: 3.23s\n",
            "61:\tlearn: 0.0087215\ttotal: 1.44s\tremaining: 3.21s\n",
            "62:\tlearn: 0.0086721\ttotal: 1.47s\tremaining: 3.19s\n",
            "63:\tlearn: 0.0086665\ttotal: 1.49s\tremaining: 3.17s\n",
            "64:\tlearn: 0.0086326\ttotal: 1.51s\tremaining: 3.14s\n",
            "65:\tlearn: 0.0086219\ttotal: 1.53s\tremaining: 3.12s\n",
            "66:\tlearn: 0.0086091\ttotal: 1.56s\tremaining: 3.09s\n",
            "67:\tlearn: 0.0086010\ttotal: 1.58s\tremaining: 3.07s\n",
            "68:\tlearn: 0.0085948\ttotal: 1.6s\tremaining: 3.04s\n",
            "69:\tlearn: 0.0085587\ttotal: 1.63s\tremaining: 3.02s\n",
            "70:\tlearn: 0.0085445\ttotal: 1.65s\tremaining: 3s\n",
            "71:\tlearn: 0.0085400\ttotal: 1.68s\tremaining: 2.98s\n",
            "72:\tlearn: 0.0085058\ttotal: 1.7s\tremaining: 2.96s\n",
            "73:\tlearn: 0.0084838\ttotal: 1.73s\tremaining: 2.94s\n",
            "74:\tlearn: 0.0084768\ttotal: 1.75s\tremaining: 2.92s\n",
            "75:\tlearn: 0.0084546\ttotal: 1.77s\tremaining: 2.9s\n",
            "76:\tlearn: 0.0084461\ttotal: 1.8s\tremaining: 2.88s\n",
            "77:\tlearn: 0.0084422\ttotal: 1.82s\tremaining: 2.85s\n",
            "78:\tlearn: 0.0084288\ttotal: 1.86s\tremaining: 2.84s\n",
            "79:\tlearn: 0.0084143\ttotal: 1.88s\tremaining: 2.82s\n",
            "80:\tlearn: 0.0082393\ttotal: 1.9s\tremaining: 2.79s\n",
            "81:\tlearn: 0.0082340\ttotal: 1.92s\tremaining: 2.77s\n",
            "82:\tlearn: 0.0082205\ttotal: 1.95s\tremaining: 2.75s\n",
            "83:\tlearn: 0.0082159\ttotal: 1.97s\tremaining: 2.72s\n",
            "84:\tlearn: 0.0082109\ttotal: 2s\tremaining: 2.7s\n",
            "85:\tlearn: 0.0081992\ttotal: 2.02s\tremaining: 2.67s\n",
            "86:\tlearn: 0.0081718\ttotal: 2.05s\tremaining: 2.66s\n",
            "87:\tlearn: 0.0081645\ttotal: 2.07s\tremaining: 2.63s\n",
            "88:\tlearn: 0.0081594\ttotal: 2.1s\tremaining: 2.62s\n",
            "89:\tlearn: 0.0081448\ttotal: 2.12s\tremaining: 2.59s\n",
            "90:\tlearn: 0.0081303\ttotal: 2.14s\tremaining: 2.57s\n",
            "91:\tlearn: 0.0081231\ttotal: 2.16s\tremaining: 2.54s\n",
            "92:\tlearn: 0.0079888\ttotal: 2.19s\tremaining: 2.51s\n",
            "93:\tlearn: 0.0079852\ttotal: 2.21s\tremaining: 2.49s\n",
            "94:\tlearn: 0.0079701\ttotal: 2.23s\tremaining: 2.47s\n",
            "95:\tlearn: 0.0079623\ttotal: 2.25s\tremaining: 2.44s\n",
            "96:\tlearn: 0.0078645\ttotal: 2.27s\tremaining: 2.42s\n",
            "97:\tlearn: 0.0078599\ttotal: 2.3s\tremaining: 2.39s\n",
            "98:\tlearn: 0.0078373\ttotal: 2.32s\tremaining: 2.37s\n",
            "99:\tlearn: 0.0078281\ttotal: 2.35s\tremaining: 2.35s\n",
            "100:\tlearn: 0.0078242\ttotal: 2.37s\tremaining: 2.32s\n",
            "101:\tlearn: 0.0078203\ttotal: 2.39s\tremaining: 2.3s\n",
            "102:\tlearn: 0.0078056\ttotal: 2.42s\tremaining: 2.27s\n",
            "103:\tlearn: 0.0078020\ttotal: 2.44s\tremaining: 2.25s\n",
            "104:\tlearn: 0.0077859\ttotal: 2.47s\tremaining: 2.23s\n",
            "105:\tlearn: 0.0077829\ttotal: 2.49s\tremaining: 2.21s\n",
            "106:\tlearn: 0.0077762\ttotal: 2.52s\tremaining: 2.19s\n",
            "107:\tlearn: 0.0077540\ttotal: 2.54s\tremaining: 2.16s\n",
            "108:\tlearn: 0.0077501\ttotal: 2.56s\tremaining: 2.14s\n",
            "109:\tlearn: 0.0077470\ttotal: 2.59s\tremaining: 2.12s\n",
            "110:\tlearn: 0.0077371\ttotal: 2.61s\tremaining: 2.09s\n",
            "111:\tlearn: 0.0077240\ttotal: 2.63s\tremaining: 2.07s\n",
            "112:\tlearn: 0.0077175\ttotal: 2.65s\tremaining: 2.04s\n",
            "113:\tlearn: 0.0077149\ttotal: 2.67s\tremaining: 2.02s\n",
            "114:\tlearn: 0.0077068\ttotal: 2.7s\tremaining: 1.99s\n",
            "115:\tlearn: 0.0076987\ttotal: 2.73s\tremaining: 1.97s\n",
            "116:\tlearn: 0.0076920\ttotal: 2.75s\tremaining: 1.95s\n",
            "117:\tlearn: 0.0076831\ttotal: 2.78s\tremaining: 1.93s\n",
            "118:\tlearn: 0.0076779\ttotal: 2.81s\tremaining: 1.91s\n",
            "119:\tlearn: 0.0076568\ttotal: 2.84s\tremaining: 1.89s\n",
            "120:\tlearn: 0.0076490\ttotal: 2.86s\tremaining: 1.87s\n",
            "121:\tlearn: 0.0075832\ttotal: 2.88s\tremaining: 1.84s\n",
            "122:\tlearn: 0.0075111\ttotal: 2.91s\tremaining: 1.82s\n",
            "123:\tlearn: 0.0074987\ttotal: 2.93s\tremaining: 1.8s\n",
            "124:\tlearn: 0.0074905\ttotal: 2.95s\tremaining: 1.77s\n",
            "125:\tlearn: 0.0074817\ttotal: 2.98s\tremaining: 1.75s\n",
            "126:\tlearn: 0.0074758\ttotal: 3s\tremaining: 1.72s\n",
            "127:\tlearn: 0.0074733\ttotal: 3.02s\tremaining: 1.7s\n",
            "128:\tlearn: 0.0074614\ttotal: 3.04s\tremaining: 1.68s\n",
            "129:\tlearn: 0.0074536\ttotal: 3.07s\tremaining: 1.65s\n",
            "130:\tlearn: 0.0073992\ttotal: 3.09s\tremaining: 1.63s\n",
            "131:\tlearn: 0.0073972\ttotal: 3.11s\tremaining: 1.6s\n",
            "132:\tlearn: 0.0073875\ttotal: 3.13s\tremaining: 1.58s\n",
            "133:\tlearn: 0.0072389\ttotal: 3.16s\tremaining: 1.55s\n",
            "134:\tlearn: 0.0072374\ttotal: 3.18s\tremaining: 1.53s\n",
            "135:\tlearn: 0.0072345\ttotal: 3.2s\tremaining: 1.51s\n",
            "136:\tlearn: 0.0072286\ttotal: 3.23s\tremaining: 1.48s\n",
            "137:\tlearn: 0.0071934\ttotal: 3.25s\tremaining: 1.46s\n",
            "138:\tlearn: 0.0071841\ttotal: 3.26s\tremaining: 1.43s\n",
            "139:\tlearn: 0.0071574\ttotal: 3.29s\tremaining: 1.41s\n",
            "140:\tlearn: 0.0071555\ttotal: 3.31s\tremaining: 1.39s\n",
            "141:\tlearn: 0.0071449\ttotal: 3.33s\tremaining: 1.36s\n",
            "142:\tlearn: 0.0071411\ttotal: 3.36s\tremaining: 1.34s\n",
            "143:\tlearn: 0.0071382\ttotal: 3.38s\tremaining: 1.31s\n",
            "144:\tlearn: 0.0071336\ttotal: 3.41s\tremaining: 1.29s\n",
            "145:\tlearn: 0.0071153\ttotal: 3.43s\tremaining: 1.27s\n",
            "146:\tlearn: 0.0071128\ttotal: 3.45s\tremaining: 1.25s\n",
            "147:\tlearn: 0.0071091\ttotal: 3.48s\tremaining: 1.22s\n",
            "148:\tlearn: 0.0070921\ttotal: 3.5s\tremaining: 1.2s\n",
            "149:\tlearn: 0.0070889\ttotal: 3.52s\tremaining: 1.17s\n",
            "150:\tlearn: 0.0070841\ttotal: 3.54s\tremaining: 1.15s\n",
            "151:\tlearn: 0.0070822\ttotal: 3.57s\tremaining: 1.13s\n",
            "152:\tlearn: 0.0070791\ttotal: 3.59s\tremaining: 1.1s\n",
            "153:\tlearn: 0.0070756\ttotal: 3.61s\tremaining: 1.08s\n",
            "154:\tlearn: 0.0070681\ttotal: 3.63s\tremaining: 1.05s\n",
            "155:\tlearn: 0.0070592\ttotal: 3.66s\tremaining: 1.03s\n",
            "156:\tlearn: 0.0070564\ttotal: 3.68s\tremaining: 1.01s\n",
            "157:\tlearn: 0.0070544\ttotal: 3.7s\tremaining: 984ms\n",
            "158:\tlearn: 0.0070533\ttotal: 3.73s\tremaining: 961ms\n",
            "159:\tlearn: 0.0070290\ttotal: 3.75s\tremaining: 937ms\n",
            "160:\tlearn: 0.0070221\ttotal: 3.77s\tremaining: 914ms\n",
            "161:\tlearn: 0.0069959\ttotal: 3.8s\tremaining: 891ms\n",
            "162:\tlearn: 0.0069944\ttotal: 3.83s\tremaining: 868ms\n",
            "163:\tlearn: 0.0069902\ttotal: 3.86s\tremaining: 847ms\n",
            "164:\tlearn: 0.0069559\ttotal: 3.88s\tremaining: 822ms\n",
            "165:\tlearn: 0.0069547\ttotal: 3.9s\tremaining: 799ms\n",
            "166:\tlearn: 0.0069499\ttotal: 3.92s\tremaining: 775ms\n",
            "167:\tlearn: 0.0069376\ttotal: 3.95s\tremaining: 752ms\n",
            "168:\tlearn: 0.0069367\ttotal: 3.97s\tremaining: 728ms\n",
            "169:\tlearn: 0.0069323\ttotal: 4s\tremaining: 705ms\n",
            "170:\tlearn: 0.0069115\ttotal: 4.02s\tremaining: 681ms\n",
            "171:\tlearn: 0.0069062\ttotal: 4.04s\tremaining: 658ms\n",
            "172:\tlearn: 0.0068937\ttotal: 4.06s\tremaining: 634ms\n",
            "173:\tlearn: 0.0068798\ttotal: 4.08s\tremaining: 610ms\n",
            "174:\tlearn: 0.0068744\ttotal: 4.1s\tremaining: 586ms\n",
            "175:\tlearn: 0.0068729\ttotal: 4.13s\tremaining: 563ms\n",
            "176:\tlearn: 0.0068676\ttotal: 4.14s\tremaining: 539ms\n",
            "177:\tlearn: 0.0068663\ttotal: 4.17s\tremaining: 515ms\n",
            "178:\tlearn: 0.0068642\ttotal: 4.2s\tremaining: 493ms\n",
            "179:\tlearn: 0.0068591\ttotal: 4.22s\tremaining: 469ms\n",
            "180:\tlearn: 0.0068291\ttotal: 4.24s\tremaining: 446ms\n",
            "181:\tlearn: 0.0068227\ttotal: 4.26s\tremaining: 422ms\n",
            "182:\tlearn: 0.0068156\ttotal: 4.29s\tremaining: 398ms\n",
            "183:\tlearn: 0.0068126\ttotal: 4.31s\tremaining: 375ms\n",
            "184:\tlearn: 0.0068073\ttotal: 4.33s\tremaining: 351ms\n",
            "185:\tlearn: 0.0068041\ttotal: 4.35s\tremaining: 328ms\n",
            "186:\tlearn: 0.0068008\ttotal: 4.37s\tremaining: 304ms\n",
            "187:\tlearn: 0.0067833\ttotal: 4.4s\tremaining: 281ms\n",
            "188:\tlearn: 0.0067822\ttotal: 4.42s\tremaining: 257ms\n",
            "189:\tlearn: 0.0067752\ttotal: 4.45s\tremaining: 234ms\n",
            "190:\tlearn: 0.0067639\ttotal: 4.47s\tremaining: 211ms\n",
            "191:\tlearn: 0.0067609\ttotal: 4.49s\tremaining: 187ms\n",
            "192:\tlearn: 0.0067583\ttotal: 4.51s\tremaining: 164ms\n",
            "193:\tlearn: 0.0067397\ttotal: 4.54s\tremaining: 140ms\n",
            "194:\tlearn: 0.0067377\ttotal: 4.57s\tremaining: 117ms\n",
            "195:\tlearn: 0.0067289\ttotal: 4.59s\tremaining: 93.6ms\n",
            "196:\tlearn: 0.0067130\ttotal: 4.62s\tremaining: 70.3ms\n",
            "197:\tlearn: 0.0067071\ttotal: 4.64s\tremaining: 46.9ms\n",
            "198:\tlearn: 0.0067020\ttotal: 4.66s\tremaining: 23.4ms\n",
            "199:\tlearn: 0.0066969\ttotal: 4.68s\tremaining: 0us\n"
          ]
        },
        {
          "data": {
            "text/plain": [
              "<catboost.core.CatBoostClassifier at 0x7fd99d367310>"
            ]
          },
          "execution_count": 76,
          "metadata": {
            "tags": []
          },
          "output_type": "execute_result"
        }
      ],
      "source": [
        "\n",
        "# Instantiate CatBoostClassifier with params\n",
        "cat = CatBoostClassifier(learning_rate=0.2,max_depth=2,n_estimators=200,subsample=0.6,random_state=1) \n",
        "# fit model on training data\n",
        "cat.fit(X_train,y_train)"
      ]
    },
    {
      "cell_type": "code",
      "execution_count": null,
      "metadata": {
        "colab": {
          "base_uri": "https://localhost:8080/"
        },
        "id": "AS4dO6AkD3VI",
        "outputId": "e1075ad4-d254-436b-d01b-680a61ec4671"
      },
      "outputs": [
        {
          "name": "stdout",
          "output_type": "stream",
          "text": [
            "AUC: 96.29%\n"
          ]
        }
      ],
      "source": [
        "# use predict_proba since we need probabilities to compute auc\n",
        "y_pred = cat.predict_proba(X_test)\n",
        "\n",
        "\n",
        "# evaluate predictions using roc_auc score\n",
        "roc = metrics.roc_auc_score(y_test,y_pred[:,1])\n",
        "print(\"AUC :%.2f%%\" % (roc*100.0))\n"
      ]
    },
    {
      "cell_type": "markdown",
      "metadata": {
        "id": "7PevkKhdD3VJ"
      },
      "source": [
        "Wohoo! oh yes. Your final model can come to your rescue. CatBoost gives slightly better result than all other models which we tried till now."
      ]
    },
    {
      "cell_type": "markdown",
      "metadata": {
        "_cell_guid": "b753bc69-f824-4ed5-8f27-ec391f0cb820",
        "_uuid": "e02e3ccc572ac3bbcc9a40b8dd2bbe269a36994d",
        "id": "ll4QNddSD3VJ"
      },
      "source": [
        "\n",
        "Recommendations for training:\n",
        "- We have used only a fraction of the training set (train_sample, 100k rows), the full training data on Kaggle (train.csv) has about 180 million rows. You'll get good results only if you train the model on a significant portion of the training dataset.  \n",
        "- Because of the size, you'll need to use Colab kernels to train the model on full training data. Colab kernels provide powerful computation capacities on cloud (for free). \n",
        "- Even on the kernel, you may need to use a portion of the training dataset (try using the last 20-30 million rows).\n",
        "- Make sure you save memory by following some tricks and best practices, else you won't be able to train the model at all on a large dataset.\n",
        "\n",
        "\n",
        "Finally in this assignment you have learned about various boosting techniques and in previous assignment you had learned about Bagging techniques. We hope you understood the difference between them and their use.\n",
        "\n",
        "You can refer below videos to know interesting Interview questions on Boosting techniques. \n",
        "\n",
        "https://www.youtube.com/watch?v=EHewTwtYcgE\n",
        "\n",
        "\n"
      ]
    },
    {
      "cell_type": "markdown",
      "metadata": {
        "id": "O-jAA4y9D3VJ"
      },
      "source": [
        "From above you can see that most of the International footbal tournament were on sunday. Such small small analysis becomes usefull for our machine learning problems to solve.\n",
        "\n",
        "All these feature engineering techniques becomes very important to bring good insights and results for any machine learning problems, hence we hope that you understand the importance of feature engineering as part of data science.\n",
        "\n",
        "---------------------\n",
        "# Peaceable with ensemble! Congrats..you have completed your ML Ensemble challenge\n",
        "---------------------\n",
        "\n",
        "\n",
        "# FeedBack\n",
        "We hope you’ve enjoyed this course so far. We’re committed to help you use \"AI for All\" course to its full potential, so that you have a great learning experience. And that’s why we need your help in form of a feedback here.\n",
        "\n",
        "Please fill this feedback form https://zfrmz.in/MtRG5oWXBdesm6rmSM7N"
      ]
    }
  ],
  "metadata": {
    "colab": {
      "collapsed_sections": [],
      "provenance": []
    },
    "kernelspec": {
      "display_name": "Python 3",
      "language": "python",
      "name": "python3"
    },
    "language_info": {
      "codemirror_mode": {
        "name": "ipython",
        "version": 3
      },
      "file_extension": ".py",
      "mimetype": "text/x-python",
      "name": "python",
      "nbconvert_exporter": "python",
      "pygments_lexer": "ipython3",
      "version": "3.11.0 (main, Oct 24 2022, 18:26:48) [MSC v.1933 64 bit (AMD64)]"
    },
    "latex_envs": {
      "LaTeX_envs_menu_present": true,
      "autoclose": false,
      "autocomplete": true,
      "bibliofile": "biblio.bib",
      "cite_by": "apalike",
      "current_citInitial": 1,
      "eqLabelWithNumbers": true,
      "eqNumInitial": 1,
      "hotkeys": {
        "equation": "Ctrl-E",
        "itemize": "Ctrl-I"
      },
      "labels_anchors": false,
      "latex_user_defs": false,
      "report_style_numbering": false,
      "user_envs_cfg": false
    },
    "vscode": {
      "interpreter": {
        "hash": "1f6a27bcfbe46a917dbd192f4a82657396dda26148bae633192e8d28c70725f1"
      }
    }
  },
  "nbformat": 4,
  "nbformat_minor": 0
}
